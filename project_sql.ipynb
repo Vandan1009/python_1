{
  "cells": [
    {
      "cell_type": "markdown",
      "metadata": {
        "id": "view-in-github",
        "colab_type": "text"
      },
      "source": [
        "<a href=\"https://colab.research.google.com/github/Vandan1009/python_1/blob/main/project_sql.ipynb\" target=\"_parent\"><img src=\"https://colab.research.google.com/assets/colab-badge.svg\" alt=\"Open In Colab\"/></a>"
      ]
    },
    {
      "cell_type": "code",
      "source": [
        "!pip install pyspark"
      ],
      "metadata": {
        "id": "9WZYzEIO0-fX",
        "outputId": "1ca0cbdd-dc8d-42ed-eccd-85beab07b077",
        "colab": {
          "base_uri": "https://localhost:8080/"
        }
      },
      "execution_count": 1,
      "outputs": [
        {
          "output_type": "stream",
          "name": "stdout",
          "text": [
            "Collecting pyspark\n",
            "  Downloading pyspark-3.5.2.tar.gz (317.3 MB)\n",
            "\u001b[2K     \u001b[90m━━━━━━━━━━━━━━━━━━━━━━━━━━━━━━━━━━━━━━━━\u001b[0m \u001b[32m317.3/317.3 MB\u001b[0m \u001b[31m4.6 MB/s\u001b[0m eta \u001b[36m0:00:00\u001b[0m\n",
            "\u001b[?25h  Preparing metadata (setup.py) ... \u001b[?25l\u001b[?25hdone\n",
            "Requirement already satisfied: py4j==0.10.9.7 in /usr/local/lib/python3.10/dist-packages (from pyspark) (0.10.9.7)\n",
            "Building wheels for collected packages: pyspark\n",
            "  Building wheel for pyspark (setup.py) ... \u001b[?25l\u001b[?25hdone\n",
            "  Created wheel for pyspark: filename=pyspark-3.5.2-py2.py3-none-any.whl size=317812365 sha256=3bcc8bc7423ee303482226359e32dbd452639e3e5b6de25dff3a4050e78a02a4\n",
            "  Stored in directory: /root/.cache/pip/wheels/34/34/bd/03944534c44b677cd5859f248090daa9fb27b3c8f8e5f49574\n",
            "Successfully built pyspark\n",
            "Installing collected packages: pyspark\n",
            "Successfully installed pyspark-3.5.2\n"
          ]
        }
      ]
    },
    {
      "cell_type": "code",
      "source": [
        "from pyspark.sql import SparkSession, SQLContext\n"
      ],
      "metadata": {
        "id": "acvoLbsM1DRn"
      },
      "execution_count": 3,
      "outputs": []
    },
    {
      "cell_type": "code",
      "source": [
        "lti_spark = SparkSession.builder.appName(\"ProductRatings\").getOrCreate()\n"
      ],
      "metadata": {
        "id": "Bhy7JpWl1gPP"
      },
      "execution_count": 4,
      "outputs": []
    },
    {
      "cell_type": "code",
      "source": [
        "df=lti_spark.read.csv('/content/final_data (3).csv',header=True,inferSchema=True)"
      ],
      "metadata": {
        "id": "SX5K2o745KmZ"
      },
      "execution_count": 6,
      "outputs": []
    },
    {
      "cell_type": "code",
      "source": [
        "new = df\n",
        "new.createOrReplaceTempView(\"products\")"
      ],
      "metadata": {
        "id": "9vuu0LM22lfr"
      },
      "execution_count": 7,
      "outputs": []
    },
    {
      "cell_type": "code",
      "source": [
        "df.show()"
      ],
      "metadata": {
        "id": "v6z9xbJ447Mx",
        "outputId": "fac6dd36-3bf3-4923-8d18-e05becd36baf",
        "colab": {
          "base_uri": "https://localhost:8080/"
        }
      },
      "execution_count": 8,
      "outputs": [
        {
          "output_type": "stream",
          "name": "stdout",
          "text": [
            "+----------+--------------+------+--------------------+--------+-------------+----------------+------+--------------------+\n",
            "|product_id|  product_name| Price|         Description|Category|StockQuantity|           Brand|Rating|           Warehouse|\n",
            "+----------+--------------+------+--------------------+--------+-------------+----------------+------+--------------------+\n",
            "|    2928.0|  Toy Tool Set| 97.19|Kid future itself...|    Toys|         49.0|          Disney|   1.1|             Hungary|\n",
            "|    5349.0|  Rubik's Cube| 344.7|Range heavy thoug...|    Toys|         26.0|          Disney|   4.6|             Vietnam|\n",
            "|     847.0|     Dollhouse| 80.21|Form fill yet nat...|    Toys|         70.0|Thomas & Friends|   2.8|           Singapore|\n",
            "|    3463.0|  Toy Dinosaur|442.73|Low matter build ...|    Toys|         85.0|          Disney|   1.7|           Indonesia|\n",
            "|    9252.0|  Rubik's Cube|182.74|Take walk step de...|    Toys|         82.0|       DC Comics|   2.3|             Ireland|\n",
            "|     269.0|Stuffed Animal| 414.4|Four cup professi...|    Toys|         40.0|            Brio|   4.9|             Ireland|\n",
            "|   10209.0|     Toy Train|337.68| Myself strong just.|    Toys|         42.0|           VTech|   2.1|             Hungary|\n",
            "|    5230.0|       Toy Car| 16.18|Lay stay pattern ...|    Toys|         48.0|    Transformers|   4.3|              Kuwait|\n",
            "|    5627.0|      Play-Doh|152.43|People rule prepa...|    Toys|         35.0|      Mega Bloks|   4.6|             Ukraine|\n",
            "|    3632.0|       Toy Car|253.71|Our truth over re...|    Toys|         62.0|       Star Wars|   3.2|             Belgium|\n",
            "|    2479.0|        Puzzle|  76.0|Shoulder do he im...|    Toys|         37.0|            Brio|   1.6|              Norway|\n",
            "|    6036.0|Stuffed Animal|207.78|Two save probably...|    Toys|         73.0|  My Little Pony|   1.5|         New Zealand|\n",
            "|     708.0|Stuffed Animal|297.43|Fund drive presen...|    Toys|         26.0|    Transformers|   2.3|               Qatar|\n",
            "|    8528.0| Action Figure| 145.0|Respond nature he...|    Toys|         66.0|      Hot Wheels|   2.5|             Belgium|\n",
            "|    9250.0|       Toy Car|439.24|Few choice memory...|    Toys|         87.0|          Marvel|   4.0|               Chile|\n",
            "|    1420.0|  Toy Dinosaur|103.24|Gas guess way aro...|    Toys|         28.0|        Schleich|   2.1|            Malaysia|\n",
            "|    7452.0|          Kite| 34.86|Hit oil upon whil...|    Toys|         60.0|    Fisher-Price|   2.6|         Philippines|\n",
            "|    2343.0|  Toy Tool Set| 229.2|Forward not wear ...|    Toys|         88.0|  Melissa & Doug|   1.3|             Denmark|\n",
            "|    9828.0|  Toy Tool Set|308.93|     More many tell.|    Toys|         71.0|      Paw Patrol|   2.0|              France|\n",
            "|    3570.0|   Toy Soldier|256.67|Small these once ...|    Toys|         82.0|            Nerf|   4.3|United Arab Emirates|\n",
            "+----------+--------------+------+--------------------+--------+-------------+----------------+------+--------------------+\n",
            "only showing top 20 rows\n",
            "\n"
          ]
        }
      ]
    },
    {
      "cell_type": "code",
      "source": [],
      "metadata": {
        "id": "02duEWDK5bGw"
      },
      "execution_count": null,
      "outputs": []
    }
  ],
  "metadata": {
    "colab": {
      "name": "Welcome To Colab",
      "provenance": [],
      "include_colab_link": true
    },
    "kernelspec": {
      "display_name": "Python 3",
      "name": "python3"
    }
  },
  "nbformat": 4,
  "nbformat_minor": 0
}