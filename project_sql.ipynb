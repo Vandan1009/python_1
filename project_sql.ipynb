{
  "cells": [
    {
      "cell_type": "markdown",
      "metadata": {
        "id": "view-in-github",
        "colab_type": "text"
      },
      "source": [
        "<a href=\"https://colab.research.google.com/github/Vandan1009/python_1/blob/main/project_sql.ipynb\" target=\"_parent\"><img src=\"https://colab.research.google.com/assets/colab-badge.svg\" alt=\"Open In Colab\"/></a>"
      ]
    },
    {
      "cell_type": "code",
      "source": [
        "!pip install pyspark"
      ],
      "metadata": {
        "id": "9WZYzEIO0-fX",
        "outputId": "860ea0b8-06a8-4de0-be39-d4fbd735d7e8",
        "colab": {
          "base_uri": "https://localhost:8080/"
        }
      },
      "execution_count": 1,
      "outputs": [
        {
          "output_type": "stream",
          "name": "stdout",
          "text": [
            "Collecting pyspark\n",
            "  Downloading pyspark-3.5.2.tar.gz (317.3 MB)\n",
            "\u001b[2K     \u001b[90m━━━━━━━━━━━━━━━━━━━━━━━━━━━━━━━━━━━━━━━━\u001b[0m \u001b[32m317.3/317.3 MB\u001b[0m \u001b[31m4.1 MB/s\u001b[0m eta \u001b[36m0:00:00\u001b[0m\n",
            "\u001b[?25h  Preparing metadata (setup.py) ... \u001b[?25l\u001b[?25hdone\n",
            "Requirement already satisfied: py4j==0.10.9.7 in /usr/local/lib/python3.10/dist-packages (from pyspark) (0.10.9.7)\n",
            "Building wheels for collected packages: pyspark\n",
            "  Building wheel for pyspark (setup.py) ... \u001b[?25l\u001b[?25hdone\n",
            "  Created wheel for pyspark: filename=pyspark-3.5.2-py2.py3-none-any.whl size=317812365 sha256=4b69bea8fcd99baa0f44bee90e6108ae26a6f6c118a87b897e899095d23adbc1\n",
            "  Stored in directory: /root/.cache/pip/wheels/34/34/bd/03944534c44b677cd5859f248090daa9fb27b3c8f8e5f49574\n",
            "Successfully built pyspark\n",
            "Installing collected packages: pyspark\n",
            "Successfully installed pyspark-3.5.2\n"
          ]
        }
      ]
    },
    {
      "cell_type": "code",
      "source": [
        "from pyspark.sql import SparkSession, SQLContext\n"
      ],
      "metadata": {
        "id": "acvoLbsM1DRn"
      },
      "execution_count": 2,
      "outputs": []
    },
    {
      "cell_type": "code",
      "source": [
        "spark = SparkSession.builder.appName(\"ProductRatings\").getOrCreate()\n"
      ],
      "metadata": {
        "id": "Bhy7JpWl1gPP"
      },
      "execution_count": 3,
      "outputs": []
    },
    {
      "cell_type": "code",
      "source": [
        "df=spark.read.csv('/content/final_data (3).csv',header=True,inferSchema=True)"
      ],
      "metadata": {
        "id": "SX5K2o745KmZ"
      },
      "execution_count": 5,
      "outputs": []
    },
    {
      "cell_type": "code",
      "source": [
        "new = df\n",
        "new.createOrReplaceTempView(\"products\")"
      ],
      "metadata": {
        "id": "9vuu0LM22lfr"
      },
      "execution_count": 6,
      "outputs": []
    },
    {
      "cell_type": "code",
      "source": [
        "df.show()"
      ],
      "metadata": {
        "id": "v6z9xbJ447Mx",
        "outputId": "88bac473-c405-449f-9ab7-5eba20d4bfbd",
        "colab": {
          "base_uri": "https://localhost:8080/"
        }
      },
      "execution_count": 7,
      "outputs": [
        {
          "output_type": "stream",
          "name": "stdout",
          "text": [
            "+----------+--------------+------+--------------------+--------+-------------+----------------+------+--------------------+\n",
            "|product_id|  product_name| Price|         Description|Category|StockQuantity|           Brand|Rating|           Warehouse|\n",
            "+----------+--------------+------+--------------------+--------+-------------+----------------+------+--------------------+\n",
            "|    2928.0|  Toy Tool Set| 97.19|Kid future itself...|    Toys|         49.0|          Disney|   1.1|             Hungary|\n",
            "|    5349.0|  Rubik's Cube| 344.7|Range heavy thoug...|    Toys|         26.0|          Disney|   4.6|             Vietnam|\n",
            "|     847.0|     Dollhouse| 80.21|Form fill yet nat...|    Toys|         70.0|Thomas & Friends|   2.8|           Singapore|\n",
            "|    3463.0|  Toy Dinosaur|442.73|Low matter build ...|    Toys|         85.0|          Disney|   1.7|           Indonesia|\n",
            "|    9252.0|  Rubik's Cube|182.74|Take walk step de...|    Toys|         82.0|       DC Comics|   2.3|             Ireland|\n",
            "|     269.0|Stuffed Animal| 414.4|Four cup professi...|    Toys|         40.0|            Brio|   4.9|             Ireland|\n",
            "|   10209.0|     Toy Train|337.68| Myself strong just.|    Toys|         42.0|           VTech|   2.1|             Hungary|\n",
            "|    5230.0|       Toy Car| 16.18|Lay stay pattern ...|    Toys|         48.0|    Transformers|   4.3|              Kuwait|\n",
            "|    5627.0|      Play-Doh|152.43|People rule prepa...|    Toys|         35.0|      Mega Bloks|   4.6|             Ukraine|\n",
            "|    3632.0|       Toy Car|253.71|Our truth over re...|    Toys|         62.0|       Star Wars|   3.2|             Belgium|\n",
            "|    2479.0|        Puzzle|  76.0|Shoulder do he im...|    Toys|         37.0|            Brio|   1.6|              Norway|\n",
            "|    6036.0|Stuffed Animal|207.78|Two save probably...|    Toys|         73.0|  My Little Pony|   1.5|         New Zealand|\n",
            "|     708.0|Stuffed Animal|297.43|Fund drive presen...|    Toys|         26.0|    Transformers|   2.3|               Qatar|\n",
            "|    8528.0| Action Figure| 145.0|Respond nature he...|    Toys|         66.0|      Hot Wheels|   2.5|             Belgium|\n",
            "|    9250.0|       Toy Car|439.24|Few choice memory...|    Toys|         87.0|          Marvel|   4.0|               Chile|\n",
            "|    1420.0|  Toy Dinosaur|103.24|Gas guess way aro...|    Toys|         28.0|        Schleich|   2.1|            Malaysia|\n",
            "|    7452.0|          Kite| 34.86|Hit oil upon whil...|    Toys|         60.0|    Fisher-Price|   2.6|         Philippines|\n",
            "|    2343.0|  Toy Tool Set| 229.2|Forward not wear ...|    Toys|         88.0|  Melissa & Doug|   1.3|             Denmark|\n",
            "|    9828.0|  Toy Tool Set|308.93|     More many tell.|    Toys|         71.0|      Paw Patrol|   2.0|              France|\n",
            "|    3570.0|   Toy Soldier|256.67|Small these once ...|    Toys|         82.0|            Nerf|   4.3|United Arab Emirates|\n",
            "+----------+--------------+------+--------------------+--------+-------------+----------------+------+--------------------+\n",
            "only showing top 20 rows\n",
            "\n"
          ]
        }
      ]
    },
    {
      "cell_type": "code",
      "source": [
        "spark.sql('''\n",
        "SELECT product_id, product_name, Price, Category, StockQuantity, Brand, Rating, Warehouse\n",
        "FROM Products\n",
        "WHERE Category = 'Electronics';\n",
        "''').show()"
      ],
      "metadata": {
        "id": "02duEWDK5bGw",
        "outputId": "b140a023-09ba-4488-c845-1fc71366f8a2",
        "colab": {
          "base_uri": "https://localhost:8080/"
        }
      },
      "execution_count": 8,
      "outputs": [
        {
          "output_type": "stream",
          "name": "stdout",
          "text": [
            "+----------+--------------------+---------+-----------+-------------+---------+------+--------------+\n",
            "|product_id|        product_name|    Price|   Category|StockQuantity|    Brand|Rating|     Warehouse|\n",
            "+----------+--------------------+---------+-----------+-------------+---------+------+--------------+\n",
            "|    5761.0|Wearable Fitness ...| 28678.56|Electronics|         78.0|  Samsung|   1.0|         Egypt|\n",
            "|    4901.0|    Air Conditioners| 36859.54|Electronics|         84.0|  Toshiba|   2.5|       Vietnam|\n",
            "|    7877.0|    Security Cameras| 34801.44|Electronics|         95.0|   Realme|   4.2|     Argentina|\n",
            "|    8850.0|   Portable Chargers| 113356.4|Electronics|         50.0|   Huawei|   2.4|United Kingdom|\n",
            "|    4518.0|            Monitors|121503.73|Electronics|         55.0|     Asus|   4.5|        Mexico|\n",
            "|    8863.0|             Laptops| 88953.24|Electronics|         21.0|Whirlpool|   4.5|  South Africa|\n",
            "|   10021.0|          Microwaves|  29432.7|Electronics|         86.0|     Bose|   4.2|       Belgium|\n",
            "|    5375.0|    Security Cameras| 43152.05|Electronics|         57.0|     Sony|   3.2|      Colombia|\n",
            "|   11661.0|            Printers| 18453.13|Electronics|          6.0|   Google|   1.7|        Poland|\n",
            "|      11.0|   Portable Chargers| 39509.19|Electronics|         45.0|  Siemens|   3.4|   Philippines|\n",
            "|   11868.0|     Digital Cameras|130201.22|Electronics|          2.0|    Canon|   2.6|         Chile|\n",
            "|   11052.0|    Security Cameras|147722.25|Electronics|         50.0|     Acer|   1.5|         Qatar|\n",
            "|    9375.0|           E-readers| 90790.84|Electronics|         39.0|    GoPro|   1.4|       Romania|\n",
            "|   10341.0|  Keyboards and Mice|140888.95|Electronics|         86.0| Logitech|   4.1|  Saudi Arabia|\n",
            "|    8374.0|            Printers|113830.94|Electronics|         46.0|   Amazon|   1.3|        France|\n",
            "|    2264.0|   Streaming Devices| 10238.64|Electronics|         70.0|    GoPro|   3.6|        Russia|\n",
            "|    2598.0|            Printers| 61321.77|Electronics|         86.0| Logitech|   1.8|        Kuwait|\n",
            "|    5025.0|Wearable Fitness ...| 90574.26|Electronics|         29.0|    Nikon|   2.8|        Canada|\n",
            "|    5244.0|          Microwaves|  2969.61|Electronics|         71.0|  Philips|   4.7|Czech Republic|\n",
            "|    3938.0|            Monitors|130416.27|Electronics|         96.0|     Dell|   1.1|          Peru|\n",
            "+----------+--------------------+---------+-----------+-------------+---------+------+--------------+\n",
            "only showing top 20 rows\n",
            "\n"
          ]
        }
      ]
    },
    {
      "cell_type": "code",
      "source": [
        "spark.sql('''SELECT product_id, product_name, Price, Category, StockQuantity, Brand, Rating, Warehouse\n",
        "FROM Products\n",
        "WHERE Rating > 4.5;''').show()"
      ],
      "metadata": {
        "id": "vBgICWcjmuzE",
        "outputId": "58167bba-515c-43e3-97f8-ec776c13d407",
        "colab": {
          "base_uri": "https://localhost:8080/"
        }
      },
      "execution_count": 9,
      "outputs": [
        {
          "output_type": "stream",
          "name": "stdout",
          "text": [
            "+----------+------------------+------+--------+-------------+------------+------+--------------+\n",
            "|product_id|      product_name| Price|Category|StockQuantity|       Brand|Rating|     Warehouse|\n",
            "+----------+------------------+------+--------+-------------+------------+------+--------------+\n",
            "|    5349.0|      Rubik's Cube| 344.7|    Toys|         26.0|      Disney|   4.6|       Vietnam|\n",
            "|     269.0|    Stuffed Animal| 414.4|    Toys|         40.0|        Brio|   4.9|       Ireland|\n",
            "|    5627.0|          Play-Doh|152.43|    Toys|         35.0|  Mega Bloks|   4.6|       Ukraine|\n",
            "|    2767.0|              Lego|159.29|    Toys|          4.0|      Mattel|   4.6|      Malaysia|\n",
            "|    9127.0|          Toy Boat|279.61|    Toys|         28.0|   DC Comics|   4.8|      Colombia|\n",
            "|   10790.0|              Kite|371.48|    Toys|         27.0|     Crayola|   4.6|         Japan|\n",
            "|    9404.0|         Toy Piano|130.69|    Toys|         31.0|   DC Comics|   4.8|   South Korea|\n",
            "|     905.0|         Toy Piano|390.21|    Toys|         86.0|      Hasbro|   4.8|     Argentina|\n",
            "|    2990.0|Remote Control Car| 94.28|    Toys|         87.0|        Nerf|   4.6|         Japan|\n",
            "|    2427.0|   Building Blocks|312.07|    Toys|         13.0|Transformers|   4.6|        Mexico|\n",
            "|    6832.0|    Stuffed Animal|458.61|    Toys|         70.0|        Lego|   4.9|  South Africa|\n",
            "|    1203.0|        Toy Guitar|301.76|    Toys|         56.0|      Disney|   4.8|         Japan|\n",
            "|    8756.0|      Toy Tool Set|125.29|    Toys|          4.0|      Chicco|   4.9|   Netherlands|\n",
            "|    9709.0|   Toy Kitchen Set|457.84|    Toys|         88.0|   Star Wars|   4.8|        Poland|\n",
            "|    7385.0|Remote Control Car| 15.88|    Toys|         81.0|  Hot Wheels|   4.6|Czech Republic|\n",
            "|   11261.0|       Barbie Doll|312.32|    Toys|         32.0|      Marvel|   4.7|        Norway|\n",
            "|    4454.0|   Toy Kitchen Set| 428.8|    Toys|         35.0|  Mega Bloks|   4.6|         China|\n",
            "|     457.0|   Building Blocks| 33.17|    Toys|         27.0|     Crayola|   5.0|         Qatar|\n",
            "|   11688.0|    Stuffed Animal|216.57|    Toys|         54.0| Nickelodeon|   4.8|         India|\n",
            "|    7701.0|        Hot Wheels|445.59|    Toys|         82.0|      Marvel|   4.9|         Qatar|\n",
            "+----------+------------------+------+--------+-------------+------------+------+--------------+\n",
            "only showing top 20 rows\n",
            "\n"
          ]
        }
      ]
    },
    {
      "cell_type": "code",
      "source": [
        "spark.sql('''\n",
        "SELECT product_id, product_name, Price, Category, StockQuantity, Brand, Rating, Warehouse\n",
        "FROM Products\n",
        "WHERE Brand = 'Nike';\n",
        "''').show()"
      ],
      "metadata": {
        "id": "_vgW2558on2e",
        "outputId": "f96022b8-e039-4d4d-9305-fad312e520e2",
        "colab": {
          "base_uri": "https://localhost:8080/"
        }
      },
      "execution_count": 10,
      "outputs": [
        {
          "output_type": "stream",
          "name": "stdout",
          "text": [
            "+----------+------------+-------+--------+-------------+-----+------+--------------------+\n",
            "|product_id|product_name|  Price|Category|StockQuantity|Brand|Rating|           Warehouse|\n",
            "+----------+------------+-------+--------+-------------+-----+------+--------------------+\n",
            "|    4301.0|       Belts|4911.49|clothing|         78.0| Nike|   1.7|             Hungary|\n",
            "|    4646.0|       Belts| 580.85|clothing|         99.0| Nike|   5.0|         New Zealand|\n",
            "|   10432.0|      Gloves|2631.52|clothing|         73.0| Nike|   4.4|         Switzerland|\n",
            "|    9755.0|     Dresses| 189.59|clothing|         30.0| Nike|   2.2|              Israel|\n",
            "|    4646.0|     Scarves|2989.67|clothing|         67.0| Nike|   3.5|              Greece|\n",
            "|   11235.0|    Leggings| 214.99|clothing|         80.0| Nike|   2.7|           Singapore|\n",
            "|    4733.0|       Socks|1105.65|clothing|        100.0| Nike|   4.6|           Indonesia|\n",
            "|    8419.0|     Blouses|4021.55|clothing|         96.0| Nike|   2.7|      United Kingdom|\n",
            "|    3126.0|    T-shirts| 990.86|clothing|         63.0| Nike|   2.8|             Denmark|\n",
            "|    8899.0|   Nightwear|3072.45|clothing|         33.0| Nike|   4.4|                Peru|\n",
            "|    7974.0|     Blouses|2629.61|clothing|         73.0| Nike|   1.5|         Netherlands|\n",
            "|    4852.0|    T-shirts|3668.27|clothing|         23.0| Nike|   3.6|                Peru|\n",
            "|    4243.0|     Scarves|3229.21|clothing|         88.0| Nike|   3.1|               Qatar|\n",
            "|   10267.0|    Swimwear|4140.48|clothing|         79.0| Nike|   1.8|United Arab Emirates|\n",
            "|    2006.0| Polo shirts|4229.16|clothing|          1.0| Nike|   2.0|             Austria|\n",
            "|    5486.0|       Suits|  700.1|clothing|         65.0| Nike|   1.1|              Sweden|\n",
            "|    5882.0|       Coats|1364.59|clothing|         27.0| Nike|   3.7|             Denmark|\n",
            "|    1995.0|        Hats| 541.28|clothing|         64.0| Nike|   4.4|             Belgium|\n",
            "|    3575.0| Polo shirts| 347.16|clothing|          6.0| Nike|   5.0|            Thailand|\n",
            "|    5645.0|      Gloves|4346.35|clothing|         25.0| Nike|   1.8|               China|\n",
            "+----------+------------+-------+--------+-------------+-----+------+--------------------+\n",
            "only showing top 20 rows\n",
            "\n"
          ]
        }
      ]
    },
    {
      "cell_type": "code",
      "source": [
        "spark.sql('''\n",
        "SELECT Category, product_id, product_name, MAX(Price) as MaxPrice\n",
        "FROM Products\n",
        "GROUP BY Category;\n",
        "''').show()"
      ],
      "metadata": {
        "id": "MElwX0lPp_xJ",
        "outputId": "189305ea-b9da-4362-a7a0-d4d137bdc772",
        "colab": {
          "base_uri": "https://localhost:8080/",
          "height": 495
        }
      },
      "execution_count": 13,
      "outputs": [
        {
          "output_type": "error",
          "ename": "ParseException",
          "evalue": "\n[PARSE_SYNTAX_ERROR] Syntax error at or near 'Category': extra input 'Category'.(line 4, pos 8)\n\n== SQL ==\n\nSELECT Category, product_id, product_name, MAX(Price) as MaxPrice\nFROM Products\nGROUPBY Category;\n--------^^^\n",
          "traceback": [
            "\u001b[0;31m---------------------------------------------------------------------------\u001b[0m",
            "\u001b[0;31mParseException\u001b[0m                            Traceback (most recent call last)",
            "\u001b[0;32m<ipython-input-13-46aff8ad8f7c>\u001b[0m in \u001b[0;36m<cell line: 1>\u001b[0;34m()\u001b[0m\n\u001b[0;32m----> 1\u001b[0;31m spark.sql('''\n\u001b[0m\u001b[1;32m      2\u001b[0m \u001b[0mSELECT\u001b[0m \u001b[0mCategory\u001b[0m\u001b[0;34m,\u001b[0m \u001b[0mproduct_id\u001b[0m\u001b[0;34m,\u001b[0m \u001b[0mproduct_name\u001b[0m\u001b[0;34m,\u001b[0m \u001b[0mMAX\u001b[0m\u001b[0;34m(\u001b[0m\u001b[0mPrice\u001b[0m\u001b[0;34m)\u001b[0m \u001b[0;32mas\u001b[0m \u001b[0mMaxPrice\u001b[0m\u001b[0;34m\u001b[0m\u001b[0;34m\u001b[0m\u001b[0m\n\u001b[1;32m      3\u001b[0m \u001b[0mFROM\u001b[0m \u001b[0mProducts\u001b[0m\u001b[0;34m\u001b[0m\u001b[0;34m\u001b[0m\u001b[0m\n\u001b[1;32m      4\u001b[0m \u001b[0mGROUPBY\u001b[0m \u001b[0mCategory\u001b[0m\u001b[0;34m;\u001b[0m\u001b[0;34m\u001b[0m\u001b[0;34m\u001b[0m\u001b[0m\n\u001b[1;32m      5\u001b[0m ''').show()\n",
            "\u001b[0;32m/usr/local/lib/python3.10/dist-packages/pyspark/sql/session.py\u001b[0m in \u001b[0;36msql\u001b[0;34m(self, sqlQuery, args, **kwargs)\u001b[0m\n\u001b[1;32m   1629\u001b[0m                     \u001b[0;34m[\u001b[0m\u001b[0m_to_java_column\u001b[0m\u001b[0;34m(\u001b[0m\u001b[0mlit\u001b[0m\u001b[0;34m(\u001b[0m\u001b[0mv\u001b[0m\u001b[0;34m)\u001b[0m\u001b[0;34m)\u001b[0m \u001b[0;32mfor\u001b[0m \u001b[0mv\u001b[0m \u001b[0;32min\u001b[0m \u001b[0;34m(\u001b[0m\u001b[0margs\u001b[0m \u001b[0;32mor\u001b[0m \u001b[0;34m[\u001b[0m\u001b[0;34m]\u001b[0m\u001b[0;34m)\u001b[0m\u001b[0;34m]\u001b[0m\u001b[0;34m\u001b[0m\u001b[0;34m\u001b[0m\u001b[0m\n\u001b[1;32m   1630\u001b[0m                 )\n\u001b[0;32m-> 1631\u001b[0;31m             \u001b[0;32mreturn\u001b[0m \u001b[0mDataFrame\u001b[0m\u001b[0;34m(\u001b[0m\u001b[0mself\u001b[0m\u001b[0;34m.\u001b[0m\u001b[0m_jsparkSession\u001b[0m\u001b[0;34m.\u001b[0m\u001b[0msql\u001b[0m\u001b[0;34m(\u001b[0m\u001b[0msqlQuery\u001b[0m\u001b[0;34m,\u001b[0m \u001b[0mlitArgs\u001b[0m\u001b[0;34m)\u001b[0m\u001b[0;34m,\u001b[0m \u001b[0mself\u001b[0m\u001b[0;34m)\u001b[0m\u001b[0;34m\u001b[0m\u001b[0;34m\u001b[0m\u001b[0m\n\u001b[0m\u001b[1;32m   1632\u001b[0m         \u001b[0;32mfinally\u001b[0m\u001b[0;34m:\u001b[0m\u001b[0;34m\u001b[0m\u001b[0;34m\u001b[0m\u001b[0m\n\u001b[1;32m   1633\u001b[0m             \u001b[0;32mif\u001b[0m \u001b[0mlen\u001b[0m\u001b[0;34m(\u001b[0m\u001b[0mkwargs\u001b[0m\u001b[0;34m)\u001b[0m \u001b[0;34m>\u001b[0m \u001b[0;36m0\u001b[0m\u001b[0;34m:\u001b[0m\u001b[0;34m\u001b[0m\u001b[0;34m\u001b[0m\u001b[0m\n",
            "\u001b[0;32m/usr/local/lib/python3.10/dist-packages/py4j/java_gateway.py\u001b[0m in \u001b[0;36m__call__\u001b[0;34m(self, *args)\u001b[0m\n\u001b[1;32m   1320\u001b[0m \u001b[0;34m\u001b[0m\u001b[0m\n\u001b[1;32m   1321\u001b[0m         \u001b[0manswer\u001b[0m \u001b[0;34m=\u001b[0m \u001b[0mself\u001b[0m\u001b[0;34m.\u001b[0m\u001b[0mgateway_client\u001b[0m\u001b[0;34m.\u001b[0m\u001b[0msend_command\u001b[0m\u001b[0;34m(\u001b[0m\u001b[0mcommand\u001b[0m\u001b[0;34m)\u001b[0m\u001b[0;34m\u001b[0m\u001b[0;34m\u001b[0m\u001b[0m\n\u001b[0;32m-> 1322\u001b[0;31m         return_value = get_return_value(\n\u001b[0m\u001b[1;32m   1323\u001b[0m             answer, self.gateway_client, self.target_id, self.name)\n\u001b[1;32m   1324\u001b[0m \u001b[0;34m\u001b[0m\u001b[0m\n",
            "\u001b[0;32m/usr/local/lib/python3.10/dist-packages/pyspark/errors/exceptions/captured.py\u001b[0m in \u001b[0;36mdeco\u001b[0;34m(*a, **kw)\u001b[0m\n\u001b[1;32m    183\u001b[0m                 \u001b[0;31m# Hide where the exception came from that shows a non-Pythonic\u001b[0m\u001b[0;34m\u001b[0m\u001b[0;34m\u001b[0m\u001b[0m\n\u001b[1;32m    184\u001b[0m                 \u001b[0;31m# JVM exception message.\u001b[0m\u001b[0;34m\u001b[0m\u001b[0;34m\u001b[0m\u001b[0m\n\u001b[0;32m--> 185\u001b[0;31m                 \u001b[0;32mraise\u001b[0m \u001b[0mconverted\u001b[0m \u001b[0;32mfrom\u001b[0m \u001b[0;32mNone\u001b[0m\u001b[0;34m\u001b[0m\u001b[0;34m\u001b[0m\u001b[0m\n\u001b[0m\u001b[1;32m    186\u001b[0m             \u001b[0;32melse\u001b[0m\u001b[0;34m:\u001b[0m\u001b[0;34m\u001b[0m\u001b[0;34m\u001b[0m\u001b[0m\n\u001b[1;32m    187\u001b[0m                 \u001b[0;32mraise\u001b[0m\u001b[0;34m\u001b[0m\u001b[0;34m\u001b[0m\u001b[0m\n",
            "\u001b[0;31mParseException\u001b[0m: \n[PARSE_SYNTAX_ERROR] Syntax error at or near 'Category': extra input 'Category'.(line 4, pos 8)\n\n== SQL ==\n\nSELECT Category, product_id, product_name, MAX(Price) as MaxPrice\nFROM Products\nGROUPBY Category;\n--------^^^\n"
          ]
        }
      ]
    },
    {
      "cell_type": "code",
      "source": [
        "spark.sql('''SELECT product_id, product_name, Price, Category, StockQuantity, Brand, Rating, Warehouse\n",
        "FROM Products\n",
        "WHERE StockQuantity < 10;''').show()"
      ],
      "metadata": {
        "id": "E_CUr6Q6qoB1",
        "outputId": "fc5c9753-c4ff-4048-c24b-2d0948e0d18f",
        "colab": {
          "base_uri": "https://localhost:8080/"
        }
      },
      "execution_count": 14,
      "outputs": [
        {
          "output_type": "stream",
          "name": "stdout",
          "text": [
            "+----------+------------------+------+--------+-------------+----------------+------+--------------+\n",
            "|product_id|      product_name| Price|Category|StockQuantity|           Brand|Rating|     Warehouse|\n",
            "+----------+------------------+------+--------+-------------+----------------+------+--------------+\n",
            "|    2767.0|              Lego|159.29|    Toys|          4.0|          Mattel|   4.6|      Malaysia|\n",
            "|    8667.0|        Hot Wheels|155.15|    Toys|          6.0|          Mattel|   2.7|      Malaysia|\n",
            "|    5801.0|          Play-Doh|394.89|    Toys|          7.0|  My Little Pony|   2.3|         Japan|\n",
            "|    2827.0|Remote Control Car|178.47|    Toys|          6.0|      Mega Bloks|   1.1|         China|\n",
            "|    8756.0|      Toy Tool Set|125.29|    Toys|          4.0|          Chicco|   4.9|   Netherlands|\n",
            "|    3242.0|        Teddy Bear|384.78|    Toys|          2.0|          Chicco|   1.3|Czech Republic|\n",
            "|     388.0|       Barbie Doll|476.32|    Toys|          5.0|        Play-Doh|   3.0|        Mexico|\n",
            "|    3330.0|           Toy Car| 27.12|    Toys|          5.0|      Mega Bloks|   2.6|        Turkey|\n",
            "|    6777.0|     Action Figure|198.45|    Toys|          6.0|      Hot Wheels|   2.1|       Romania|\n",
            "|    4962.0|         Toy Plane|278.94|    Toys|          4.0|      Mega Bloks|   4.6|        Norway|\n",
            "|    8993.0|   Building Blocks|372.76|    Toys|          7.0|Thomas & Friends|   4.7|       Ireland|\n",
            "|    2886.0|        Toy Guitar|478.54|    Toys|          7.0|            Brio|   4.3|         Japan|\n",
            "|    9213.0|        Teddy Bear|134.32|    Toys|          4.0|    Fisher-Price|   4.8|        Canada|\n",
            "|    7355.0|              Kite|322.48|    Toys|          5.0|           Tonka|   4.6|       Hungary|\n",
            "|    3774.0|        Hot Wheels| 48.06|    Toys|          4.0|       Peppa Pig|   2.0|         Spain|\n",
            "|    3493.0|          Play-Doh|337.43|    Toys|          3.0|         Crayola|   2.1|       Vietnam|\n",
            "|    2952.0|           Toy Car|215.98|    Toys|          2.0|          Marvel|   4.0|         Qatar|\n",
            "|     423.0|            Puzzle|455.83|    Toys|          9.0|          Mattel|   1.8|         Spain|\n",
            "|    2595.0|         Dollhouse|409.45|    Toys|          8.0|        Schleich|   2.2|       Vietnam|\n",
            "|      39.0|      Toy Dinosaur| 439.2|    Toys|          5.0|         Crayola|   4.4|      Portugal|\n",
            "+----------+------------------+------+--------+-------------+----------------+------+--------------+\n",
            "only showing top 20 rows\n",
            "\n"
          ]
        }
      ]
    },
    {
      "cell_type": "code",
      "source": [
        "spark.sql('''SELECT Category, AVG(Price) as AveragePrice\n",
        "FROM Products\n",
        "GROUP BY Category;''').show()"
      ],
      "metadata": {
        "id": "krd4EJOxrzv1",
        "outputId": "8d3370e4-8cd0-463a-e442-06ff7c6d28bc",
        "colab": {
          "base_uri": "https://localhost:8080/"
        }
      },
      "execution_count": 15,
      "outputs": [
        {
          "output_type": "stream",
          "name": "stdout",
          "text": [
            "+-----------+------------------+\n",
            "|   Category|      AveragePrice|\n",
            "+-----------+------------------+\n",
            "|Electronics| 75744.04024666667|\n",
            "|      Books|2080.8343066666653|\n",
            "|  Furniture| 504.6888933333332|\n",
            "|Accessories| 5108.241019999994|\n",
            "|   clothing|2521.3186399999995|\n",
            "|   footwear|2570.2823466666673|\n",
            "|  cosmetics|2563.4038866666633|\n",
            "|       Toys|256.97085333333297|\n",
            "+-----------+------------------+\n",
            "\n"
          ]
        }
      ]
    },
    {
      "cell_type": "code",
      "source": [
        "spark.sql('''SELECT product_id, product_name, Price, Category, StockQuantity, Brand, Rating, Warehouse\n",
        "FROM Products\n",
        "WHERE Brand IN (SELECT Brand FROM Products GROUP BY Brand HAVING COUNT(*) > 5);''').show()"
      ],
      "metadata": {
        "id": "N8npNn5nsd6f",
        "outputId": "9e70127d-2a16-4a0a-86e8-be24f7abb58c",
        "colab": {
          "base_uri": "https://localhost:8080/"
        }
      },
      "execution_count": 16,
      "outputs": [
        {
          "output_type": "stream",
          "name": "stdout",
          "text": [
            "+----------+--------------+------+--------+-------------+----------------+------+--------------------+\n",
            "|product_id|  product_name| Price|Category|StockQuantity|           Brand|Rating|           Warehouse|\n",
            "+----------+--------------+------+--------+-------------+----------------+------+--------------------+\n",
            "|    2928.0|  Toy Tool Set| 97.19|    Toys|         49.0|          Disney|   1.1|             Hungary|\n",
            "|    5349.0|  Rubik's Cube| 344.7|    Toys|         26.0|          Disney|   4.6|             Vietnam|\n",
            "|     847.0|     Dollhouse| 80.21|    Toys|         70.0|Thomas & Friends|   2.8|           Singapore|\n",
            "|    3463.0|  Toy Dinosaur|442.73|    Toys|         85.0|          Disney|   1.7|           Indonesia|\n",
            "|    9252.0|  Rubik's Cube|182.74|    Toys|         82.0|       DC Comics|   2.3|             Ireland|\n",
            "|     269.0|Stuffed Animal| 414.4|    Toys|         40.0|            Brio|   4.9|             Ireland|\n",
            "|   10209.0|     Toy Train|337.68|    Toys|         42.0|           VTech|   2.1|             Hungary|\n",
            "|    5230.0|       Toy Car| 16.18|    Toys|         48.0|    Transformers|   4.3|              Kuwait|\n",
            "|    5627.0|      Play-Doh|152.43|    Toys|         35.0|      Mega Bloks|   4.6|             Ukraine|\n",
            "|    3632.0|       Toy Car|253.71|    Toys|         62.0|       Star Wars|   3.2|             Belgium|\n",
            "|    2479.0|        Puzzle|  76.0|    Toys|         37.0|            Brio|   1.6|              Norway|\n",
            "|    6036.0|Stuffed Animal|207.78|    Toys|         73.0|  My Little Pony|   1.5|         New Zealand|\n",
            "|     708.0|Stuffed Animal|297.43|    Toys|         26.0|    Transformers|   2.3|               Qatar|\n",
            "|    8528.0| Action Figure| 145.0|    Toys|         66.0|      Hot Wheels|   2.5|             Belgium|\n",
            "|    9250.0|       Toy Car|439.24|    Toys|         87.0|          Marvel|   4.0|               Chile|\n",
            "|    1420.0|  Toy Dinosaur|103.24|    Toys|         28.0|        Schleich|   2.1|            Malaysia|\n",
            "|    7452.0|          Kite| 34.86|    Toys|         60.0|    Fisher-Price|   2.6|         Philippines|\n",
            "|    2343.0|  Toy Tool Set| 229.2|    Toys|         88.0|  Melissa & Doug|   1.3|             Denmark|\n",
            "|    9828.0|  Toy Tool Set|308.93|    Toys|         71.0|      Paw Patrol|   2.0|              France|\n",
            "|    3570.0|   Toy Soldier|256.67|    Toys|         82.0|            Nerf|   4.3|United Arab Emirates|\n",
            "+----------+--------------+------+--------+-------------+----------------+------+--------------------+\n",
            "only showing top 20 rows\n",
            "\n"
          ]
        }
      ]
    },
    {
      "cell_type": "code",
      "source": [
        "spark.sql('''SELECT product_id, product_name, Price, Category, StockQuantity, Brand, Rating, Warehouse\n",
        "FROM Products\n",
        "WHERE Price > (SELECT MAX(Price) FROM Products WHERE Category = 'Books');''').show()"
      ],
      "metadata": {
        "id": "XWi1afastEQl",
        "outputId": "9f311ea0-9c42-4e46-dfcf-9e1d6ba08c28",
        "colab": {
          "base_uri": "https://localhost:8080/"
        }
      },
      "execution_count": 17,
      "outputs": [
        {
          "output_type": "stream",
          "name": "stdout",
          "text": [
            "+----------+--------------------+---------+-----------+-------------+---------+------+--------------+\n",
            "|product_id|        product_name|    Price|   Category|StockQuantity|    Brand|Rating|     Warehouse|\n",
            "+----------+--------------------+---------+-----------+-------------+---------+------+--------------+\n",
            "|    5761.0|Wearable Fitness ...| 28678.56|Electronics|         78.0|  Samsung|   1.0|         Egypt|\n",
            "|    4901.0|    Air Conditioners| 36859.54|Electronics|         84.0|  Toshiba|   2.5|       Vietnam|\n",
            "|    7877.0|    Security Cameras| 34801.44|Electronics|         95.0|   Realme|   4.2|     Argentina|\n",
            "|    8850.0|   Portable Chargers| 113356.4|Electronics|         50.0|   Huawei|   2.4|United Kingdom|\n",
            "|    4518.0|            Monitors|121503.73|Electronics|         55.0|     Asus|   4.5|        Mexico|\n",
            "|    8863.0|             Laptops| 88953.24|Electronics|         21.0|Whirlpool|   4.5|  South Africa|\n",
            "|   10021.0|          Microwaves|  29432.7|Electronics|         86.0|     Bose|   4.2|       Belgium|\n",
            "|    5375.0|    Security Cameras| 43152.05|Electronics|         57.0|     Sony|   3.2|      Colombia|\n",
            "|   11661.0|            Printers| 18453.13|Electronics|          6.0|   Google|   1.7|        Poland|\n",
            "|      11.0|   Portable Chargers| 39509.19|Electronics|         45.0|  Siemens|   3.4|   Philippines|\n",
            "|   11868.0|     Digital Cameras|130201.22|Electronics|          2.0|    Canon|   2.6|         Chile|\n",
            "|   11052.0|    Security Cameras|147722.25|Electronics|         50.0|     Acer|   1.5|         Qatar|\n",
            "|    9375.0|           E-readers| 90790.84|Electronics|         39.0|    GoPro|   1.4|       Romania|\n",
            "|   10341.0|  Keyboards and Mice|140888.95|Electronics|         86.0| Logitech|   4.1|  Saudi Arabia|\n",
            "|    8374.0|            Printers|113830.94|Electronics|         46.0|   Amazon|   1.3|        France|\n",
            "|    2264.0|   Streaming Devices| 10238.64|Electronics|         70.0|    GoPro|   3.6|        Russia|\n",
            "|    2598.0|            Printers| 61321.77|Electronics|         86.0| Logitech|   1.8|        Kuwait|\n",
            "|    5025.0|Wearable Fitness ...| 90574.26|Electronics|         29.0|    Nikon|   2.8|        Canada|\n",
            "|    3938.0|            Monitors|130416.27|Electronics|         96.0|     Dell|   1.1|          Peru|\n",
            "|    9112.0|           E-readers|102803.34|Electronics|         27.0|Whirlpool|   1.1|       Belgium|\n",
            "+----------+--------------------+---------+-----------+-------------+---------+------+--------------+\n",
            "only showing top 20 rows\n",
            "\n"
          ]
        }
      ]
    },
    {
      "cell_type": "code",
      "source": [
        "spark.sql('''SELECT product_id, product_name, Price, Category, StockQuantity, Brand, Rating, Warehouse,\n",
        "       RANK() OVER (PARTITION BY Category ORDER BY Price DESC) AS PriceRank\n",
        "FROM Products;''').show()"
      ],
      "metadata": {
        "id": "8kycWgxGtqiV",
        "outputId": "91a090b1-1afd-4bfb-fd7d-2637911b3c6c",
        "colab": {
          "base_uri": "https://localhost:8080/"
        }
      },
      "execution_count": 18,
      "outputs": [
        {
          "output_type": "stream",
          "name": "stdout",
          "text": [
            "+----------+--------------------+-------+-----------+-------------+-------------+------+-------------+---------+\n",
            "|product_id|        product_name|  Price|   Category|StockQuantity|        Brand|Rating|    Warehouse|PriceRank|\n",
            "+----------+--------------------+-------+-----------+-------------+-------------+------+-------------+---------+\n",
            "|    9906.0|              Helmet|9995.08|Accessories|         48.0|       Fossil|   3.1|     Malaysia|        1|\n",
            "|    6502.0|             Handbag|9993.93|Accessories|         75.0|      Versace|   3.6|       Norway|        2|\n",
            "|    1283.0|            Umbrella|9989.05|Accessories|         79.0|Louis Vuitton|   3.5|        Italy|        3|\n",
            "|    9838.0|Handkerchiefs and...|9988.57|Accessories|         52.0|      Ray-Ban|   1.1|       Greece|        4|\n",
            "|    1932.0|             Glasses|9979.47|Accessories|         44.0|        Fendi|   1.5|  South Korea|        5|\n",
            "|   10780.0|             Earring|9970.95|Accessories|         74.0|         Dior|   1.0|United States|        6|\n",
            "|    7108.0|             Anklets|9956.74|Accessories|         89.0|       Hermes|   4.2|      Vietnam|        7|\n",
            "|    7109.0|                 Hat|9951.36|Accessories|         71.0|   Tory Burch|   3.0|     Colombia|        8|\n",
            "|    4681.0|Handkerchiefs and...| 9943.2|Accessories|         88.0|   Tory Burch|   1.4|     Thailand|        9|\n",
            "|    8186.0|             Handbag|9936.52|Accessories|          1.0|     Burberry|   1.9|         Peru|       10|\n",
            "|   11599.0|             Earring|9933.48|Accessories|         29.0|        Fendi|   4.3|      Belgium|       11|\n",
            "|      61.0|             Necktie|9931.55|Accessories|         97.0|       Hermes|   4.4|     Malaysia|       12|\n",
            "|    4285.0|              Helmet|9928.64|Accessories|         68.0|      Bvlgari|   2.5|      Ukraine|       13|\n",
            "|    8727.0|             Handbag|9924.46|Accessories|         32.0|Louis Vuitton|   1.5|  South Korea|       14|\n",
            "|    1020.0|             Necktie|9920.85|Accessories|          1.0|       Hermes|   3.0|       Russia|       15|\n",
            "|     472.0|   Brooches and Pins|9916.51|Accessories|         93.0|    Swarovski|   1.7|    Australia|       16|\n",
            "|   11380.0|             Wallets| 9915.8|Accessories|         26.0|      Ray-Ban|   4.3|  New Zealand|       17|\n",
            "|    7123.0|               Glove|9913.78|Accessories|         15.0|   Kate Spade|   1.2|        Chile|       18|\n",
            "|    8977.0|            Umbrella|9913.05|Accessories|         52.0|         Dior|   3.9|        Egypt|       19|\n",
            "|    5814.0|             Wallets|9906.91|Accessories|          2.0|        Prada|   3.0|       Mexico|       20|\n",
            "+----------+--------------------+-------+-----------+-------------+-------------+------+-------------+---------+\n",
            "only showing top 20 rows\n",
            "\n"
          ]
        }
      ]
    },
    {
      "cell_type": "code",
      "source": [
        "spark.sql('''SELECT product_id, product_name, Price, Category, StockQuantity, Brand, Rating, Warehouse,\n",
        "       RANK() OVER (ORDER BY StockQuantity DESC) AS StockRank\n",
        "FROM Products;''').show()"
      ],
      "metadata": {
        "id": "w686fXFguy6P",
        "outputId": "713b1a32-fd12-4660-ec92-28f5d2b2dce0",
        "colab": {
          "base_uri": "https://localhost:8080/"
        }
      },
      "execution_count": 19,
      "outputs": [
        {
          "output_type": "stream",
          "name": "stdout",
          "text": [
            "+----------+---------------+---------+-----------+-------------+----------------+------+------------+---------+\n",
            "|product_id|   product_name|    Price|   Category|StockQuantity|           Brand|Rating|   Warehouse|StockRank|\n",
            "+----------+---------------+---------+-----------+-------------+----------------+------+------------+---------+\n",
            "|     146.0|    Barbie Doll|     13.1|       Toys|        100.0|      Paw Patrol|   4.9|      Norway|        1|\n",
            "|    5193.0| Smart Speakers| 17650.39|Electronics|        100.0|          Huawei|   2.1|South Africa|        1|\n",
            "|    2439.0|     Teddy Bear|   368.91|       Toys|        100.0|       DC Comics|   4.0|South Africa|        1|\n",
            "|    9009.0|      Dollhouse|   126.71|       Toys|        100.0|          Disney|   2.2|     Belgium|        1|\n",
            "|    1985.0|Building Blocks|   276.43|       Toys|        100.0|      Hot Wheels|   1.9|      Turkey|        1|\n",
            "|    9596.0|     Toy Guitar|   223.82|       Toys|        100.0|       DC Comics|   5.0|    Malaysia|        1|\n",
            "|     997.0|     Toy Guitar|    425.6|       Toys|        100.0|       Playmobil|   4.4|     Hungary|        1|\n",
            "|    1147.0|    Barbie Doll|   358.36|       Toys|        100.0|Thomas & Friends|   2.5|      Israel|        1|\n",
            "|    2577.0|Building Blocks|   293.62|       Toys|        100.0|  My Little Pony|   1.2| Netherlands|        1|\n",
            "|    5949.0|           Kite|   467.74|       Toys|        100.0|        LeapFrog|   3.3| South Korea|        1|\n",
            "|   11343.0|Building Blocks|   338.47|       Toys|        100.0|     Nickelodeon|   3.1|    Portugal|        1|\n",
            "|   10082.0|       Play-Doh|    40.47|       Toys|        100.0|        Schleich|   1.8|      Sweden|        1|\n",
            "|    5282.0|   Smart Lights| 86596.95|Electronics|        100.0|          Fitbit|   1.6|       Japan|        1|\n",
            "|     326.0|          Yo-Yo|    60.31|       Toys|        100.0|            Lego|   1.9|     Finland|        1|\n",
            "|    6007.0|Digital Cameras| 91426.65|Electronics|        100.0|     PlayStation|   4.5|     Belgium|        1|\n",
            "|    5676.0|      Toy Piano|   376.16|       Toys|        100.0|  Melissa & Doug|   2.1|        Peru|        1|\n",
            "|    2895.0|  Sound Systems|107003.52|Electronics|        100.0|          Amazon|   1.5|   Argentina|        1|\n",
            "|    7226.0|     Toy Guitar|   125.78|       Toys|        100.0|          Marvel|   3.5|     Belgium|        1|\n",
            "|    9597.0|       Monitors| 73432.89|Electronics|        100.0|            Roku|   1.7|   Indonesia|        1|\n",
            "|     794.0|           Kite|   177.89|       Toys|        100.0|        Play-Doh|   3.8|     Ukraine|        1|\n",
            "+----------+---------------+---------+-----------+-------------+----------------+------+------------+---------+\n",
            "only showing top 20 rows\n",
            "\n"
          ]
        }
      ]
    },
    {
      "cell_type": "code",
      "source": [
        "spark.sql('''SELECT product_id, product_name, Price, Category, StockQuantity, Brand, Rating, Warehouse,\n",
        "       DENSE_RANK() OVER (ORDER BY Price DESC) AS OverallPriceRank\n",
        "FROM Products;''').show()"
      ],
      "metadata": {
        "id": "xWlOYk5ivRNF",
        "outputId": "85321e1e-f59e-469e-e863-940e03630487",
        "colab": {
          "base_uri": "https://localhost:8080/"
        }
      },
      "execution_count": 20,
      "outputs": [
        {
          "output_type": "stream",
          "name": "stdout",
          "text": [
            "+----------+--------------------+---------+-----------+-------------+----------+------+--------------+----------------+\n",
            "|product_id|        product_name|    Price|   Category|StockQuantity|     Brand|Rating|     Warehouse|OverallPriceRank|\n",
            "+----------+--------------------+---------+-----------+-------------+----------+------+--------------+----------------+\n",
            "|    6285.0|     Gaming Consoles|149928.85|Electronics|         55.0|   Samsung|   1.5|      Portugal|               1|\n",
            "|    9973.0|            Printers|149755.47|Electronics|         33.0|Sennheiser|   1.7|      Colombia|               2|\n",
            "|    4867.0|      Smart Speakers| 149608.0|Electronics|          7.0|     Bosch|   2.8|        Poland|               3|\n",
            "|   10012.0|       Sound Systems|149587.42|Electronics|         56.0|        HP|   4.4|        Sweden|               4|\n",
            "|    8846.0|Electric Toothbru...|149570.39|Electronics|         15.0| Whirlpool|   3.4|       Germany|               5|\n",
            "|    4780.0|    Electric Shavers|149522.95|Electronics|         37.0|      Asus|   3.0|        Poland|               6|\n",
            "|    1019.0|        Smartwatches|149297.73|Electronics|         27.0|     Dyson|   3.9|United Kingdom|               7|\n",
            "|    3613.0|     Digital Cameras|148951.88|Electronics|         27.0|      Dell|   3.1|     Indonesia|               8|\n",
            "|   11111.0|            Printers|148889.54|Electronics|         62.0|     Canon|   1.3|        Sweden|               9|\n",
            "|    3382.0|            Monitors|148709.86|Electronics|         82.0|    Xiaomi|   4.8|         Egypt|              10|\n",
            "|    8385.0|   Streaming Devices|148708.44|Electronics|         88.0|   Siemens|   4.9|          Peru|              11|\n",
            "|    8443.0|        Smart Lights|148695.32|Electronics|         45.0|     Canon|   2.2|       Germany|              12|\n",
            "|    3324.0|  Keyboards and Mice|148688.47|Electronics|         43.0|  Logitech|   4.9|        Israel|              13|\n",
            "|    6999.0|Bluetooth Headpho...|148669.67|Electronics|         48.0|      Dell|   4.9|        Greece|              14|\n",
            "|    6056.0| Blu-ray/DVD Players|148572.63|Electronics|         71.0|    Amazon|   1.8|         Japan|              15|\n",
            "|    7063.0| Blu-ray/DVD Players|148382.44|Electronics|         55.0|      Oppo|   3.0|       Hungary|              16|\n",
            "|    3827.0|      Smart Speakers|148172.47|Electronics|         91.0|      Asus|   3.5|         Qatar|              17|\n",
            "|    6231.0|   Streaming Devices|148006.86|Electronics|         59.0|   OnePlus|   1.3|       Romania|              18|\n",
            "|   11134.0|    Fitness Trackers|147920.22|Electronics|         97.0|   Toshiba|   2.3|   Philippines|              19|\n",
            "|    6576.0|  Keyboards and Mice|147722.57|Electronics|         10.0|    Huawei|   1.4|        Mexico|              20|\n",
            "+----------+--------------------+---------+-----------+-------------+----------+------+--------------+----------------+\n",
            "only showing top 20 rows\n",
            "\n"
          ]
        }
      ]
    },
    {
      "cell_type": "code",
      "source": [
        "spark.sql('''SELECT Category, MAX(Price) AS MaxPrice, MIN(Price) AS MinPrice\n",
        "FROM Products\n",
        "GROUP BY Category;''').show()"
      ],
      "metadata": {
        "id": "PSpPDwpUvpSL",
        "outputId": "be5d6fff-8979-44b8-c37a-dda34b4335ab",
        "colab": {
          "base_uri": "https://localhost:8080/"
        }
      },
      "execution_count": 21,
      "outputs": [
        {
          "output_type": "stream",
          "name": "stdout",
          "text": [
            "+-----------+---------+--------+\n",
            "|   Category| MaxPrice|MinPrice|\n",
            "+-----------+---------+--------+\n",
            "|Electronics|149928.85|   516.2|\n",
            "|      Books|  3996.18|  104.18|\n",
            "|  Furniture|   1000.0|   10.03|\n",
            "|Accessories|  9995.08|  109.33|\n",
            "|   clothing|   4999.1|  108.64|\n",
            "|   footwear|  4999.79|  105.46|\n",
            "|  cosmetics|   4997.9|  100.79|\n",
            "|       Toys|   499.89|    5.93|\n",
            "+-----------+---------+--------+\n",
            "\n"
          ]
        }
      ]
    },
    {
      "cell_type": "code",
      "source": [],
      "metadata": {
        "id": "tYWuDb4OwjyL"
      },
      "execution_count": null,
      "outputs": []
    }
  ],
  "metadata": {
    "colab": {
      "name": "Welcome To Colab",
      "provenance": [],
      "include_colab_link": true
    },
    "kernelspec": {
      "display_name": "Python 3",
      "name": "python3"
    }
  },
  "nbformat": 4,
  "nbformat_minor": 0
}