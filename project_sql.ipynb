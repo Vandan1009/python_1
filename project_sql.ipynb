{
  "cells": [
    {
      "cell_type": "markdown",
      "metadata": {
        "id": "view-in-github",
        "colab_type": "text"
      },
      "source": [
        "<a href=\"https://colab.research.google.com/github/Vandan1009/python_1/blob/main/project_sql.ipynb\" target=\"_parent\"><img src=\"https://colab.research.google.com/assets/colab-badge.svg\" alt=\"Open In Colab\"/></a>"
      ]
    },
    {
      "cell_type": "code",
      "source": [
        "!pip install pyspark"
      ],
      "metadata": {
        "id": "9WZYzEIO0-fX",
        "outputId": "d12dff08-a374-48a4-edde-2051d2119ee4",
        "colab": {
          "base_uri": "https://localhost:8080/"
        }
      },
      "execution_count": 54,
      "outputs": [
        {
          "output_type": "stream",
          "name": "stdout",
          "text": [
            "Requirement already satisfied: pyspark in /usr/local/lib/python3.10/dist-packages (3.5.2)\n",
            "Requirement already satisfied: py4j==0.10.9.7 in /usr/local/lib/python3.10/dist-packages (from pyspark) (0.10.9.7)\n"
          ]
        }
      ]
    },
    {
      "cell_type": "code",
      "source": [
        "from pyspark.sql import SparkSession, SQLContext\n"
      ],
      "metadata": {
        "id": "acvoLbsM1DRn"
      },
      "execution_count": 55,
      "outputs": []
    },
    {
      "cell_type": "code",
      "source": [
        "spark = SparkSession.builder.appName(\"ProductRatings\").getOrCreate()\n"
      ],
      "metadata": {
        "id": "Bhy7JpWl1gPP"
      },
      "execution_count": 56,
      "outputs": []
    },
    {
      "cell_type": "code",
      "source": [
        "df=spark.read.csv('/content/final_data (3).csv',header=True,inferSchema=True)"
      ],
      "metadata": {
        "id": "SX5K2o745KmZ"
      },
      "execution_count": 89,
      "outputs": []
    },
    {
      "cell_type": "code",
      "source": [
        "df1=spark.read.csv('/content/my_orders.csv',header=True,inferSchema=True)"
      ],
      "metadata": {
        "id": "3qlFhLyXSZzx"
      },
      "execution_count": 90,
      "outputs": []
    },
    {
      "cell_type": "code",
      "source": [
        "new1=df1\n",
        "new1.createOrReplaceTempView('orders')"
      ],
      "metadata": {
        "id": "f1a2__BlSoi8"
      },
      "execution_count": 91,
      "outputs": []
    },
    {
      "cell_type": "code",
      "source": [
        "new = df\n",
        "new.createOrReplaceTempView(\"products\")"
      ],
      "metadata": {
        "id": "9vuu0LM22lfr"
      },
      "execution_count": 92,
      "outputs": []
    },
    {
      "cell_type": "code",
      "source": [
        "df.show()"
      ],
      "metadata": {
        "id": "v6z9xbJ447Mx",
        "outputId": "9061adf4-ae57-44fc-95a9-7153233f0212",
        "colab": {
          "base_uri": "https://localhost:8080/"
        }
      },
      "execution_count": 93,
      "outputs": [
        {
          "output_type": "stream",
          "name": "stdout",
          "text": [
            "+----------+--------------+------+--------------------+--------+-------------+----------------+------+--------------------+\n",
            "|product_id|  product_name| Price|         Description|Category|StockQuantity|           Brand|Rating|           Warehouse|\n",
            "+----------+--------------+------+--------------------+--------+-------------+----------------+------+--------------------+\n",
            "|    2928.0|  Toy Tool Set| 97.19|Kid future itself...|    Toys|         49.0|          Disney|   1.1|             Hungary|\n",
            "|    5349.0|  Rubik's Cube| 344.7|Range heavy thoug...|    Toys|         26.0|          Disney|   4.6|             Vietnam|\n",
            "|     847.0|     Dollhouse| 80.21|Form fill yet nat...|    Toys|         70.0|Thomas & Friends|   2.8|           Singapore|\n",
            "|    3463.0|  Toy Dinosaur|442.73|Low matter build ...|    Toys|         85.0|          Disney|   1.7|           Indonesia|\n",
            "|    9252.0|  Rubik's Cube|182.74|Take walk step de...|    Toys|         82.0|       DC Comics|   2.3|             Ireland|\n",
            "|     269.0|Stuffed Animal| 414.4|Four cup professi...|    Toys|         40.0|            Brio|   4.9|             Ireland|\n",
            "|   10209.0|     Toy Train|337.68| Myself strong just.|    Toys|         42.0|           VTech|   2.1|             Hungary|\n",
            "|    5230.0|       Toy Car| 16.18|Lay stay pattern ...|    Toys|         48.0|    Transformers|   4.3|              Kuwait|\n",
            "|    5627.0|      Play-Doh|152.43|People rule prepa...|    Toys|         35.0|      Mega Bloks|   4.6|             Ukraine|\n",
            "|    3632.0|       Toy Car|253.71|Our truth over re...|    Toys|         62.0|       Star Wars|   3.2|             Belgium|\n",
            "|    2479.0|        Puzzle|  76.0|Shoulder do he im...|    Toys|         37.0|            Brio|   1.6|              Norway|\n",
            "|    6036.0|Stuffed Animal|207.78|Two save probably...|    Toys|         73.0|  My Little Pony|   1.5|         New Zealand|\n",
            "|     708.0|Stuffed Animal|297.43|Fund drive presen...|    Toys|         26.0|    Transformers|   2.3|               Qatar|\n",
            "|    8528.0| Action Figure| 145.0|Respond nature he...|    Toys|         66.0|      Hot Wheels|   2.5|             Belgium|\n",
            "|    9250.0|       Toy Car|439.24|Few choice memory...|    Toys|         87.0|          Marvel|   4.0|               Chile|\n",
            "|    1420.0|  Toy Dinosaur|103.24|Gas guess way aro...|    Toys|         28.0|        Schleich|   2.1|            Malaysia|\n",
            "|    7452.0|          Kite| 34.86|Hit oil upon whil...|    Toys|         60.0|    Fisher-Price|   2.6|         Philippines|\n",
            "|    2343.0|  Toy Tool Set| 229.2|Forward not wear ...|    Toys|         88.0|  Melissa & Doug|   1.3|             Denmark|\n",
            "|    9828.0|  Toy Tool Set|308.93|     More many tell.|    Toys|         71.0|      Paw Patrol|   2.0|              France|\n",
            "|    3570.0|   Toy Soldier|256.67|Small these once ...|    Toys|         82.0|            Nerf|   4.3|United Arab Emirates|\n",
            "+----------+--------------+------+--------------------+--------+-------------+----------------+------+--------------------+\n",
            "only showing top 20 rows\n",
            "\n"
          ]
        }
      ]
    },
    {
      "cell_type": "code",
      "source": [
        "from pyspark.sql.functions import col"
      ],
      "metadata": {
        "id": "9sObow7qA4Fb"
      },
      "execution_count": 94,
      "outputs": []
    },
    {
      "cell_type": "code",
      "source": [
        "df = df.withColumn(\"product_id\",col(\"product_id\").cast(\"integer\"))\n",
        "df.show()"
      ],
      "metadata": {
        "id": "QGwjkoduAK5I",
        "outputId": "8725902d-c36b-4590-975f-531c125048fa",
        "colab": {
          "base_uri": "https://localhost:8080/"
        }
      },
      "execution_count": 95,
      "outputs": [
        {
          "output_type": "stream",
          "name": "stdout",
          "text": [
            "+----------+--------------+------+--------------------+--------+-------------+----------------+------+--------------------+\n",
            "|product_id|  product_name| Price|         Description|Category|StockQuantity|           Brand|Rating|           Warehouse|\n",
            "+----------+--------------+------+--------------------+--------+-------------+----------------+------+--------------------+\n",
            "|      2928|  Toy Tool Set| 97.19|Kid future itself...|    Toys|         49.0|          Disney|   1.1|             Hungary|\n",
            "|      5349|  Rubik's Cube| 344.7|Range heavy thoug...|    Toys|         26.0|          Disney|   4.6|             Vietnam|\n",
            "|       847|     Dollhouse| 80.21|Form fill yet nat...|    Toys|         70.0|Thomas & Friends|   2.8|           Singapore|\n",
            "|      3463|  Toy Dinosaur|442.73|Low matter build ...|    Toys|         85.0|          Disney|   1.7|           Indonesia|\n",
            "|      9252|  Rubik's Cube|182.74|Take walk step de...|    Toys|         82.0|       DC Comics|   2.3|             Ireland|\n",
            "|       269|Stuffed Animal| 414.4|Four cup professi...|    Toys|         40.0|            Brio|   4.9|             Ireland|\n",
            "|     10209|     Toy Train|337.68| Myself strong just.|    Toys|         42.0|           VTech|   2.1|             Hungary|\n",
            "|      5230|       Toy Car| 16.18|Lay stay pattern ...|    Toys|         48.0|    Transformers|   4.3|              Kuwait|\n",
            "|      5627|      Play-Doh|152.43|People rule prepa...|    Toys|         35.0|      Mega Bloks|   4.6|             Ukraine|\n",
            "|      3632|       Toy Car|253.71|Our truth over re...|    Toys|         62.0|       Star Wars|   3.2|             Belgium|\n",
            "|      2479|        Puzzle|  76.0|Shoulder do he im...|    Toys|         37.0|            Brio|   1.6|              Norway|\n",
            "|      6036|Stuffed Animal|207.78|Two save probably...|    Toys|         73.0|  My Little Pony|   1.5|         New Zealand|\n",
            "|       708|Stuffed Animal|297.43|Fund drive presen...|    Toys|         26.0|    Transformers|   2.3|               Qatar|\n",
            "|      8528| Action Figure| 145.0|Respond nature he...|    Toys|         66.0|      Hot Wheels|   2.5|             Belgium|\n",
            "|      9250|       Toy Car|439.24|Few choice memory...|    Toys|         87.0|          Marvel|   4.0|               Chile|\n",
            "|      1420|  Toy Dinosaur|103.24|Gas guess way aro...|    Toys|         28.0|        Schleich|   2.1|            Malaysia|\n",
            "|      7452|          Kite| 34.86|Hit oil upon whil...|    Toys|         60.0|    Fisher-Price|   2.6|         Philippines|\n",
            "|      2343|  Toy Tool Set| 229.2|Forward not wear ...|    Toys|         88.0|  Melissa & Doug|   1.3|             Denmark|\n",
            "|      9828|  Toy Tool Set|308.93|     More many tell.|    Toys|         71.0|      Paw Patrol|   2.0|              France|\n",
            "|      3570|   Toy Soldier|256.67|Small these once ...|    Toys|         82.0|            Nerf|   4.3|United Arab Emirates|\n",
            "+----------+--------------+------+--------------------+--------+-------------+----------------+------+--------------------+\n",
            "only showing top 20 rows\n",
            "\n"
          ]
        }
      ]
    },
    {
      "cell_type": "code",
      "source": [
        "spark.sql('''\n",
        "SELECT product_id, product_name, Price, Category, StockQuantity, Brand, Rating, Warehouse\n",
        "FROM Products\n",
        "WHERE Category = 'Electronics';\n",
        "''').show()"
      ],
      "metadata": {
        "id": "02duEWDK5bGw",
        "outputId": "5aea193e-adf7-42f4-dab1-21b8656e90f3",
        "colab": {
          "base_uri": "https://localhost:8080/"
        }
      },
      "execution_count": 96,
      "outputs": [
        {
          "output_type": "stream",
          "name": "stdout",
          "text": [
            "+----------+--------------------+---------+-----------+-------------+---------+------+--------------+\n",
            "|product_id|        product_name|    Price|   Category|StockQuantity|    Brand|Rating|     Warehouse|\n",
            "+----------+--------------------+---------+-----------+-------------+---------+------+--------------+\n",
            "|    5761.0|Wearable Fitness ...| 28678.56|Electronics|         78.0|  Samsung|   1.0|         Egypt|\n",
            "|    4901.0|    Air Conditioners| 36859.54|Electronics|         84.0|  Toshiba|   2.5|       Vietnam|\n",
            "|    7877.0|    Security Cameras| 34801.44|Electronics|         95.0|   Realme|   4.2|     Argentina|\n",
            "|    8850.0|   Portable Chargers| 113356.4|Electronics|         50.0|   Huawei|   2.4|United Kingdom|\n",
            "|    4518.0|            Monitors|121503.73|Electronics|         55.0|     Asus|   4.5|        Mexico|\n",
            "|    8863.0|             Laptops| 88953.24|Electronics|         21.0|Whirlpool|   4.5|  South Africa|\n",
            "|   10021.0|          Microwaves|  29432.7|Electronics|         86.0|     Bose|   4.2|       Belgium|\n",
            "|    5375.0|    Security Cameras| 43152.05|Electronics|         57.0|     Sony|   3.2|      Colombia|\n",
            "|   11661.0|            Printers| 18453.13|Electronics|          6.0|   Google|   1.7|        Poland|\n",
            "|      11.0|   Portable Chargers| 39509.19|Electronics|         45.0|  Siemens|   3.4|   Philippines|\n",
            "|   11868.0|     Digital Cameras|130201.22|Electronics|          2.0|    Canon|   2.6|         Chile|\n",
            "|   11052.0|    Security Cameras|147722.25|Electronics|         50.0|     Acer|   1.5|         Qatar|\n",
            "|    9375.0|           E-readers| 90790.84|Electronics|         39.0|    GoPro|   1.4|       Romania|\n",
            "|   10341.0|  Keyboards and Mice|140888.95|Electronics|         86.0| Logitech|   4.1|  Saudi Arabia|\n",
            "|    8374.0|            Printers|113830.94|Electronics|         46.0|   Amazon|   1.3|        France|\n",
            "|    2264.0|   Streaming Devices| 10238.64|Electronics|         70.0|    GoPro|   3.6|        Russia|\n",
            "|    2598.0|            Printers| 61321.77|Electronics|         86.0| Logitech|   1.8|        Kuwait|\n",
            "|    5025.0|Wearable Fitness ...| 90574.26|Electronics|         29.0|    Nikon|   2.8|        Canada|\n",
            "|    5244.0|          Microwaves|  2969.61|Electronics|         71.0|  Philips|   4.7|Czech Republic|\n",
            "|    3938.0|            Monitors|130416.27|Electronics|         96.0|     Dell|   1.1|          Peru|\n",
            "+----------+--------------------+---------+-----------+-------------+---------+------+--------------+\n",
            "only showing top 20 rows\n",
            "\n"
          ]
        }
      ]
    },
    {
      "cell_type": "code",
      "source": [
        "spark.sql('''SELECT product_id, product_name, Price, Category, StockQuantity, Brand, Rating, Warehouse\n",
        "FROM Products\n",
        "WHERE Rating > 4.5;''').show()"
      ],
      "metadata": {
        "id": "vBgICWcjmuzE",
        "outputId": "7afa2728-5441-48f0-e471-415e5e67bfbc",
        "colab": {
          "base_uri": "https://localhost:8080/"
        }
      },
      "execution_count": 97,
      "outputs": [
        {
          "output_type": "stream",
          "name": "stdout",
          "text": [
            "+----------+------------------+------+--------+-------------+------------+------+--------------+\n",
            "|product_id|      product_name| Price|Category|StockQuantity|       Brand|Rating|     Warehouse|\n",
            "+----------+------------------+------+--------+-------------+------------+------+--------------+\n",
            "|    5349.0|      Rubik's Cube| 344.7|    Toys|         26.0|      Disney|   4.6|       Vietnam|\n",
            "|     269.0|    Stuffed Animal| 414.4|    Toys|         40.0|        Brio|   4.9|       Ireland|\n",
            "|    5627.0|          Play-Doh|152.43|    Toys|         35.0|  Mega Bloks|   4.6|       Ukraine|\n",
            "|    2767.0|              Lego|159.29|    Toys|          4.0|      Mattel|   4.6|      Malaysia|\n",
            "|    9127.0|          Toy Boat|279.61|    Toys|         28.0|   DC Comics|   4.8|      Colombia|\n",
            "|   10790.0|              Kite|371.48|    Toys|         27.0|     Crayola|   4.6|         Japan|\n",
            "|    9404.0|         Toy Piano|130.69|    Toys|         31.0|   DC Comics|   4.8|   South Korea|\n",
            "|     905.0|         Toy Piano|390.21|    Toys|         86.0|      Hasbro|   4.8|     Argentina|\n",
            "|    2990.0|Remote Control Car| 94.28|    Toys|         87.0|        Nerf|   4.6|         Japan|\n",
            "|    2427.0|   Building Blocks|312.07|    Toys|         13.0|Transformers|   4.6|        Mexico|\n",
            "|    6832.0|    Stuffed Animal|458.61|    Toys|         70.0|        Lego|   4.9|  South Africa|\n",
            "|    1203.0|        Toy Guitar|301.76|    Toys|         56.0|      Disney|   4.8|         Japan|\n",
            "|    8756.0|      Toy Tool Set|125.29|    Toys|          4.0|      Chicco|   4.9|   Netherlands|\n",
            "|    9709.0|   Toy Kitchen Set|457.84|    Toys|         88.0|   Star Wars|   4.8|        Poland|\n",
            "|    7385.0|Remote Control Car| 15.88|    Toys|         81.0|  Hot Wheels|   4.6|Czech Republic|\n",
            "|   11261.0|       Barbie Doll|312.32|    Toys|         32.0|      Marvel|   4.7|        Norway|\n",
            "|    4454.0|   Toy Kitchen Set| 428.8|    Toys|         35.0|  Mega Bloks|   4.6|         China|\n",
            "|     457.0|   Building Blocks| 33.17|    Toys|         27.0|     Crayola|   5.0|         Qatar|\n",
            "|   11688.0|    Stuffed Animal|216.57|    Toys|         54.0| Nickelodeon|   4.8|         India|\n",
            "|    7701.0|        Hot Wheels|445.59|    Toys|         82.0|      Marvel|   4.9|         Qatar|\n",
            "+----------+------------------+------+--------+-------------+------------+------+--------------+\n",
            "only showing top 20 rows\n",
            "\n"
          ]
        }
      ]
    },
    {
      "cell_type": "code",
      "source": [
        "spark.sql('''\n",
        "SELECT product_id, product_name, Price, Category, StockQuantity, Brand, Rating, Warehouse\n",
        "FROM Products\n",
        "WHERE Brand = 'Nike';\n",
        "''').show()"
      ],
      "metadata": {
        "id": "_vgW2558on2e",
        "outputId": "e9eb7cef-e430-4536-f0cc-29ea0464572f",
        "colab": {
          "base_uri": "https://localhost:8080/"
        }
      },
      "execution_count": 98,
      "outputs": [
        {
          "output_type": "stream",
          "name": "stdout",
          "text": [
            "+----------+------------+-------+--------+-------------+-----+------+--------------------+\n",
            "|product_id|product_name|  Price|Category|StockQuantity|Brand|Rating|           Warehouse|\n",
            "+----------+------------+-------+--------+-------------+-----+------+--------------------+\n",
            "|    4301.0|       Belts|4911.49|clothing|         78.0| Nike|   1.7|             Hungary|\n",
            "|    4646.0|       Belts| 580.85|clothing|         99.0| Nike|   5.0|         New Zealand|\n",
            "|   10432.0|      Gloves|2631.52|clothing|         73.0| Nike|   4.4|         Switzerland|\n",
            "|    9755.0|     Dresses| 189.59|clothing|         30.0| Nike|   2.2|              Israel|\n",
            "|    4646.0|     Scarves|2989.67|clothing|         67.0| Nike|   3.5|              Greece|\n",
            "|   11235.0|    Leggings| 214.99|clothing|         80.0| Nike|   2.7|           Singapore|\n",
            "|    4733.0|       Socks|1105.65|clothing|        100.0| Nike|   4.6|           Indonesia|\n",
            "|    8419.0|     Blouses|4021.55|clothing|         96.0| Nike|   2.7|      United Kingdom|\n",
            "|    3126.0|    T-shirts| 990.86|clothing|         63.0| Nike|   2.8|             Denmark|\n",
            "|    8899.0|   Nightwear|3072.45|clothing|         33.0| Nike|   4.4|                Peru|\n",
            "|    7974.0|     Blouses|2629.61|clothing|         73.0| Nike|   1.5|         Netherlands|\n",
            "|    4852.0|    T-shirts|3668.27|clothing|         23.0| Nike|   3.6|                Peru|\n",
            "|    4243.0|     Scarves|3229.21|clothing|         88.0| Nike|   3.1|               Qatar|\n",
            "|   10267.0|    Swimwear|4140.48|clothing|         79.0| Nike|   1.8|United Arab Emirates|\n",
            "|    2006.0| Polo shirts|4229.16|clothing|          1.0| Nike|   2.0|             Austria|\n",
            "|    5486.0|       Suits|  700.1|clothing|         65.0| Nike|   1.1|              Sweden|\n",
            "|    5882.0|       Coats|1364.59|clothing|         27.0| Nike|   3.7|             Denmark|\n",
            "|    1995.0|        Hats| 541.28|clothing|         64.0| Nike|   4.4|             Belgium|\n",
            "|    3575.0| Polo shirts| 347.16|clothing|          6.0| Nike|   5.0|            Thailand|\n",
            "|    5645.0|      Gloves|4346.35|clothing|         25.0| Nike|   1.8|               China|\n",
            "+----------+------------+-------+--------+-------------+-----+------+--------------------+\n",
            "only showing top 20 rows\n",
            "\n"
          ]
        }
      ]
    },
    {
      "cell_type": "code",
      "source": [
        "spark.sql('''\n",
        "SELECT Category, MAX(Price) as MaxPrice\n",
        "FROM Products\n",
        "GROUP BY Category;\n",
        "''').show()"
      ],
      "metadata": {
        "id": "MElwX0lPp_xJ",
        "outputId": "99ef24ca-2f04-4091-b69f-baa82106d29e",
        "colab": {
          "base_uri": "https://localhost:8080/"
        }
      },
      "execution_count": 99,
      "outputs": [
        {
          "output_type": "stream",
          "name": "stdout",
          "text": [
            "+-----------+---------+\n",
            "|   Category| MaxPrice|\n",
            "+-----------+---------+\n",
            "|Electronics|149928.85|\n",
            "|      Books|  3996.18|\n",
            "|  Furniture|   1000.0|\n",
            "|Accessories|  9995.08|\n",
            "|   clothing|   4999.1|\n",
            "|   footwear|  4999.79|\n",
            "|  cosmetics|   4997.9|\n",
            "|       Toys|   499.89|\n",
            "+-----------+---------+\n",
            "\n"
          ]
        }
      ]
    },
    {
      "cell_type": "code",
      "source": [
        "spark.sql('''SELECT product_id, product_name, Price, Category, StockQuantity, Brand, Rating, Warehouse\n",
        "FROM Products\n",
        "WHERE StockQuantity < 10;''').show()"
      ],
      "metadata": {
        "id": "E_CUr6Q6qoB1",
        "outputId": "a5e09839-0ebf-4489-be5a-c9bc38c303d4",
        "colab": {
          "base_uri": "https://localhost:8080/"
        }
      },
      "execution_count": 100,
      "outputs": [
        {
          "output_type": "stream",
          "name": "stdout",
          "text": [
            "+----------+------------------+------+--------+-------------+----------------+------+--------------+\n",
            "|product_id|      product_name| Price|Category|StockQuantity|           Brand|Rating|     Warehouse|\n",
            "+----------+------------------+------+--------+-------------+----------------+------+--------------+\n",
            "|    2767.0|              Lego|159.29|    Toys|          4.0|          Mattel|   4.6|      Malaysia|\n",
            "|    8667.0|        Hot Wheels|155.15|    Toys|          6.0|          Mattel|   2.7|      Malaysia|\n",
            "|    5801.0|          Play-Doh|394.89|    Toys|          7.0|  My Little Pony|   2.3|         Japan|\n",
            "|    2827.0|Remote Control Car|178.47|    Toys|          6.0|      Mega Bloks|   1.1|         China|\n",
            "|    8756.0|      Toy Tool Set|125.29|    Toys|          4.0|          Chicco|   4.9|   Netherlands|\n",
            "|    3242.0|        Teddy Bear|384.78|    Toys|          2.0|          Chicco|   1.3|Czech Republic|\n",
            "|     388.0|       Barbie Doll|476.32|    Toys|          5.0|        Play-Doh|   3.0|        Mexico|\n",
            "|    3330.0|           Toy Car| 27.12|    Toys|          5.0|      Mega Bloks|   2.6|        Turkey|\n",
            "|    6777.0|     Action Figure|198.45|    Toys|          6.0|      Hot Wheels|   2.1|       Romania|\n",
            "|    4962.0|         Toy Plane|278.94|    Toys|          4.0|      Mega Bloks|   4.6|        Norway|\n",
            "|    8993.0|   Building Blocks|372.76|    Toys|          7.0|Thomas & Friends|   4.7|       Ireland|\n",
            "|    2886.0|        Toy Guitar|478.54|    Toys|          7.0|            Brio|   4.3|         Japan|\n",
            "|    9213.0|        Teddy Bear|134.32|    Toys|          4.0|    Fisher-Price|   4.8|        Canada|\n",
            "|    7355.0|              Kite|322.48|    Toys|          5.0|           Tonka|   4.6|       Hungary|\n",
            "|    3774.0|        Hot Wheels| 48.06|    Toys|          4.0|       Peppa Pig|   2.0|         Spain|\n",
            "|    3493.0|          Play-Doh|337.43|    Toys|          3.0|         Crayola|   2.1|       Vietnam|\n",
            "|    2952.0|           Toy Car|215.98|    Toys|          2.0|          Marvel|   4.0|         Qatar|\n",
            "|     423.0|            Puzzle|455.83|    Toys|          9.0|          Mattel|   1.8|         Spain|\n",
            "|    2595.0|         Dollhouse|409.45|    Toys|          8.0|        Schleich|   2.2|       Vietnam|\n",
            "|      39.0|      Toy Dinosaur| 439.2|    Toys|          5.0|         Crayola|   4.4|      Portugal|\n",
            "+----------+------------------+------+--------+-------------+----------------+------+--------------+\n",
            "only showing top 20 rows\n",
            "\n"
          ]
        }
      ]
    },
    {
      "cell_type": "code",
      "source": [
        "spark.sql('''SELECT Category, AVG(Price) as AveragePrice\n",
        "FROM Products\n",
        "GROUP BY Category;''').show()"
      ],
      "metadata": {
        "id": "krd4EJOxrzv1",
        "outputId": "18986359-c258-4a3c-e743-0bdda0eb1566",
        "colab": {
          "base_uri": "https://localhost:8080/"
        }
      },
      "execution_count": 101,
      "outputs": [
        {
          "output_type": "stream",
          "name": "stdout",
          "text": [
            "+-----------+------------------+\n",
            "|   Category|      AveragePrice|\n",
            "+-----------+------------------+\n",
            "|Electronics| 75744.04024666667|\n",
            "|      Books|2080.8343066666653|\n",
            "|  Furniture| 504.6888933333332|\n",
            "|Accessories| 5108.241019999994|\n",
            "|   clothing|2521.3186399999995|\n",
            "|   footwear|2570.2823466666673|\n",
            "|  cosmetics|2563.4038866666633|\n",
            "|       Toys|256.97085333333297|\n",
            "+-----------+------------------+\n",
            "\n"
          ]
        }
      ]
    },
    {
      "cell_type": "code",
      "source": [
        "spark.sql('''SELECT product_id, product_name, Price, Category, StockQuantity, Brand, Rating, Warehouse\n",
        "FROM Products\n",
        "WHERE Brand IN (SELECT Brand FROM Products GROUP BY Brand HAVING COUNT(*) > 5);''').show()"
      ],
      "metadata": {
        "id": "N8npNn5nsd6f",
        "outputId": "c9f55d52-256a-4719-f4fa-e78172f9f578",
        "colab": {
          "base_uri": "https://localhost:8080/"
        }
      },
      "execution_count": 102,
      "outputs": [
        {
          "output_type": "stream",
          "name": "stdout",
          "text": [
            "+----------+--------------+------+--------+-------------+----------------+------+--------------------+\n",
            "|product_id|  product_name| Price|Category|StockQuantity|           Brand|Rating|           Warehouse|\n",
            "+----------+--------------+------+--------+-------------+----------------+------+--------------------+\n",
            "|    2928.0|  Toy Tool Set| 97.19|    Toys|         49.0|          Disney|   1.1|             Hungary|\n",
            "|    5349.0|  Rubik's Cube| 344.7|    Toys|         26.0|          Disney|   4.6|             Vietnam|\n",
            "|     847.0|     Dollhouse| 80.21|    Toys|         70.0|Thomas & Friends|   2.8|           Singapore|\n",
            "|    3463.0|  Toy Dinosaur|442.73|    Toys|         85.0|          Disney|   1.7|           Indonesia|\n",
            "|    9252.0|  Rubik's Cube|182.74|    Toys|         82.0|       DC Comics|   2.3|             Ireland|\n",
            "|     269.0|Stuffed Animal| 414.4|    Toys|         40.0|            Brio|   4.9|             Ireland|\n",
            "|   10209.0|     Toy Train|337.68|    Toys|         42.0|           VTech|   2.1|             Hungary|\n",
            "|    5230.0|       Toy Car| 16.18|    Toys|         48.0|    Transformers|   4.3|              Kuwait|\n",
            "|    5627.0|      Play-Doh|152.43|    Toys|         35.0|      Mega Bloks|   4.6|             Ukraine|\n",
            "|    3632.0|       Toy Car|253.71|    Toys|         62.0|       Star Wars|   3.2|             Belgium|\n",
            "|    2479.0|        Puzzle|  76.0|    Toys|         37.0|            Brio|   1.6|              Norway|\n",
            "|    6036.0|Stuffed Animal|207.78|    Toys|         73.0|  My Little Pony|   1.5|         New Zealand|\n",
            "|     708.0|Stuffed Animal|297.43|    Toys|         26.0|    Transformers|   2.3|               Qatar|\n",
            "|    8528.0| Action Figure| 145.0|    Toys|         66.0|      Hot Wheels|   2.5|             Belgium|\n",
            "|    9250.0|       Toy Car|439.24|    Toys|         87.0|          Marvel|   4.0|               Chile|\n",
            "|    1420.0|  Toy Dinosaur|103.24|    Toys|         28.0|        Schleich|   2.1|            Malaysia|\n",
            "|    7452.0|          Kite| 34.86|    Toys|         60.0|    Fisher-Price|   2.6|         Philippines|\n",
            "|    2343.0|  Toy Tool Set| 229.2|    Toys|         88.0|  Melissa & Doug|   1.3|             Denmark|\n",
            "|    9828.0|  Toy Tool Set|308.93|    Toys|         71.0|      Paw Patrol|   2.0|              France|\n",
            "|    3570.0|   Toy Soldier|256.67|    Toys|         82.0|            Nerf|   4.3|United Arab Emirates|\n",
            "+----------+--------------+------+--------+-------------+----------------+------+--------------------+\n",
            "only showing top 20 rows\n",
            "\n"
          ]
        }
      ]
    },
    {
      "cell_type": "code",
      "source": [
        "spark.sql('''SELECT product_id, product_name, Price, Category, StockQuantity, Brand, Rating, Warehouse\n",
        "FROM Products\n",
        "WHERE Price > (SELECT MAX(Price) FROM Products WHERE Category = 'Books');''').show()"
      ],
      "metadata": {
        "id": "XWi1afastEQl",
        "outputId": "017a5a53-ba2b-4c63-89ff-84dcbf3f1a5f",
        "colab": {
          "base_uri": "https://localhost:8080/"
        }
      },
      "execution_count": 103,
      "outputs": [
        {
          "output_type": "stream",
          "name": "stdout",
          "text": [
            "+----------+--------------------+---------+-----------+-------------+---------+------+--------------+\n",
            "|product_id|        product_name|    Price|   Category|StockQuantity|    Brand|Rating|     Warehouse|\n",
            "+----------+--------------------+---------+-----------+-------------+---------+------+--------------+\n",
            "|    5761.0|Wearable Fitness ...| 28678.56|Electronics|         78.0|  Samsung|   1.0|         Egypt|\n",
            "|    4901.0|    Air Conditioners| 36859.54|Electronics|         84.0|  Toshiba|   2.5|       Vietnam|\n",
            "|    7877.0|    Security Cameras| 34801.44|Electronics|         95.0|   Realme|   4.2|     Argentina|\n",
            "|    8850.0|   Portable Chargers| 113356.4|Electronics|         50.0|   Huawei|   2.4|United Kingdom|\n",
            "|    4518.0|            Monitors|121503.73|Electronics|         55.0|     Asus|   4.5|        Mexico|\n",
            "|    8863.0|             Laptops| 88953.24|Electronics|         21.0|Whirlpool|   4.5|  South Africa|\n",
            "|   10021.0|          Microwaves|  29432.7|Electronics|         86.0|     Bose|   4.2|       Belgium|\n",
            "|    5375.0|    Security Cameras| 43152.05|Electronics|         57.0|     Sony|   3.2|      Colombia|\n",
            "|   11661.0|            Printers| 18453.13|Electronics|          6.0|   Google|   1.7|        Poland|\n",
            "|      11.0|   Portable Chargers| 39509.19|Electronics|         45.0|  Siemens|   3.4|   Philippines|\n",
            "|   11868.0|     Digital Cameras|130201.22|Electronics|          2.0|    Canon|   2.6|         Chile|\n",
            "|   11052.0|    Security Cameras|147722.25|Electronics|         50.0|     Acer|   1.5|         Qatar|\n",
            "|    9375.0|           E-readers| 90790.84|Electronics|         39.0|    GoPro|   1.4|       Romania|\n",
            "|   10341.0|  Keyboards and Mice|140888.95|Electronics|         86.0| Logitech|   4.1|  Saudi Arabia|\n",
            "|    8374.0|            Printers|113830.94|Electronics|         46.0|   Amazon|   1.3|        France|\n",
            "|    2264.0|   Streaming Devices| 10238.64|Electronics|         70.0|    GoPro|   3.6|        Russia|\n",
            "|    2598.0|            Printers| 61321.77|Electronics|         86.0| Logitech|   1.8|        Kuwait|\n",
            "|    5025.0|Wearable Fitness ...| 90574.26|Electronics|         29.0|    Nikon|   2.8|        Canada|\n",
            "|    3938.0|            Monitors|130416.27|Electronics|         96.0|     Dell|   1.1|          Peru|\n",
            "|    9112.0|           E-readers|102803.34|Electronics|         27.0|Whirlpool|   1.1|       Belgium|\n",
            "+----------+--------------------+---------+-----------+-------------+---------+------+--------------+\n",
            "only showing top 20 rows\n",
            "\n"
          ]
        }
      ]
    },
    {
      "cell_type": "code",
      "source": [
        "spark.sql('''SELECT product_id, product_name, Price, Category, StockQuantity, Brand, Rating, Warehouse,\n",
        "       RANK() OVER (PARTITION BY Category ORDER BY Price DESC) AS PriceRank\n",
        "FROM Products;''').show()"
      ],
      "metadata": {
        "id": "8kycWgxGtqiV",
        "outputId": "1c403061-ff20-4d30-cca1-57ad7f73aaa5",
        "colab": {
          "base_uri": "https://localhost:8080/"
        }
      },
      "execution_count": 104,
      "outputs": [
        {
          "output_type": "stream",
          "name": "stdout",
          "text": [
            "+----------+--------------------+-------+-----------+-------------+-------------+------+-------------+---------+\n",
            "|product_id|        product_name|  Price|   Category|StockQuantity|        Brand|Rating|    Warehouse|PriceRank|\n",
            "+----------+--------------------+-------+-----------+-------------+-------------+------+-------------+---------+\n",
            "|    9906.0|              Helmet|9995.08|Accessories|         48.0|       Fossil|   3.1|     Malaysia|        1|\n",
            "|    6502.0|             Handbag|9993.93|Accessories|         75.0|      Versace|   3.6|       Norway|        2|\n",
            "|    1283.0|            Umbrella|9989.05|Accessories|         79.0|Louis Vuitton|   3.5|        Italy|        3|\n",
            "|    9838.0|Handkerchiefs and...|9988.57|Accessories|         52.0|      Ray-Ban|   1.1|       Greece|        4|\n",
            "|    1932.0|             Glasses|9979.47|Accessories|         44.0|        Fendi|   1.5|  South Korea|        5|\n",
            "|   10780.0|             Earring|9970.95|Accessories|         74.0|         Dior|   1.0|United States|        6|\n",
            "|    7108.0|             Anklets|9956.74|Accessories|         89.0|       Hermes|   4.2|      Vietnam|        7|\n",
            "|    7109.0|                 Hat|9951.36|Accessories|         71.0|   Tory Burch|   3.0|     Colombia|        8|\n",
            "|    4681.0|Handkerchiefs and...| 9943.2|Accessories|         88.0|   Tory Burch|   1.4|     Thailand|        9|\n",
            "|    8186.0|             Handbag|9936.52|Accessories|          1.0|     Burberry|   1.9|         Peru|       10|\n",
            "|   11599.0|             Earring|9933.48|Accessories|         29.0|        Fendi|   4.3|      Belgium|       11|\n",
            "|      61.0|             Necktie|9931.55|Accessories|         97.0|       Hermes|   4.4|     Malaysia|       12|\n",
            "|    4285.0|              Helmet|9928.64|Accessories|         68.0|      Bvlgari|   2.5|      Ukraine|       13|\n",
            "|    8727.0|             Handbag|9924.46|Accessories|         32.0|Louis Vuitton|   1.5|  South Korea|       14|\n",
            "|    1020.0|             Necktie|9920.85|Accessories|          1.0|       Hermes|   3.0|       Russia|       15|\n",
            "|     472.0|   Brooches and Pins|9916.51|Accessories|         93.0|    Swarovski|   1.7|    Australia|       16|\n",
            "|   11380.0|             Wallets| 9915.8|Accessories|         26.0|      Ray-Ban|   4.3|  New Zealand|       17|\n",
            "|    7123.0|               Glove|9913.78|Accessories|         15.0|   Kate Spade|   1.2|        Chile|       18|\n",
            "|    8977.0|            Umbrella|9913.05|Accessories|         52.0|         Dior|   3.9|        Egypt|       19|\n",
            "|    5814.0|             Wallets|9906.91|Accessories|          2.0|        Prada|   3.0|       Mexico|       20|\n",
            "+----------+--------------------+-------+-----------+-------------+-------------+------+-------------+---------+\n",
            "only showing top 20 rows\n",
            "\n"
          ]
        }
      ]
    },
    {
      "cell_type": "code",
      "source": [
        "spark.sql('''SELECT product_id, product_name, Price, Category, StockQuantity, Brand, Rating, Warehouse,\n",
        "       RANK() OVER (ORDER BY StockQuantity DESC) AS StockRank\n",
        "FROM Products;''').show()"
      ],
      "metadata": {
        "id": "w686fXFguy6P",
        "outputId": "cba8df65-6a97-485c-b85c-d5f35670dda4",
        "colab": {
          "base_uri": "https://localhost:8080/"
        }
      },
      "execution_count": 105,
      "outputs": [
        {
          "output_type": "stream",
          "name": "stdout",
          "text": [
            "+----------+---------------+---------+-----------+-------------+----------------+------+------------+---------+\n",
            "|product_id|   product_name|    Price|   Category|StockQuantity|           Brand|Rating|   Warehouse|StockRank|\n",
            "+----------+---------------+---------+-----------+-------------+----------------+------+------------+---------+\n",
            "|     146.0|    Barbie Doll|     13.1|       Toys|        100.0|      Paw Patrol|   4.9|      Norway|        1|\n",
            "|    5193.0| Smart Speakers| 17650.39|Electronics|        100.0|          Huawei|   2.1|South Africa|        1|\n",
            "|    2439.0|     Teddy Bear|   368.91|       Toys|        100.0|       DC Comics|   4.0|South Africa|        1|\n",
            "|    9009.0|      Dollhouse|   126.71|       Toys|        100.0|          Disney|   2.2|     Belgium|        1|\n",
            "|    1985.0|Building Blocks|   276.43|       Toys|        100.0|      Hot Wheels|   1.9|      Turkey|        1|\n",
            "|    9596.0|     Toy Guitar|   223.82|       Toys|        100.0|       DC Comics|   5.0|    Malaysia|        1|\n",
            "|     997.0|     Toy Guitar|    425.6|       Toys|        100.0|       Playmobil|   4.4|     Hungary|        1|\n",
            "|    1147.0|    Barbie Doll|   358.36|       Toys|        100.0|Thomas & Friends|   2.5|      Israel|        1|\n",
            "|    2577.0|Building Blocks|   293.62|       Toys|        100.0|  My Little Pony|   1.2| Netherlands|        1|\n",
            "|    5949.0|           Kite|   467.74|       Toys|        100.0|        LeapFrog|   3.3| South Korea|        1|\n",
            "|   11343.0|Building Blocks|   338.47|       Toys|        100.0|     Nickelodeon|   3.1|    Portugal|        1|\n",
            "|   10082.0|       Play-Doh|    40.47|       Toys|        100.0|        Schleich|   1.8|      Sweden|        1|\n",
            "|    5282.0|   Smart Lights| 86596.95|Electronics|        100.0|          Fitbit|   1.6|       Japan|        1|\n",
            "|     326.0|          Yo-Yo|    60.31|       Toys|        100.0|            Lego|   1.9|     Finland|        1|\n",
            "|    6007.0|Digital Cameras| 91426.65|Electronics|        100.0|     PlayStation|   4.5|     Belgium|        1|\n",
            "|    5676.0|      Toy Piano|   376.16|       Toys|        100.0|  Melissa & Doug|   2.1|        Peru|        1|\n",
            "|    2895.0|  Sound Systems|107003.52|Electronics|        100.0|          Amazon|   1.5|   Argentina|        1|\n",
            "|    7226.0|     Toy Guitar|   125.78|       Toys|        100.0|          Marvel|   3.5|     Belgium|        1|\n",
            "|    9597.0|       Monitors| 73432.89|Electronics|        100.0|            Roku|   1.7|   Indonesia|        1|\n",
            "|     794.0|           Kite|   177.89|       Toys|        100.0|        Play-Doh|   3.8|     Ukraine|        1|\n",
            "+----------+---------------+---------+-----------+-------------+----------------+------+------------+---------+\n",
            "only showing top 20 rows\n",
            "\n"
          ]
        }
      ]
    },
    {
      "cell_type": "code",
      "source": [
        "spark.sql('''SELECT product_id, product_name, Price, Category, StockQuantity, Brand, Rating, Warehouse,\n",
        "       DENSE_RANK() OVER (ORDER BY Price DESC) AS OverallPriceRank\n",
        "FROM Products;''').show()"
      ],
      "metadata": {
        "id": "xWlOYk5ivRNF",
        "outputId": "4d936bf6-145a-4feb-bbb2-030f3e11a7cb",
        "colab": {
          "base_uri": "https://localhost:8080/"
        }
      },
      "execution_count": 106,
      "outputs": [
        {
          "output_type": "stream",
          "name": "stdout",
          "text": [
            "+----------+--------------------+---------+-----------+-------------+----------+------+--------------+----------------+\n",
            "|product_id|        product_name|    Price|   Category|StockQuantity|     Brand|Rating|     Warehouse|OverallPriceRank|\n",
            "+----------+--------------------+---------+-----------+-------------+----------+------+--------------+----------------+\n",
            "|    6285.0|     Gaming Consoles|149928.85|Electronics|         55.0|   Samsung|   1.5|      Portugal|               1|\n",
            "|    9973.0|            Printers|149755.47|Electronics|         33.0|Sennheiser|   1.7|      Colombia|               2|\n",
            "|    4867.0|      Smart Speakers| 149608.0|Electronics|          7.0|     Bosch|   2.8|        Poland|               3|\n",
            "|   10012.0|       Sound Systems|149587.42|Electronics|         56.0|        HP|   4.4|        Sweden|               4|\n",
            "|    8846.0|Electric Toothbru...|149570.39|Electronics|         15.0| Whirlpool|   3.4|       Germany|               5|\n",
            "|    4780.0|    Electric Shavers|149522.95|Electronics|         37.0|      Asus|   3.0|        Poland|               6|\n",
            "|    1019.0|        Smartwatches|149297.73|Electronics|         27.0|     Dyson|   3.9|United Kingdom|               7|\n",
            "|    3613.0|     Digital Cameras|148951.88|Electronics|         27.0|      Dell|   3.1|     Indonesia|               8|\n",
            "|   11111.0|            Printers|148889.54|Electronics|         62.0|     Canon|   1.3|        Sweden|               9|\n",
            "|    3382.0|            Monitors|148709.86|Electronics|         82.0|    Xiaomi|   4.8|         Egypt|              10|\n",
            "|    8385.0|   Streaming Devices|148708.44|Electronics|         88.0|   Siemens|   4.9|          Peru|              11|\n",
            "|    8443.0|        Smart Lights|148695.32|Electronics|         45.0|     Canon|   2.2|       Germany|              12|\n",
            "|    3324.0|  Keyboards and Mice|148688.47|Electronics|         43.0|  Logitech|   4.9|        Israel|              13|\n",
            "|    6999.0|Bluetooth Headpho...|148669.67|Electronics|         48.0|      Dell|   4.9|        Greece|              14|\n",
            "|    6056.0| Blu-ray/DVD Players|148572.63|Electronics|         71.0|    Amazon|   1.8|         Japan|              15|\n",
            "|    7063.0| Blu-ray/DVD Players|148382.44|Electronics|         55.0|      Oppo|   3.0|       Hungary|              16|\n",
            "|    3827.0|      Smart Speakers|148172.47|Electronics|         91.0|      Asus|   3.5|         Qatar|              17|\n",
            "|    6231.0|   Streaming Devices|148006.86|Electronics|         59.0|   OnePlus|   1.3|       Romania|              18|\n",
            "|   11134.0|    Fitness Trackers|147920.22|Electronics|         97.0|   Toshiba|   2.3|   Philippines|              19|\n",
            "|    6576.0|  Keyboards and Mice|147722.57|Electronics|         10.0|    Huawei|   1.4|        Mexico|              20|\n",
            "+----------+--------------------+---------+-----------+-------------+----------+------+--------------+----------------+\n",
            "only showing top 20 rows\n",
            "\n"
          ]
        }
      ]
    },
    {
      "cell_type": "code",
      "source": [
        "spark.sql('''SELECT Category, MAX(Price) AS MaxPrice, MIN(Price) AS MinPrice\n",
        "FROM Products\n",
        "GROUP BY Category;''').show()"
      ],
      "metadata": {
        "id": "PSpPDwpUvpSL",
        "outputId": "79272e8e-f7f0-4b60-fcb3-d3adcf17db0d",
        "colab": {
          "base_uri": "https://localhost:8080/"
        }
      },
      "execution_count": 107,
      "outputs": [
        {
          "output_type": "stream",
          "name": "stdout",
          "text": [
            "+-----------+---------+--------+\n",
            "|   Category| MaxPrice|MinPrice|\n",
            "+-----------+---------+--------+\n",
            "|Electronics|149928.85|   516.2|\n",
            "|      Books|  3996.18|  104.18|\n",
            "|  Furniture|   1000.0|   10.03|\n",
            "|Accessories|  9995.08|  109.33|\n",
            "|   clothing|   4999.1|  108.64|\n",
            "|   footwear|  4999.79|  105.46|\n",
            "|  cosmetics|   4997.9|  100.79|\n",
            "|       Toys|   499.89|    5.93|\n",
            "+-----------+---------+--------+\n",
            "\n"
          ]
        }
      ]
    },
    {
      "cell_type": "code",
      "source": [
        "df.to_csv('my_orders.csv', index=False)"
      ],
      "metadata": {
        "id": "tYWuDb4OwjyL"
      },
      "execution_count": 113,
      "outputs": []
    },
    {
      "cell_type": "code",
      "source": [
        "import pandas as pd\n",
        "import random\n",
        "from datetime import datetime, timedelta\n",
        "from faker import Faker\n",
        "\n",
        "# Initialize Faker\n",
        "fake = Faker()\n",
        "\n",
        "# Sample data\n",
        "order_statuses = ['Pending', 'Shipped', 'Delivered', 'Cancelled']\n",
        "\n",
        "# Generate orders\n",
        "orders = [{\n",
        "    'order_id': i,\n",
        "    'customer_id': random.randint(1, 5000),\n",
        "    'customer_name': fake.name(),\n",
        "    'product_id': random.randint(1,12000),\n",
        "    'customer_email': fake.email(),\n",
        "    'quantity': random.randint(1, 5),\n",
        "    'order_date': fake.date_between(start_date='-30d', end_date='today').strftime('%Y-%m-%d'),\n",
        "    #'order_date': (datetime.now() - timedelta(days=random.randint(1, 30))).strftime('%Y-%m-%d'),\n",
        "    'order_status': random.choice(order_statuses),\n",
        "    #'shipping_address': fake.address()\n",
        "    'shipping_address': fake.address()\n",
        "} for i in range(1, 12000)]  # Adjust the range to change the number of orders\n",
        "\n",
        "# Create DataFrame\n",
        "df = pd.DataFrame(orders)\n",
        "\n",
        "print(df)\n"
      ],
      "metadata": {
        "id": "u1ErQ5ZQ8VFY",
        "outputId": "2130090d-466e-45c3-f528-604cfeeaf6a2",
        "colab": {
          "base_uri": "https://localhost:8080/"
        }
      },
      "execution_count": 114,
      "outputs": [
        {
          "output_type": "stream",
          "name": "stdout",
          "text": [
            "       order_id  customer_id     customer_name  product_id  \\\n",
            "0             1         3588   Steven Thompson        3713   \n",
            "1             2         4121        Adam Mejia        5917   \n",
            "2             3         1341  Timothy Callahan        9505   \n",
            "3             4         3623     Angela Reeves        9214   \n",
            "4             5           39       James Chung        6072   \n",
            "...         ...          ...               ...         ...   \n",
            "11994     11995         1501        Maria West        7644   \n",
            "11995     11996         2516    Crystal Curtis        5078   \n",
            "11996     11997         2168        Ian Bailey        6836   \n",
            "11997     11998         4890  Suzanne Figueroa       10027   \n",
            "11998     11999         4796     Justin Thomas        3209   \n",
            "\n",
            "                  customer_email  quantity  order_date order_status  \\\n",
            "0        bethsampson@example.com         1  2024-07-30      Shipped   \n",
            "1          jeffery03@example.net         3  2024-08-09      Shipped   \n",
            "2         lewisamber@example.net         4  2024-08-15      Pending   \n",
            "3            xfarmer@example.net         5  2024-07-22    Cancelled   \n",
            "4         lowerysara@example.com         4  2024-08-12    Delivered   \n",
            "...                          ...       ...         ...          ...   \n",
            "11994        bmiller@example.org         5  2024-07-23      Pending   \n",
            "11995    shawnguzman@example.com         5  2024-08-04      Shipped   \n",
            "11996      weberjose@example.com         2  2024-07-26      Shipped   \n",
            "11997  heathermiller@example.net         1  2024-07-28      Shipped   \n",
            "11998    johnathan30@example.net         2  2024-08-18      Pending   \n",
            "\n",
            "                                        shipping_address  \n",
            "0               63400 Austin Mills\\nLake Scott, NJ 06799  \n",
            "1                 4132 David Shore\\nDuarteberg, PR 89364  \n",
            "2      5433 Emily Ranch Suite 330\\nSouth Willieland, ...  \n",
            "3      96896 Angela Ville Apt. 773\\nAndreaburgh, OR 5...  \n",
            "4              125 Johnson Cove\\nNew Codyburgh, OR 06983  \n",
            "...                                                  ...  \n",
            "11994         3244 Sanders Well\\nWest Kimberly, FM 83846  \n",
            "11995                   Unit 2069 Box 0213\\nDPO AE 02240  \n",
            "11996  63111 Harvey Squares Suite 502\\nMackmouth, DC ...  \n",
            "11997          63280 Jeremy Lodge\\nAndrewshire, VT 23331  \n",
            "11998      762 Melissa Circles\\nNorth Scottton, TN 67618  \n",
            "\n",
            "[11999 rows x 9 columns]\n"
          ]
        }
      ]
    },
    {
      "cell_type": "code",
      "source": [
        "!pip install faker\n",
        "from faker import Faker"
      ],
      "metadata": {
        "id": "lcqrSlNj9BjN",
        "outputId": "2b037488-e046-4ce0-80a4-841fe549d091",
        "colab": {
          "base_uri": "https://localhost:8080/"
        }
      },
      "execution_count": 115,
      "outputs": [
        {
          "output_type": "stream",
          "name": "stdout",
          "text": [
            "Requirement already satisfied: faker in /usr/local/lib/python3.10/dist-packages (27.0.0)\n",
            "Requirement already satisfied: python-dateutil>=2.4 in /usr/local/lib/python3.10/dist-packages (from faker) (2.8.2)\n",
            "Requirement already satisfied: six>=1.5 in /usr/local/lib/python3.10/dist-packages (from python-dateutil>=2.4->faker) (1.16.0)\n"
          ]
        }
      ]
    },
    {
      "cell_type": "code",
      "source": [
        "spark.sql('''\n",
        "SELECT o.customer_id, o.customer_name, o.order_id, o.order_date\n",
        "FROM orders\n",
        "JOIN products ON c.customer_id = o.customer_id\n",
        "ORDER BY o.order_date DESC;''').show()"
      ],
      "metadata": {
        "id": "xbl15c0a-Q-S",
        "outputId": "d1a33da4-b28a-48a5-d7ba-af320404a3bb",
        "colab": {
          "base_uri": "https://localhost:8080/",
          "height": 671
        }
      },
      "execution_count": 119,
      "outputs": [
        {
          "output_type": "error",
          "ename": "AnalysisException",
          "evalue": "[UNRESOLVED_COLUMN.WITH_SUGGESTION] A column or function parameter with name `c`.`customer_id` cannot be resolved. Did you mean one of the following? [`orders`.`customer_id`, `orders`.`order_id`, `products`.`Brand`, `orders`.`customer_email`, `orders`.`customer_name`].; line 4 pos 17;\n'Sort ['o.order_date DESC NULLS LAST], true\n+- 'Project ['o.customer_id, 'o.customer_name, 'o.order_id, 'o.order_date]\n   +- 'Join Inner, ('c.customer_id = 'o.customer_id)\n      :- SubqueryAlias orders\n      :  +- View (`orders`, [order_id#1247,customer_id#1248,customer_name#1249,product_id#1250,customer_email#1251,quantity#1252,order_date#1253,order_status#1254,shipping_address#1255])\n      :     +- Relation [order_id#1247,customer_id#1248,customer_name#1249,product_id#1250,customer_email#1251,quantity#1252,order_date#1253,order_status#1254,shipping_address#1255] csv\n      +- SubqueryAlias products\n         +- View (`products`, [product_id#1212,product_name#1213,Price#1214,Description#1215,Category#1216,StockQuantity#1217,Brand#1218,Rating#1219,Warehouse#1220])\n            +- Relation [product_id#1212,product_name#1213,Price#1214,Description#1215,Category#1216,StockQuantity#1217,Brand#1218,Rating#1219,Warehouse#1220] csv\n",
          "traceback": [
            "\u001b[0;31m---------------------------------------------------------------------------\u001b[0m",
            "\u001b[0;31mAnalysisException\u001b[0m                         Traceback (most recent call last)",
            "\u001b[0;32m<ipython-input-119-b76c38b63b23>\u001b[0m in \u001b[0;36m<cell line: 1>\u001b[0;34m()\u001b[0m\n\u001b[0;32m----> 1\u001b[0;31m spark.sql('''\n\u001b[0m\u001b[1;32m      2\u001b[0m \u001b[0mSELECT\u001b[0m \u001b[0mo\u001b[0m\u001b[0;34m.\u001b[0m\u001b[0mcustomer_id\u001b[0m\u001b[0;34m,\u001b[0m \u001b[0mo\u001b[0m\u001b[0;34m.\u001b[0m\u001b[0mcustomer_name\u001b[0m\u001b[0;34m,\u001b[0m \u001b[0mo\u001b[0m\u001b[0;34m.\u001b[0m\u001b[0morder_id\u001b[0m\u001b[0;34m,\u001b[0m \u001b[0mo\u001b[0m\u001b[0;34m.\u001b[0m\u001b[0morder_date\u001b[0m\u001b[0;34m\u001b[0m\u001b[0;34m\u001b[0m\u001b[0m\n\u001b[1;32m      3\u001b[0m \u001b[0mFROM\u001b[0m \u001b[0morders\u001b[0m\u001b[0;34m\u001b[0m\u001b[0;34m\u001b[0m\u001b[0m\n\u001b[1;32m      4\u001b[0m \u001b[0mJOIN\u001b[0m \u001b[0mproducts\u001b[0m \u001b[0mON\u001b[0m \u001b[0mc\u001b[0m\u001b[0;34m.\u001b[0m\u001b[0mcustomer_id\u001b[0m \u001b[0;34m=\u001b[0m \u001b[0mo\u001b[0m\u001b[0;34m.\u001b[0m\u001b[0mcustomer_id\u001b[0m\u001b[0;34m\u001b[0m\u001b[0;34m\u001b[0m\u001b[0m\n\u001b[1;32m      5\u001b[0m ORDER BY o.order_date DESC;''').show()\n",
            "\u001b[0;32m/usr/local/lib/python3.10/dist-packages/pyspark/sql/session.py\u001b[0m in \u001b[0;36msql\u001b[0;34m(self, sqlQuery, args, **kwargs)\u001b[0m\n\u001b[1;32m   1629\u001b[0m                     \u001b[0;34m[\u001b[0m\u001b[0m_to_java_column\u001b[0m\u001b[0;34m(\u001b[0m\u001b[0mlit\u001b[0m\u001b[0;34m(\u001b[0m\u001b[0mv\u001b[0m\u001b[0;34m)\u001b[0m\u001b[0;34m)\u001b[0m \u001b[0;32mfor\u001b[0m \u001b[0mv\u001b[0m \u001b[0;32min\u001b[0m \u001b[0;34m(\u001b[0m\u001b[0margs\u001b[0m \u001b[0;32mor\u001b[0m \u001b[0;34m[\u001b[0m\u001b[0;34m]\u001b[0m\u001b[0;34m)\u001b[0m\u001b[0;34m]\u001b[0m\u001b[0;34m\u001b[0m\u001b[0;34m\u001b[0m\u001b[0m\n\u001b[1;32m   1630\u001b[0m                 )\n\u001b[0;32m-> 1631\u001b[0;31m             \u001b[0;32mreturn\u001b[0m \u001b[0mDataFrame\u001b[0m\u001b[0;34m(\u001b[0m\u001b[0mself\u001b[0m\u001b[0;34m.\u001b[0m\u001b[0m_jsparkSession\u001b[0m\u001b[0;34m.\u001b[0m\u001b[0msql\u001b[0m\u001b[0;34m(\u001b[0m\u001b[0msqlQuery\u001b[0m\u001b[0;34m,\u001b[0m \u001b[0mlitArgs\u001b[0m\u001b[0;34m)\u001b[0m\u001b[0;34m,\u001b[0m \u001b[0mself\u001b[0m\u001b[0;34m)\u001b[0m\u001b[0;34m\u001b[0m\u001b[0;34m\u001b[0m\u001b[0m\n\u001b[0m\u001b[1;32m   1632\u001b[0m         \u001b[0;32mfinally\u001b[0m\u001b[0;34m:\u001b[0m\u001b[0;34m\u001b[0m\u001b[0;34m\u001b[0m\u001b[0m\n\u001b[1;32m   1633\u001b[0m             \u001b[0;32mif\u001b[0m \u001b[0mlen\u001b[0m\u001b[0;34m(\u001b[0m\u001b[0mkwargs\u001b[0m\u001b[0;34m)\u001b[0m \u001b[0;34m>\u001b[0m \u001b[0;36m0\u001b[0m\u001b[0;34m:\u001b[0m\u001b[0;34m\u001b[0m\u001b[0;34m\u001b[0m\u001b[0m\n",
            "\u001b[0;32m/usr/local/lib/python3.10/dist-packages/py4j/java_gateway.py\u001b[0m in \u001b[0;36m__call__\u001b[0;34m(self, *args)\u001b[0m\n\u001b[1;32m   1320\u001b[0m \u001b[0;34m\u001b[0m\u001b[0m\n\u001b[1;32m   1321\u001b[0m         \u001b[0manswer\u001b[0m \u001b[0;34m=\u001b[0m \u001b[0mself\u001b[0m\u001b[0;34m.\u001b[0m\u001b[0mgateway_client\u001b[0m\u001b[0;34m.\u001b[0m\u001b[0msend_command\u001b[0m\u001b[0;34m(\u001b[0m\u001b[0mcommand\u001b[0m\u001b[0;34m)\u001b[0m\u001b[0;34m\u001b[0m\u001b[0;34m\u001b[0m\u001b[0m\n\u001b[0;32m-> 1322\u001b[0;31m         return_value = get_return_value(\n\u001b[0m\u001b[1;32m   1323\u001b[0m             answer, self.gateway_client, self.target_id, self.name)\n\u001b[1;32m   1324\u001b[0m \u001b[0;34m\u001b[0m\u001b[0m\n",
            "\u001b[0;32m/usr/local/lib/python3.10/dist-packages/pyspark/errors/exceptions/captured.py\u001b[0m in \u001b[0;36mdeco\u001b[0;34m(*a, **kw)\u001b[0m\n\u001b[1;32m    183\u001b[0m                 \u001b[0;31m# Hide where the exception came from that shows a non-Pythonic\u001b[0m\u001b[0;34m\u001b[0m\u001b[0;34m\u001b[0m\u001b[0m\n\u001b[1;32m    184\u001b[0m                 \u001b[0;31m# JVM exception message.\u001b[0m\u001b[0;34m\u001b[0m\u001b[0;34m\u001b[0m\u001b[0m\n\u001b[0;32m--> 185\u001b[0;31m                 \u001b[0;32mraise\u001b[0m \u001b[0mconverted\u001b[0m \u001b[0;32mfrom\u001b[0m \u001b[0;32mNone\u001b[0m\u001b[0;34m\u001b[0m\u001b[0;34m\u001b[0m\u001b[0m\n\u001b[0m\u001b[1;32m    186\u001b[0m             \u001b[0;32melse\u001b[0m\u001b[0;34m:\u001b[0m\u001b[0;34m\u001b[0m\u001b[0;34m\u001b[0m\u001b[0m\n\u001b[1;32m    187\u001b[0m                 \u001b[0;32mraise\u001b[0m\u001b[0;34m\u001b[0m\u001b[0;34m\u001b[0m\u001b[0m\n",
            "\u001b[0;31mAnalysisException\u001b[0m: [UNRESOLVED_COLUMN.WITH_SUGGESTION] A column or function parameter with name `c`.`customer_id` cannot be resolved. Did you mean one of the following? [`orders`.`customer_id`, `orders`.`order_id`, `products`.`Brand`, `orders`.`customer_email`, `orders`.`customer_name`].; line 4 pos 17;\n'Sort ['o.order_date DESC NULLS LAST], true\n+- 'Project ['o.customer_id, 'o.customer_name, 'o.order_id, 'o.order_date]\n   +- 'Join Inner, ('c.customer_id = 'o.customer_id)\n      :- SubqueryAlias orders\n      :  +- View (`orders`, [order_id#1247,customer_id#1248,customer_name#1249,product_id#1250,customer_email#1251,quantity#1252,order_date#1253,order_status#1254,shipping_address#1255])\n      :     +- Relation [order_id#1247,customer_id#1248,customer_name#1249,product_id#1250,customer_email#1251,quantity#1252,order_date#1253,order_status#1254,shipping_address#1255] csv\n      +- SubqueryAlias products\n         +- View (`products`, [product_id#1212,product_name#1213,Price#1214,Description#1215,Category#1216,StockQuantity#1217,Brand#1218,Rating#1219,Warehouse#1220])\n            +- Relation [product_id#1212,product_name#1213,Price#1214,Description#1215,Category#1216,StockQuantity#1217,Brand#1218,Rating#1219,Warehouse#1220] csv\n"
          ]
        }
      ]
    },
    {
      "cell_type": "code",
      "source": [
        "spark.sql('''\n",
        "SELECT product.product_id, SUM(quantity) / COUNT(DISTINCT DATE_TRUNC('month', order_date)) AS turnover_rate\n",
        "            FROM orders\n",
        "            JOIN products ON product.order_id = order.order_id\n",
        "            GROUP BY product.product_id\n",
        "            ORDER BY turnover_rate DESC;\n",
        "''').show()"
      ],
      "metadata": {
        "id": "XDCIxkdVR4zV",
        "outputId": "d779279a-cfa7-4880-8006-66545f28a87e",
        "colab": {
          "base_uri": "https://localhost:8080/",
          "height": 706
        }
      },
      "execution_count": 75,
      "outputs": [
        {
          "output_type": "error",
          "ename": "AnalysisException",
          "evalue": "[UNRESOLVED_COLUMN.WITH_SUGGESTION] A column or function parameter with name `product`.`order_id` cannot be resolved. Did you mean one of the following? [`products`.`Brand`, `orders`.`order_id`, `products`.`Price`, `products`.`product_id`, `products`.`Rating`].; line 4 pos 47;\n'Sort ['turnover_rate DESC NULLS LAST], true\n+- 'Aggregate ['product.product_id], ['product.product_id, ('SUM('quantity) / 'COUNT(distinct 'DATE_TRUNC(month, 'order_date))) AS turnover_rate#919]\n   +- 'Join Inner, (order_id#850 = 'product.order_id)\n      :- SubqueryAlias orders\n      :  +- View (`orders`, [order_id#850,customer_id#851,customer_name#852,product_id#853,customer_email#854,quantity#855,order_date#856,order_status#857,shipping_address#858])\n      :     +- Relation [order_id#850,customer_id#851,customer_name#852,product_id#853,customer_email#854,quantity#855,order_date#856,order_status#857,shipping_address#858] csv\n      +- SubqueryAlias products\n         +- View (`products`, [product_id#768,product_name#769,Price#770,Description#771,Category#772,StockQuantity#773,Brand#774,Rating#775,Warehouse#776])\n            +- Relation [product_id#768,product_name#769,Price#770,Description#771,Category#772,StockQuantity#773,Brand#774,Rating#775,Warehouse#776] csv\n",
          "traceback": [
            "\u001b[0;31m---------------------------------------------------------------------------\u001b[0m",
            "\u001b[0;31mAnalysisException\u001b[0m                         Traceback (most recent call last)",
            "\u001b[0;32m<ipython-input-75-fa5a45803ed7>\u001b[0m in \u001b[0;36m<cell line: 1>\u001b[0;34m()\u001b[0m\n\u001b[0;32m----> 1\u001b[0;31m spark.sql('''\n\u001b[0m\u001b[1;32m      2\u001b[0m \u001b[0mSELECT\u001b[0m \u001b[0mproduct\u001b[0m\u001b[0;34m.\u001b[0m\u001b[0mproduct_id\u001b[0m\u001b[0;34m,\u001b[0m \u001b[0mSUM\u001b[0m\u001b[0;34m(\u001b[0m\u001b[0mquantity\u001b[0m\u001b[0;34m)\u001b[0m \u001b[0;34m/\u001b[0m \u001b[0mCOUNT\u001b[0m\u001b[0;34m(\u001b[0m\u001b[0mDISTINCT\u001b[0m \u001b[0mDATE_TRUNC\u001b[0m\u001b[0;34m(\u001b[0m\u001b[0;34m'month'\u001b[0m\u001b[0;34m,\u001b[0m \u001b[0morder_date\u001b[0m\u001b[0;34m)\u001b[0m\u001b[0;34m)\u001b[0m \u001b[0mAS\u001b[0m \u001b[0mturnover_rate\u001b[0m\u001b[0;34m\u001b[0m\u001b[0;34m\u001b[0m\u001b[0m\n\u001b[1;32m      3\u001b[0m             \u001b[0mFROM\u001b[0m \u001b[0morders\u001b[0m\u001b[0;34m\u001b[0m\u001b[0;34m\u001b[0m\u001b[0m\n\u001b[1;32m      4\u001b[0m             \u001b[0mJOIN\u001b[0m \u001b[0mproducts\u001b[0m \u001b[0mON\u001b[0m \u001b[0morders\u001b[0m\u001b[0;34m.\u001b[0m\u001b[0morder_id\u001b[0m \u001b[0;34m=\u001b[0m \u001b[0mproduct\u001b[0m\u001b[0;34m.\u001b[0m\u001b[0morder_id\u001b[0m\u001b[0;34m\u001b[0m\u001b[0;34m\u001b[0m\u001b[0m\n\u001b[1;32m      5\u001b[0m             \u001b[0mGROUP\u001b[0m \u001b[0mBY\u001b[0m \u001b[0mproduct\u001b[0m\u001b[0;34m.\u001b[0m\u001b[0mproduct_id\u001b[0m\u001b[0;34m\u001b[0m\u001b[0;34m\u001b[0m\u001b[0m\n",
            "\u001b[0;32m/usr/local/lib/python3.10/dist-packages/pyspark/sql/session.py\u001b[0m in \u001b[0;36msql\u001b[0;34m(self, sqlQuery, args, **kwargs)\u001b[0m\n\u001b[1;32m   1629\u001b[0m                     \u001b[0;34m[\u001b[0m\u001b[0m_to_java_column\u001b[0m\u001b[0;34m(\u001b[0m\u001b[0mlit\u001b[0m\u001b[0;34m(\u001b[0m\u001b[0mv\u001b[0m\u001b[0;34m)\u001b[0m\u001b[0;34m)\u001b[0m \u001b[0;32mfor\u001b[0m \u001b[0mv\u001b[0m \u001b[0;32min\u001b[0m \u001b[0;34m(\u001b[0m\u001b[0margs\u001b[0m \u001b[0;32mor\u001b[0m \u001b[0;34m[\u001b[0m\u001b[0;34m]\u001b[0m\u001b[0;34m)\u001b[0m\u001b[0;34m]\u001b[0m\u001b[0;34m\u001b[0m\u001b[0;34m\u001b[0m\u001b[0m\n\u001b[1;32m   1630\u001b[0m                 )\n\u001b[0;32m-> 1631\u001b[0;31m             \u001b[0;32mreturn\u001b[0m \u001b[0mDataFrame\u001b[0m\u001b[0;34m(\u001b[0m\u001b[0mself\u001b[0m\u001b[0;34m.\u001b[0m\u001b[0m_jsparkSession\u001b[0m\u001b[0;34m.\u001b[0m\u001b[0msql\u001b[0m\u001b[0;34m(\u001b[0m\u001b[0msqlQuery\u001b[0m\u001b[0;34m,\u001b[0m \u001b[0mlitArgs\u001b[0m\u001b[0;34m)\u001b[0m\u001b[0;34m,\u001b[0m \u001b[0mself\u001b[0m\u001b[0;34m)\u001b[0m\u001b[0;34m\u001b[0m\u001b[0;34m\u001b[0m\u001b[0m\n\u001b[0m\u001b[1;32m   1632\u001b[0m         \u001b[0;32mfinally\u001b[0m\u001b[0;34m:\u001b[0m\u001b[0;34m\u001b[0m\u001b[0;34m\u001b[0m\u001b[0m\n\u001b[1;32m   1633\u001b[0m             \u001b[0;32mif\u001b[0m \u001b[0mlen\u001b[0m\u001b[0;34m(\u001b[0m\u001b[0mkwargs\u001b[0m\u001b[0;34m)\u001b[0m \u001b[0;34m>\u001b[0m \u001b[0;36m0\u001b[0m\u001b[0;34m:\u001b[0m\u001b[0;34m\u001b[0m\u001b[0;34m\u001b[0m\u001b[0m\n",
            "\u001b[0;32m/usr/local/lib/python3.10/dist-packages/py4j/java_gateway.py\u001b[0m in \u001b[0;36m__call__\u001b[0;34m(self, *args)\u001b[0m\n\u001b[1;32m   1320\u001b[0m \u001b[0;34m\u001b[0m\u001b[0m\n\u001b[1;32m   1321\u001b[0m         \u001b[0manswer\u001b[0m \u001b[0;34m=\u001b[0m \u001b[0mself\u001b[0m\u001b[0;34m.\u001b[0m\u001b[0mgateway_client\u001b[0m\u001b[0;34m.\u001b[0m\u001b[0msend_command\u001b[0m\u001b[0;34m(\u001b[0m\u001b[0mcommand\u001b[0m\u001b[0;34m)\u001b[0m\u001b[0;34m\u001b[0m\u001b[0;34m\u001b[0m\u001b[0m\n\u001b[0;32m-> 1322\u001b[0;31m         return_value = get_return_value(\n\u001b[0m\u001b[1;32m   1323\u001b[0m             answer, self.gateway_client, self.target_id, self.name)\n\u001b[1;32m   1324\u001b[0m \u001b[0;34m\u001b[0m\u001b[0m\n",
            "\u001b[0;32m/usr/local/lib/python3.10/dist-packages/pyspark/errors/exceptions/captured.py\u001b[0m in \u001b[0;36mdeco\u001b[0;34m(*a, **kw)\u001b[0m\n\u001b[1;32m    183\u001b[0m                 \u001b[0;31m# Hide where the exception came from that shows a non-Pythonic\u001b[0m\u001b[0;34m\u001b[0m\u001b[0;34m\u001b[0m\u001b[0m\n\u001b[1;32m    184\u001b[0m                 \u001b[0;31m# JVM exception message.\u001b[0m\u001b[0;34m\u001b[0m\u001b[0;34m\u001b[0m\u001b[0m\n\u001b[0;32m--> 185\u001b[0;31m                 \u001b[0;32mraise\u001b[0m \u001b[0mconverted\u001b[0m \u001b[0;32mfrom\u001b[0m \u001b[0;32mNone\u001b[0m\u001b[0;34m\u001b[0m\u001b[0;34m\u001b[0m\u001b[0m\n\u001b[0m\u001b[1;32m    186\u001b[0m             \u001b[0;32melse\u001b[0m\u001b[0;34m:\u001b[0m\u001b[0;34m\u001b[0m\u001b[0;34m\u001b[0m\u001b[0m\n\u001b[1;32m    187\u001b[0m                 \u001b[0;32mraise\u001b[0m\u001b[0;34m\u001b[0m\u001b[0;34m\u001b[0m\u001b[0m\n",
            "\u001b[0;31mAnalysisException\u001b[0m: [UNRESOLVED_COLUMN.WITH_SUGGESTION] A column or function parameter with name `product`.`order_id` cannot be resolved. Did you mean one of the following? [`products`.`Brand`, `orders`.`order_id`, `products`.`Price`, `products`.`product_id`, `products`.`Rating`].; line 4 pos 47;\n'Sort ['turnover_rate DESC NULLS LAST], true\n+- 'Aggregate ['product.product_id], ['product.product_id, ('SUM('quantity) / 'COUNT(distinct 'DATE_TRUNC(month, 'order_date))) AS turnover_rate#919]\n   +- 'Join Inner, (order_id#850 = 'product.order_id)\n      :- SubqueryAlias orders\n      :  +- View (`orders`, [order_id#850,customer_id#851,customer_name#852,product_id#853,customer_email#854,quantity#855,order_date#856,order_status#857,shipping_address#858])\n      :     +- Relation [order_id#850,customer_id#851,customer_name#852,product_id#853,customer_email#854,quantity#855,order_date#856,order_status#857,shipping_address#858] csv\n      +- SubqueryAlias products\n         +- View (`products`, [product_id#768,product_name#769,Price#770,Description#771,Category#772,StockQuantity#773,Brand#774,Rating#775,Warehouse#776])\n            +- Relation [product_id#768,product_name#769,Price#770,Description#771,Category#772,StockQuantity#773,Brand#774,Rating#775,Warehouse#776] csv\n"
          ]
        }
      ]
    },
    {
      "cell_type": "code",
      "source": [
        "df1.show()"
      ],
      "metadata": {
        "id": "8Q-KbukDE43w",
        "outputId": "ef599ca1-7a44-41eb-c614-9850610998f1",
        "colab": {
          "base_uri": "https://localhost:8080/"
        }
      },
      "execution_count": 120,
      "outputs": [
        {
          "output_type": "stream",
          "name": "stdout",
          "text": [
            "+----------------+-----------+------------------+----------+--------------------+--------+----------+------------+--------------------+\n",
            "|        order_id|customer_id|     customer_name|product_id|      customer_email|quantity|order_date|order_status|    shipping_address|\n",
            "+----------------+-----------+------------------+----------+--------------------+--------+----------+------------+--------------------+\n",
            "|               1|       2844|       Aaron Davis|       251|anthonygutierrez@...|       2|2024-08-04|   Cancelled|129 Jenkins Landi...|\n",
            "|     Esparzabury|  UT 84418\"|              NULL|      NULL|                NULL|    NULL|      NULL|        NULL|                NULL|\n",
            "|               2|       4799|      Todd Collins|      2669|  tgomez@example.com|       4|2024-08-17|     Pending|    337 Mosley Knoll|\n",
            "|       West Sean|  ID 34412\"|              NULL|      NULL|                NULL|    NULL|      NULL|        NULL|                NULL|\n",
            "|               3|       2794|    Renee Chambers|       131|brettquinn@exampl...|       3|2024-07-24|   Cancelled|      037 David Land|\n",
            "|  East Chadhaven|  MO 84904\"|              NULL|      NULL|                NULL|    NULL|      NULL|        NULL|                NULL|\n",
            "|               4|       1482|       Erin Curtis|     11691|wilcoxjohn@exampl...|       2|2024-08-05|     Shipped|02789 Williams Co...|\n",
            "|South Justinside|  ND 49628\"|              NULL|      NULL|                NULL|    NULL|      NULL|        NULL|                NULL|\n",
            "|               5|       1057|        Mary Blake|     11187|pottssamantha@exa...|       1|2024-07-28|   Delivered|  2763 Potter Tunnel|\n",
            "|       West Joel|  RI 29258\"|              NULL|      NULL|                NULL|    NULL|      NULL|        NULL|                NULL|\n",
            "|               6|        358|         Mary Long|      1972|suzannehanna@exam...|       2|2024-07-20|     Pending|   856 Heather Trail|\n",
            "|    West William|  AS 87590\"|              NULL|      NULL|                NULL|    NULL|      NULL|        NULL|                NULL|\n",
            "|               7|       2649|     Gerald Hardin|     11192|  chad68@example.org|       5|2024-08-01|   Cancelled|     56582 Snow Wall|\n",
            "|      North Tina|  AL 82989\"|              NULL|      NULL|                NULL|    NULL|      NULL|        NULL|                NULL|\n",
            "|               8|       3244|      Dustin Mills|      8100|jennifer12@exampl...|       3|2024-08-18|     Shipped|     982 Mckee Views|\n",
            "|        Johnport|  NC 91265\"|              NULL|      NULL|                NULL|    NULL|      NULL|        NULL|                NULL|\n",
            "|               9|       2998|Christopher Oneill|      6051|travis91@example.org|       1|2024-07-20|     Shipped|05758 Troy Overpa...|\n",
            "|Christophershire|  PA 62594\"|              NULL|      NULL|                NULL|    NULL|      NULL|        NULL|                NULL|\n",
            "|              10|       2705|  Shannon Humphrey|      9988| tracy10@example.com|       2|2024-07-29|   Cancelled|   13016 Tucker Glen|\n",
            "|    Heidiborough|  MN 34433\"|              NULL|      NULL|                NULL|    NULL|      NULL|        NULL|                NULL|\n",
            "+----------------+-----------+------------------+----------+--------------------+--------+----------+------------+--------------------+\n",
            "only showing top 20 rows\n",
            "\n"
          ]
        }
      ]
    },
    {
      "cell_type": "code",
      "source": [
        " spark.sql('''SELECT COUNT(DISTINCT customer_id) AS repeat_customers\n",
        "            FROM orders\n",
        "            WHERE customer_id IN (\n",
        "                    SELECT customer_id\n",
        "                    FROM orders\n",
        "                    GROUP BY customer_id\n",
        "                    HAVING COUNT(order_id) > 1\n",
        "            );''').show()"
      ],
      "metadata": {
        "id": "c99_sxcyY5B6",
        "outputId": "206b1de1-163f-41e9-d47a-af65d696a418",
        "colab": {
          "base_uri": "https://localhost:8080/"
        }
      },
      "execution_count": 76,
      "outputs": [
        {
          "output_type": "stream",
          "name": "stdout",
          "text": [
            "+----------------+\n",
            "|repeat_customers|\n",
            "+----------------+\n",
            "|            3416|\n",
            "+----------------+\n",
            "\n"
          ]
        }
      ]
    },
    {
      "cell_type": "code",
      "source": [
        "spark.sql('''SELECT category_id, EXTRACT(quarter FROM order_date) AS season, COUNT(*) AS order_count\n",
        "            FROM order_items\n",
        "            JOIN products ON order_items.product_id = products.id\n",
        "            JOIN orders ON order_items.order_id = orders.order_id\n",
        "            GROUP BY category_id, season\n",
        "            ORDER BY season, order_count DESC;''').show()"
      ],
      "metadata": {
        "id": "rXg3p0D4fdfn",
        "outputId": "3ee2d90f-5cfb-4de7-b233-95d8afcb1d07",
        "colab": {
          "base_uri": "https://localhost:8080/",
          "height": 758
        }
      },
      "execution_count": 77,
      "outputs": [
        {
          "output_type": "error",
          "ename": "AnalysisException",
          "evalue": "[TABLE_OR_VIEW_NOT_FOUND] The table or view `order_items` cannot be found. Verify the spelling and correctness of the schema and catalog.\nIf you did not qualify the name with a schema, verify the current_schema() output, or qualify the name with the correct schema and catalog.\nTo tolerate the error on drop use DROP VIEW IF EXISTS or DROP TABLE IF EXISTS.; line 2 pos 17;\n'Sort ['season ASC NULLS FIRST, 'order_count DESC NULLS LAST], true\n+- 'Aggregate ['category_id, 'season], ['category_id, 'extract(quarter, 'order_date) AS season#962, count(1) AS order_count#963L]\n   +- 'Join Inner, ('order_items.order_id = 'orders.order_id)\n      :- 'Join Inner, ('order_items.product_id = 'products.id)\n      :  :- 'UnresolvedRelation [order_items], [], false\n      :  +- SubqueryAlias products\n      :     +- View (`products`, [product_id#768,product_name#769,Price#770,Description#771,Category#772,StockQuantity#773,Brand#774,Rating#775,Warehouse#776])\n      :        +- Relation [product_id#768,product_name#769,Price#770,Description#771,Category#772,StockQuantity#773,Brand#774,Rating#775,Warehouse#776] csv\n      +- SubqueryAlias orders\n         +- View (`orders`, [order_id#850,customer_id#851,customer_name#852,product_id#853,customer_email#854,quantity#855,order_date#856,order_status#857,shipping_address#858])\n            +- Relation [order_id#850,customer_id#851,customer_name#852,product_id#853,customer_email#854,quantity#855,order_date#856,order_status#857,shipping_address#858] csv\n",
          "traceback": [
            "\u001b[0;31m---------------------------------------------------------------------------\u001b[0m",
            "\u001b[0;31mAnalysisException\u001b[0m                         Traceback (most recent call last)",
            "\u001b[0;32m<ipython-input-77-7eb9e408c0b2>\u001b[0m in \u001b[0;36m<cell line: 1>\u001b[0;34m()\u001b[0m\n\u001b[0;32m----> 1\u001b[0;31m spark.sql('''SELECT category_id, EXTRACT(quarter FROM order_date) AS season, COUNT(*) AS order_count\n\u001b[0m\u001b[1;32m      2\u001b[0m             \u001b[0mFROM\u001b[0m \u001b[0morder_items\u001b[0m\u001b[0;34m\u001b[0m\u001b[0;34m\u001b[0m\u001b[0m\n\u001b[1;32m      3\u001b[0m             \u001b[0mJOIN\u001b[0m \u001b[0mproducts\u001b[0m \u001b[0mON\u001b[0m \u001b[0morder_items\u001b[0m\u001b[0;34m.\u001b[0m\u001b[0mproduct_id\u001b[0m \u001b[0;34m=\u001b[0m \u001b[0mproducts\u001b[0m\u001b[0;34m.\u001b[0m\u001b[0mid\u001b[0m\u001b[0;34m\u001b[0m\u001b[0;34m\u001b[0m\u001b[0m\n\u001b[1;32m      4\u001b[0m             \u001b[0mJOIN\u001b[0m \u001b[0morders\u001b[0m \u001b[0mON\u001b[0m \u001b[0morder_items\u001b[0m\u001b[0;34m.\u001b[0m\u001b[0morder_id\u001b[0m \u001b[0;34m=\u001b[0m \u001b[0morders\u001b[0m\u001b[0;34m.\u001b[0m\u001b[0morder_id\u001b[0m\u001b[0;34m\u001b[0m\u001b[0;34m\u001b[0m\u001b[0m\n\u001b[1;32m      5\u001b[0m             \u001b[0mGROUP\u001b[0m \u001b[0mBY\u001b[0m \u001b[0mcategory_id\u001b[0m\u001b[0;34m,\u001b[0m \u001b[0mseason\u001b[0m\u001b[0;34m\u001b[0m\u001b[0;34m\u001b[0m\u001b[0m\n",
            "\u001b[0;32m/usr/local/lib/python3.10/dist-packages/pyspark/sql/session.py\u001b[0m in \u001b[0;36msql\u001b[0;34m(self, sqlQuery, args, **kwargs)\u001b[0m\n\u001b[1;32m   1629\u001b[0m                     \u001b[0;34m[\u001b[0m\u001b[0m_to_java_column\u001b[0m\u001b[0;34m(\u001b[0m\u001b[0mlit\u001b[0m\u001b[0;34m(\u001b[0m\u001b[0mv\u001b[0m\u001b[0;34m)\u001b[0m\u001b[0;34m)\u001b[0m \u001b[0;32mfor\u001b[0m \u001b[0mv\u001b[0m \u001b[0;32min\u001b[0m \u001b[0;34m(\u001b[0m\u001b[0margs\u001b[0m \u001b[0;32mor\u001b[0m \u001b[0;34m[\u001b[0m\u001b[0;34m]\u001b[0m\u001b[0;34m)\u001b[0m\u001b[0;34m]\u001b[0m\u001b[0;34m\u001b[0m\u001b[0;34m\u001b[0m\u001b[0m\n\u001b[1;32m   1630\u001b[0m                 )\n\u001b[0;32m-> 1631\u001b[0;31m             \u001b[0;32mreturn\u001b[0m \u001b[0mDataFrame\u001b[0m\u001b[0;34m(\u001b[0m\u001b[0mself\u001b[0m\u001b[0;34m.\u001b[0m\u001b[0m_jsparkSession\u001b[0m\u001b[0;34m.\u001b[0m\u001b[0msql\u001b[0m\u001b[0;34m(\u001b[0m\u001b[0msqlQuery\u001b[0m\u001b[0;34m,\u001b[0m \u001b[0mlitArgs\u001b[0m\u001b[0;34m)\u001b[0m\u001b[0;34m,\u001b[0m \u001b[0mself\u001b[0m\u001b[0;34m)\u001b[0m\u001b[0;34m\u001b[0m\u001b[0;34m\u001b[0m\u001b[0m\n\u001b[0m\u001b[1;32m   1632\u001b[0m         \u001b[0;32mfinally\u001b[0m\u001b[0;34m:\u001b[0m\u001b[0;34m\u001b[0m\u001b[0;34m\u001b[0m\u001b[0m\n\u001b[1;32m   1633\u001b[0m             \u001b[0;32mif\u001b[0m \u001b[0mlen\u001b[0m\u001b[0;34m(\u001b[0m\u001b[0mkwargs\u001b[0m\u001b[0;34m)\u001b[0m \u001b[0;34m>\u001b[0m \u001b[0;36m0\u001b[0m\u001b[0;34m:\u001b[0m\u001b[0;34m\u001b[0m\u001b[0;34m\u001b[0m\u001b[0m\n",
            "\u001b[0;32m/usr/local/lib/python3.10/dist-packages/py4j/java_gateway.py\u001b[0m in \u001b[0;36m__call__\u001b[0;34m(self, *args)\u001b[0m\n\u001b[1;32m   1320\u001b[0m \u001b[0;34m\u001b[0m\u001b[0m\n\u001b[1;32m   1321\u001b[0m         \u001b[0manswer\u001b[0m \u001b[0;34m=\u001b[0m \u001b[0mself\u001b[0m\u001b[0;34m.\u001b[0m\u001b[0mgateway_client\u001b[0m\u001b[0;34m.\u001b[0m\u001b[0msend_command\u001b[0m\u001b[0;34m(\u001b[0m\u001b[0mcommand\u001b[0m\u001b[0;34m)\u001b[0m\u001b[0;34m\u001b[0m\u001b[0;34m\u001b[0m\u001b[0m\n\u001b[0;32m-> 1322\u001b[0;31m         return_value = get_return_value(\n\u001b[0m\u001b[1;32m   1323\u001b[0m             answer, self.gateway_client, self.target_id, self.name)\n\u001b[1;32m   1324\u001b[0m \u001b[0;34m\u001b[0m\u001b[0m\n",
            "\u001b[0;32m/usr/local/lib/python3.10/dist-packages/pyspark/errors/exceptions/captured.py\u001b[0m in \u001b[0;36mdeco\u001b[0;34m(*a, **kw)\u001b[0m\n\u001b[1;32m    183\u001b[0m                 \u001b[0;31m# Hide where the exception came from that shows a non-Pythonic\u001b[0m\u001b[0;34m\u001b[0m\u001b[0;34m\u001b[0m\u001b[0m\n\u001b[1;32m    184\u001b[0m                 \u001b[0;31m# JVM exception message.\u001b[0m\u001b[0;34m\u001b[0m\u001b[0;34m\u001b[0m\u001b[0m\n\u001b[0;32m--> 185\u001b[0;31m                 \u001b[0;32mraise\u001b[0m \u001b[0mconverted\u001b[0m \u001b[0;32mfrom\u001b[0m \u001b[0;32mNone\u001b[0m\u001b[0;34m\u001b[0m\u001b[0;34m\u001b[0m\u001b[0m\n\u001b[0m\u001b[1;32m    186\u001b[0m             \u001b[0;32melse\u001b[0m\u001b[0;34m:\u001b[0m\u001b[0;34m\u001b[0m\u001b[0;34m\u001b[0m\u001b[0m\n\u001b[1;32m    187\u001b[0m                 \u001b[0;32mraise\u001b[0m\u001b[0;34m\u001b[0m\u001b[0;34m\u001b[0m\u001b[0m\n",
            "\u001b[0;31mAnalysisException\u001b[0m: [TABLE_OR_VIEW_NOT_FOUND] The table or view `order_items` cannot be found. Verify the spelling and correctness of the schema and catalog.\nIf you did not qualify the name with a schema, verify the current_schema() output, or qualify the name with the correct schema and catalog.\nTo tolerate the error on drop use DROP VIEW IF EXISTS or DROP TABLE IF EXISTS.; line 2 pos 17;\n'Sort ['season ASC NULLS FIRST, 'order_count DESC NULLS LAST], true\n+- 'Aggregate ['category_id, 'season], ['category_id, 'extract(quarter, 'order_date) AS season#962, count(1) AS order_count#963L]\n   +- 'Join Inner, ('order_items.order_id = 'orders.order_id)\n      :- 'Join Inner, ('order_items.product_id = 'products.id)\n      :  :- 'UnresolvedRelation [order_items], [], false\n      :  +- SubqueryAlias products\n      :     +- View (`products`, [product_id#768,product_name#769,Price#770,Description#771,Category#772,StockQuantity#773,Brand#774,Rating#775,Warehouse#776])\n      :        +- Relation [product_id#768,product_name#769,Price#770,Description#771,Category#772,StockQuantity#773,Brand#774,Rating#775,Warehouse#776] csv\n      +- SubqueryAlias orders\n         +- View (`orders`, [order_id#850,customer_id#851,customer_name#852,product_id#853,customer_email#854,quantity#855,order_date#856,order_status#857,shipping_address#858])\n            +- Relation [order_id#850,customer_id#851,customer_name#852,product_id#853,customer_email#854,quantity#855,order_date#856,order_status#857,shipping_address#858] csv\n"
          ]
        }
      ]
    },
    {
      "cell_type": "code",
      "source": [
        " spark.sql('''SELECT customer_id, AVG(order_interval) AS average_order_interval\n",
        "            FROM (\n",
        "                SELECT customer_id, order_date - LAG(order_date) OVER (PARTITION BY customer_id ORDER BY order_date) AS order_interval\n",
        "                FROM orders\n",
        "           ) AS intervals\n",
        "           GROUP BY customer_id;''').show()"
      ],
      "metadata": {
        "id": "KVKrT7xcfppf",
        "outputId": "e89e1344-dcd1-46f0-8429-e01938824d69",
        "colab": {
          "base_uri": "https://localhost:8080/"
        }
      },
      "execution_count": 78,
      "outputs": [
        {
          "output_type": "stream",
          "name": "stdout",
          "text": [
            "+-----------+----------------------+\n",
            "|customer_id|average_order_interval|\n",
            "+-----------+----------------------+\n",
            "|  AK 01023\"|                  NULL|\n",
            "|  AK 01654\"|                  NULL|\n",
            "|  AK 03435\"|                  NULL|\n",
            "|  AK 03618\"|                  NULL|\n",
            "|  AK 03666\"|                  NULL|\n",
            "|  AK 04336\"|                  NULL|\n",
            "|  AK 04423\"|                  NULL|\n",
            "|  AK 05002\"|                  NULL|\n",
            "|  AK 05191\"|                  NULL|\n",
            "|  AK 05223\"|                  NULL|\n",
            "|  AK 05766\"|                  NULL|\n",
            "|  AK 06038\"|                  NULL|\n",
            "|  AK 06184\"|                  NULL|\n",
            "|  AK 06682\"|                  NULL|\n",
            "|  AK 06746\"|                  NULL|\n",
            "|  AK 06809\"|                  NULL|\n",
            "|  AK 06815\"|                  NULL|\n",
            "|  AK 07034\"|                  NULL|\n",
            "|  AK 07390\"|                  NULL|\n",
            "|  AK 07552\"|                  NULL|\n",
            "+-----------+----------------------+\n",
            "only showing top 20 rows\n",
            "\n"
          ]
        }
      ]
    },
    {
      "cell_type": "code",
      "source": [
        "spark.sql('''SELECT customer_id, customer_name\n",
        "           FROM customers\n",
        "           WHERE customer_id NOT IN (\n",
        "                   SELECT DISTINCT customer_id\n",
        "                   FROM orders\n",
        "                   WHERE order_date >= NOW() - INTERVAL '6 months';''').show()"
      ],
      "metadata": {
        "id": "_zOxPeJjf3Q-",
        "outputId": "2691d2ca-5528-4c1f-ca01-1e12233639ed",
        "colab": {
          "base_uri": "https://localhost:8080/",
          "height": 530
        }
      },
      "execution_count": 79,
      "outputs": [
        {
          "output_type": "error",
          "ename": "ParseException",
          "evalue": "\n[PARSE_SYNTAX_ERROR] Syntax error at or near ';'.(line 6, pos 66)\n\n== SQL ==\nSELECT customer_id, customer_name\n           FROM customers\n           WHERE customer_id NOT IN (\n                   SELECT DISTINCT customer_id\n                   FROM orders\n                   WHERE order_date >= NOW() - INTERVAL '6 months';\n------------------------------------------------------------------^^^\n",
          "traceback": [
            "\u001b[0;31m---------------------------------------------------------------------------\u001b[0m",
            "\u001b[0;31mParseException\u001b[0m                            Traceback (most recent call last)",
            "\u001b[0;32m<ipython-input-79-69a52951d208>\u001b[0m in \u001b[0;36m<cell line: 1>\u001b[0;34m()\u001b[0m\n\u001b[0;32m----> 1\u001b[0;31m spark.sql('''SELECT customer_id, customer_name\n\u001b[0m\u001b[1;32m      2\u001b[0m            \u001b[0mFROM\u001b[0m \u001b[0mcustomers\u001b[0m\u001b[0;34m\u001b[0m\u001b[0;34m\u001b[0m\u001b[0m\n\u001b[1;32m      3\u001b[0m            WHERE customer_id NOT IN (\n\u001b[1;32m      4\u001b[0m                    \u001b[0mSELECT\u001b[0m \u001b[0mDISTINCT\u001b[0m \u001b[0mcustomer_id\u001b[0m\u001b[0;34m\u001b[0m\u001b[0;34m\u001b[0m\u001b[0m\n\u001b[1;32m      5\u001b[0m                    \u001b[0mFROM\u001b[0m \u001b[0morders\u001b[0m\u001b[0;34m\u001b[0m\u001b[0;34m\u001b[0m\u001b[0m\n",
            "\u001b[0;32m/usr/local/lib/python3.10/dist-packages/pyspark/sql/session.py\u001b[0m in \u001b[0;36msql\u001b[0;34m(self, sqlQuery, args, **kwargs)\u001b[0m\n\u001b[1;32m   1629\u001b[0m                     \u001b[0;34m[\u001b[0m\u001b[0m_to_java_column\u001b[0m\u001b[0;34m(\u001b[0m\u001b[0mlit\u001b[0m\u001b[0;34m(\u001b[0m\u001b[0mv\u001b[0m\u001b[0;34m)\u001b[0m\u001b[0;34m)\u001b[0m \u001b[0;32mfor\u001b[0m \u001b[0mv\u001b[0m \u001b[0;32min\u001b[0m \u001b[0;34m(\u001b[0m\u001b[0margs\u001b[0m \u001b[0;32mor\u001b[0m \u001b[0;34m[\u001b[0m\u001b[0;34m]\u001b[0m\u001b[0;34m)\u001b[0m\u001b[0;34m]\u001b[0m\u001b[0;34m\u001b[0m\u001b[0;34m\u001b[0m\u001b[0m\n\u001b[1;32m   1630\u001b[0m                 )\n\u001b[0;32m-> 1631\u001b[0;31m             \u001b[0;32mreturn\u001b[0m \u001b[0mDataFrame\u001b[0m\u001b[0;34m(\u001b[0m\u001b[0mself\u001b[0m\u001b[0;34m.\u001b[0m\u001b[0m_jsparkSession\u001b[0m\u001b[0;34m.\u001b[0m\u001b[0msql\u001b[0m\u001b[0;34m(\u001b[0m\u001b[0msqlQuery\u001b[0m\u001b[0;34m,\u001b[0m \u001b[0mlitArgs\u001b[0m\u001b[0;34m)\u001b[0m\u001b[0;34m,\u001b[0m \u001b[0mself\u001b[0m\u001b[0;34m)\u001b[0m\u001b[0;34m\u001b[0m\u001b[0;34m\u001b[0m\u001b[0m\n\u001b[0m\u001b[1;32m   1632\u001b[0m         \u001b[0;32mfinally\u001b[0m\u001b[0;34m:\u001b[0m\u001b[0;34m\u001b[0m\u001b[0;34m\u001b[0m\u001b[0m\n\u001b[1;32m   1633\u001b[0m             \u001b[0;32mif\u001b[0m \u001b[0mlen\u001b[0m\u001b[0;34m(\u001b[0m\u001b[0mkwargs\u001b[0m\u001b[0;34m)\u001b[0m \u001b[0;34m>\u001b[0m \u001b[0;36m0\u001b[0m\u001b[0;34m:\u001b[0m\u001b[0;34m\u001b[0m\u001b[0;34m\u001b[0m\u001b[0m\n",
            "\u001b[0;32m/usr/local/lib/python3.10/dist-packages/py4j/java_gateway.py\u001b[0m in \u001b[0;36m__call__\u001b[0;34m(self, *args)\u001b[0m\n\u001b[1;32m   1320\u001b[0m \u001b[0;34m\u001b[0m\u001b[0m\n\u001b[1;32m   1321\u001b[0m         \u001b[0manswer\u001b[0m \u001b[0;34m=\u001b[0m \u001b[0mself\u001b[0m\u001b[0;34m.\u001b[0m\u001b[0mgateway_client\u001b[0m\u001b[0;34m.\u001b[0m\u001b[0msend_command\u001b[0m\u001b[0;34m(\u001b[0m\u001b[0mcommand\u001b[0m\u001b[0;34m)\u001b[0m\u001b[0;34m\u001b[0m\u001b[0;34m\u001b[0m\u001b[0m\n\u001b[0;32m-> 1322\u001b[0;31m         return_value = get_return_value(\n\u001b[0m\u001b[1;32m   1323\u001b[0m             answer, self.gateway_client, self.target_id, self.name)\n\u001b[1;32m   1324\u001b[0m \u001b[0;34m\u001b[0m\u001b[0m\n",
            "\u001b[0;32m/usr/local/lib/python3.10/dist-packages/pyspark/errors/exceptions/captured.py\u001b[0m in \u001b[0;36mdeco\u001b[0;34m(*a, **kw)\u001b[0m\n\u001b[1;32m    183\u001b[0m                 \u001b[0;31m# Hide where the exception came from that shows a non-Pythonic\u001b[0m\u001b[0;34m\u001b[0m\u001b[0;34m\u001b[0m\u001b[0m\n\u001b[1;32m    184\u001b[0m                 \u001b[0;31m# JVM exception message.\u001b[0m\u001b[0;34m\u001b[0m\u001b[0;34m\u001b[0m\u001b[0m\n\u001b[0;32m--> 185\u001b[0;31m                 \u001b[0;32mraise\u001b[0m \u001b[0mconverted\u001b[0m \u001b[0;32mfrom\u001b[0m \u001b[0;32mNone\u001b[0m\u001b[0;34m\u001b[0m\u001b[0;34m\u001b[0m\u001b[0m\n\u001b[0m\u001b[1;32m    186\u001b[0m             \u001b[0;32melse\u001b[0m\u001b[0;34m:\u001b[0m\u001b[0;34m\u001b[0m\u001b[0;34m\u001b[0m\u001b[0m\n\u001b[1;32m    187\u001b[0m                 \u001b[0;32mraise\u001b[0m\u001b[0;34m\u001b[0m\u001b[0;34m\u001b[0m\u001b[0m\n",
            "\u001b[0;31mParseException\u001b[0m: \n[PARSE_SYNTAX_ERROR] Syntax error at or near ';'.(line 6, pos 66)\n\n== SQL ==\nSELECT customer_id, customer_name\n           FROM customers\n           WHERE customer_id NOT IN (\n                   SELECT DISTINCT customer_id\n                   FROM orders\n                   WHERE order_date >= NOW() - INTERVAL '6 months';\n------------------------------------------------------------------^^^\n"
          ]
        }
      ]
    },
    {
      "cell_type": "code",
      "source": [
        "spark.sql('''SELECT p.product_id, p.product_name, SUM(oi.quantity * oi.price)  \t   AS total_revenue\n",
        "           FROM orders oi\n",
        "           JOIN products p ON oi.product_id = p.product_id\n",
        "           GROUP BY p.product_id, p.product_name\n",
        "           ORDER BY total_revenue DESC\n",
        "           LIMIT 5;''').show()"
      ],
      "metadata": {
        "id": "WaLc_iwdgG-J",
        "outputId": "8a13182f-65a5-473c-e201-d1e46328e8c0",
        "colab": {
          "base_uri": "https://localhost:8080/",
          "height": 758
        }
      },
      "execution_count": 81,
      "outputs": [
        {
          "output_type": "error",
          "ename": "AnalysisException",
          "evalue": "[UNRESOLVED_COLUMN.WITH_SUGGESTION] A column or function parameter with name `oi`.`price` cannot be resolved. Did you mean one of the following? [`p`.`Price`, `p`.`Brand`, `p`.`Rating`, `oi`.`order_id`, `oi`.`product_id`].; line 1 pos 55;\n'GlobalLimit 5\n+- 'LocalLimit 5\n   +- 'Sort ['total_revenue DESC NULLS LAST], true\n      +- 'Aggregate [product_id#768, product_name#769], [product_id#768, product_name#769, 'SUM((quantity#855 * 'oi.price)) AS total_revenue#987]\n         +- Join Inner, (cast(product_id#853 as double) = product_id#768)\n            :- SubqueryAlias oi\n            :  +- SubqueryAlias orders\n            :     +- View (`orders`, [order_id#850,customer_id#851,customer_name#852,product_id#853,customer_email#854,quantity#855,order_date#856,order_status#857,shipping_address#858])\n            :        +- Relation [order_id#850,customer_id#851,customer_name#852,product_id#853,customer_email#854,quantity#855,order_date#856,order_status#857,shipping_address#858] csv\n            +- SubqueryAlias p\n               +- SubqueryAlias products\n                  +- View (`products`, [product_id#768,product_name#769,Price#770,Description#771,Category#772,StockQuantity#773,Brand#774,Rating#775,Warehouse#776])\n                     +- Relation [product_id#768,product_name#769,Price#770,Description#771,Category#772,StockQuantity#773,Brand#774,Rating#775,Warehouse#776] csv\n",
          "traceback": [
            "\u001b[0;31m---------------------------------------------------------------------------\u001b[0m",
            "\u001b[0;31mAnalysisException\u001b[0m                         Traceback (most recent call last)",
            "\u001b[0;32m<ipython-input-81-d09766a4b972>\u001b[0m in \u001b[0;36m<cell line: 1>\u001b[0;34m()\u001b[0m\n\u001b[0;32m----> 1\u001b[0;31m spark.sql('''SELECT p.product_id, p.product_name, SUM(oi.quantity * oi.price)  \t   AS total_revenue\n\u001b[0m\u001b[1;32m      2\u001b[0m            \u001b[0mFROM\u001b[0m \u001b[0morders\u001b[0m \u001b[0moi\u001b[0m\u001b[0;34m\u001b[0m\u001b[0;34m\u001b[0m\u001b[0m\n\u001b[1;32m      3\u001b[0m            \u001b[0mJOIN\u001b[0m \u001b[0mproducts\u001b[0m \u001b[0mp\u001b[0m \u001b[0mON\u001b[0m \u001b[0moi\u001b[0m\u001b[0;34m.\u001b[0m\u001b[0mproduct_id\u001b[0m \u001b[0;34m=\u001b[0m \u001b[0mp\u001b[0m\u001b[0;34m.\u001b[0m\u001b[0mproduct_id\u001b[0m\u001b[0;34m\u001b[0m\u001b[0;34m\u001b[0m\u001b[0m\n\u001b[1;32m      4\u001b[0m            \u001b[0mGROUP\u001b[0m \u001b[0mBY\u001b[0m \u001b[0mp\u001b[0m\u001b[0;34m.\u001b[0m\u001b[0mproduct_id\u001b[0m\u001b[0;34m,\u001b[0m \u001b[0mp\u001b[0m\u001b[0;34m.\u001b[0m\u001b[0mproduct_name\u001b[0m\u001b[0;34m\u001b[0m\u001b[0;34m\u001b[0m\u001b[0m\n\u001b[1;32m      5\u001b[0m            \u001b[0mORDER\u001b[0m \u001b[0mBY\u001b[0m \u001b[0mtotal_revenue\u001b[0m \u001b[0mDESC\u001b[0m\u001b[0;34m\u001b[0m\u001b[0;34m\u001b[0m\u001b[0m\n",
            "\u001b[0;32m/usr/local/lib/python3.10/dist-packages/pyspark/sql/session.py\u001b[0m in \u001b[0;36msql\u001b[0;34m(self, sqlQuery, args, **kwargs)\u001b[0m\n\u001b[1;32m   1629\u001b[0m                     \u001b[0;34m[\u001b[0m\u001b[0m_to_java_column\u001b[0m\u001b[0;34m(\u001b[0m\u001b[0mlit\u001b[0m\u001b[0;34m(\u001b[0m\u001b[0mv\u001b[0m\u001b[0;34m)\u001b[0m\u001b[0;34m)\u001b[0m \u001b[0;32mfor\u001b[0m \u001b[0mv\u001b[0m \u001b[0;32min\u001b[0m \u001b[0;34m(\u001b[0m\u001b[0margs\u001b[0m \u001b[0;32mor\u001b[0m \u001b[0;34m[\u001b[0m\u001b[0;34m]\u001b[0m\u001b[0;34m)\u001b[0m\u001b[0;34m]\u001b[0m\u001b[0;34m\u001b[0m\u001b[0;34m\u001b[0m\u001b[0m\n\u001b[1;32m   1630\u001b[0m                 )\n\u001b[0;32m-> 1631\u001b[0;31m             \u001b[0;32mreturn\u001b[0m \u001b[0mDataFrame\u001b[0m\u001b[0;34m(\u001b[0m\u001b[0mself\u001b[0m\u001b[0;34m.\u001b[0m\u001b[0m_jsparkSession\u001b[0m\u001b[0;34m.\u001b[0m\u001b[0msql\u001b[0m\u001b[0;34m(\u001b[0m\u001b[0msqlQuery\u001b[0m\u001b[0;34m,\u001b[0m \u001b[0mlitArgs\u001b[0m\u001b[0;34m)\u001b[0m\u001b[0;34m,\u001b[0m \u001b[0mself\u001b[0m\u001b[0;34m)\u001b[0m\u001b[0;34m\u001b[0m\u001b[0;34m\u001b[0m\u001b[0m\n\u001b[0m\u001b[1;32m   1632\u001b[0m         \u001b[0;32mfinally\u001b[0m\u001b[0;34m:\u001b[0m\u001b[0;34m\u001b[0m\u001b[0;34m\u001b[0m\u001b[0m\n\u001b[1;32m   1633\u001b[0m             \u001b[0;32mif\u001b[0m \u001b[0mlen\u001b[0m\u001b[0;34m(\u001b[0m\u001b[0mkwargs\u001b[0m\u001b[0;34m)\u001b[0m \u001b[0;34m>\u001b[0m \u001b[0;36m0\u001b[0m\u001b[0;34m:\u001b[0m\u001b[0;34m\u001b[0m\u001b[0;34m\u001b[0m\u001b[0m\n",
            "\u001b[0;32m/usr/local/lib/python3.10/dist-packages/py4j/java_gateway.py\u001b[0m in \u001b[0;36m__call__\u001b[0;34m(self, *args)\u001b[0m\n\u001b[1;32m   1320\u001b[0m \u001b[0;34m\u001b[0m\u001b[0m\n\u001b[1;32m   1321\u001b[0m         \u001b[0manswer\u001b[0m \u001b[0;34m=\u001b[0m \u001b[0mself\u001b[0m\u001b[0;34m.\u001b[0m\u001b[0mgateway_client\u001b[0m\u001b[0;34m.\u001b[0m\u001b[0msend_command\u001b[0m\u001b[0;34m(\u001b[0m\u001b[0mcommand\u001b[0m\u001b[0;34m)\u001b[0m\u001b[0;34m\u001b[0m\u001b[0;34m\u001b[0m\u001b[0m\n\u001b[0;32m-> 1322\u001b[0;31m         return_value = get_return_value(\n\u001b[0m\u001b[1;32m   1323\u001b[0m             answer, self.gateway_client, self.target_id, self.name)\n\u001b[1;32m   1324\u001b[0m \u001b[0;34m\u001b[0m\u001b[0m\n",
            "\u001b[0;32m/usr/local/lib/python3.10/dist-packages/pyspark/errors/exceptions/captured.py\u001b[0m in \u001b[0;36mdeco\u001b[0;34m(*a, **kw)\u001b[0m\n\u001b[1;32m    183\u001b[0m                 \u001b[0;31m# Hide where the exception came from that shows a non-Pythonic\u001b[0m\u001b[0;34m\u001b[0m\u001b[0;34m\u001b[0m\u001b[0m\n\u001b[1;32m    184\u001b[0m                 \u001b[0;31m# JVM exception message.\u001b[0m\u001b[0;34m\u001b[0m\u001b[0;34m\u001b[0m\u001b[0m\n\u001b[0;32m--> 185\u001b[0;31m                 \u001b[0;32mraise\u001b[0m \u001b[0mconverted\u001b[0m \u001b[0;32mfrom\u001b[0m \u001b[0;32mNone\u001b[0m\u001b[0;34m\u001b[0m\u001b[0;34m\u001b[0m\u001b[0m\n\u001b[0m\u001b[1;32m    186\u001b[0m             \u001b[0;32melse\u001b[0m\u001b[0;34m:\u001b[0m\u001b[0;34m\u001b[0m\u001b[0;34m\u001b[0m\u001b[0m\n\u001b[1;32m    187\u001b[0m                 \u001b[0;32mraise\u001b[0m\u001b[0;34m\u001b[0m\u001b[0;34m\u001b[0m\u001b[0m\n",
            "\u001b[0;31mAnalysisException\u001b[0m: [UNRESOLVED_COLUMN.WITH_SUGGESTION] A column or function parameter with name `oi`.`price` cannot be resolved. Did you mean one of the following? [`p`.`Price`, `p`.`Brand`, `p`.`Rating`, `oi`.`order_id`, `oi`.`product_id`].; line 1 pos 55;\n'GlobalLimit 5\n+- 'LocalLimit 5\n   +- 'Sort ['total_revenue DESC NULLS LAST], true\n      +- 'Aggregate [product_id#768, product_name#769], [product_id#768, product_name#769, 'SUM((quantity#855 * 'oi.price)) AS total_revenue#987]\n         +- Join Inner, (cast(product_id#853 as double) = product_id#768)\n            :- SubqueryAlias oi\n            :  +- SubqueryAlias orders\n            :     +- View (`orders`, [order_id#850,customer_id#851,customer_name#852,product_id#853,customer_email#854,quantity#855,order_date#856,order_status#857,shipping_address#858])\n            :        +- Relation [order_id#850,customer_id#851,customer_name#852,product_id#853,customer_email#854,quantity#855,order_date#856,order_status#857,shipping_address#858] csv\n            +- SubqueryAlias p\n               +- SubqueryAlias products\n                  +- View (`products`, [product_id#768,product_name#769,Price#770,Description#771,Category#772,StockQuantity#773,Brand#774,Rating#775,Warehouse#776])\n                     +- Relation [product_id#768,product_name#769,Price#770,Description#771,Category#772,StockQuantity#773,Brand#774,Rating#775,Warehouse#776] csv\n"
          ]
        }
      ]
    },
    {
      "cell_type": "code",
      "source": [
        "spark.sql('''SELECT Brand, SUM(price * StockQuantity) AS stock_value\n",
        "\t   FROM products\n",
        "\t   GROUP BY Brand\n",
        "\t   ORDER BY stock_value DESC;''').show()"
      ],
      "metadata": {
        "id": "XcXBBpGBgTQu",
        "outputId": "d1a82086-ac42-4f0b-abf2-f5b918dc8702",
        "colab": {
          "base_uri": "https://localhost:8080/"
        }
      },
      "execution_count": 82,
      "outputs": [
        {
          "output_type": "stream",
          "name": "stdout",
          "text": [
            "+-----------+--------------------+\n",
            "|      Brand|         stock_value|\n",
            "+-----------+--------------------+\n",
            "|     Realme|      1.8869857993E8|\n",
            "|    OnePlus|1.8666596695999998E8|\n",
            "|     Garmin|      1.8295460395E8|\n",
            "|PlayStation|1.8269987227999988E8|\n",
            "|   Logitech|1.7725927351999998E8|\n",
            "|     Fitbit|1.7685936298999995E8|\n",
            "|     Xiaomi|      1.7377636256E8|\n",
            "|       Sony|1.6785772917000002E8|\n",
            "|      Sharp|1.6444586900000003E8|\n",
            "|    Toshiba|      1.6423591975E8|\n",
            "|     Amazon|1.6101470189999995E8|\n",
            "|     Lenovo|1.5942278155999997E8|\n",
            "|      Nikon|      1.5767429713E8|\n",
            "|     Google|       1.566125184E8|\n",
            "|      Anker|      1.5650742338E8|\n",
            "|   Nintendo|      1.5526323094E8|\n",
            "| Sennheiser|1.5168915776000002E8|\n",
            "|     Huawei|      1.5013810771E8|\n",
            "|      Dyson|1.4611793973000002E8|\n",
            "|       Dell|      1.4507549105E8|\n",
            "+-----------+--------------------+\n",
            "only showing top 20 rows\n",
            "\n"
          ]
        }
      ]
    },
    {
      "cell_type": "code",
      "source": [],
      "metadata": {
        "id": "8zUgtMFDgshB"
      },
      "execution_count": null,
      "outputs": []
    }
  ],
  "metadata": {
    "colab": {
      "name": "Welcome To Colab",
      "provenance": [],
      "include_colab_link": true
    },
    "kernelspec": {
      "display_name": "Python 3",
      "name": "python3"
    }
  },
  "nbformat": 4,
  "nbformat_minor": 0
}