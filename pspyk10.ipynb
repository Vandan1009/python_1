{
  "nbformat": 4,
  "nbformat_minor": 0,
  "metadata": {
    "colab": {
      "provenance": [],
      "include_colab_link": true
    },
    "kernelspec": {
      "name": "python3",
      "display_name": "Python 3"
    },
    "language_info": {
      "name": "python"
    }
  },
  "cells": [
    {
      "cell_type": "markdown",
      "metadata": {
        "id": "view-in-github",
        "colab_type": "text"
      },
      "source": [
        "<a href=\"https://colab.research.google.com/github/Vandan1009/python_1/blob/main/pspyk10.ipynb\" target=\"_parent\"><img src=\"https://colab.research.google.com/assets/colab-badge.svg\" alt=\"Open In Colab\"/></a>"
      ]
    },
    {
      "cell_type": "code",
      "execution_count": null,
      "metadata": {
        "id": "vpo5Vr0QiMUE"
      },
      "outputs": [],
      "source": [
        "#Create local file with the following data\n",
        "\n",
        "Complete the following code using pyspark RDDs\n",
        "\n",
        "movie.csv\n",
        "movieId,moviename,director,year\n",
        "200,shawshank,FrankD,1994\n",
        "201,saw,JamesW,2004\n",
        "202,avengers,JossW,2012\n",
        "204,mi,ChristopherMcq,2018\n",
        "205,wrongturn,DeclanO,2011\n",
        "\n",
        "award.csv\n",
        "catalogId,movieId,awards\n",
        "11,200,2\n",
        "12,200,3\n",
        "13,201,1\n",
        "14,202,3\n",
        "15,202,5\n",
        "16,204,4\n",
        "17,205,1"
      ]
    },
    {
      "cell_type": "code",
      "source": [
        "pip install pyspark\n"
      ],
      "metadata": {
        "id": "xNnWqzYI7nin",
        "outputId": "6fd51347-5169-4a78-96f1-695781d11089",
        "colab": {
          "base_uri": "https://localhost:8080/"
        }
      },
      "execution_count": 1,
      "outputs": [
        {
          "output_type": "stream",
          "name": "stdout",
          "text": [
            "Collecting pyspark\n",
            "  Downloading pyspark-3.5.1.tar.gz (317.0 MB)\n",
            "\u001b[2K     \u001b[90m━━━━━━━━━━━━━━━━━━━━━━━━━━━━━━━━━━━━━━━━\u001b[0m \u001b[32m317.0/317.0 MB\u001b[0m \u001b[31m4.4 MB/s\u001b[0m eta \u001b[36m0:00:00\u001b[0m\n",
            "\u001b[?25h  Preparing metadata (setup.py) ... \u001b[?25l\u001b[?25hdone\n",
            "Requirement already satisfied: py4j==0.10.9.7 in /usr/local/lib/python3.10/dist-packages (from pyspark) (0.10.9.7)\n",
            "Building wheels for collected packages: pyspark\n",
            "  Building wheel for pyspark (setup.py) ... \u001b[?25l\u001b[?25hdone\n",
            "  Created wheel for pyspark: filename=pyspark-3.5.1-py2.py3-none-any.whl size=317488490 sha256=868aeaa6a25a60753fc298e787f2899358f5493fb12ff4640795e80323977d4c\n",
            "  Stored in directory: /root/.cache/pip/wheels/80/1d/60/2c256ed38dddce2fdd93be545214a63e02fbd8d74fb0b7f3a6\n",
            "Successfully built pyspark\n",
            "Installing collected packages: pyspark\n",
            "Successfully installed pyspark-3.5.1\n"
          ]
        }
      ]
    },
    {
      "cell_type": "code",
      "source": [
        "from pyspark.sql import SparkSession\n",
        "from pyspark.sql.functions import concat_ws,col,lit,sum,count"
      ],
      "metadata": {
        "id": "rSE-rOZS8E32"
      },
      "execution_count": 19,
      "outputs": []
    },
    {
      "cell_type": "code",
      "source": [
        "#Import libraries & Create SparkSession\n",
        "spark=SparkSession.builder.appName(\"movies\").getOrCreate()"
      ],
      "metadata": {
        "id": "deuJPwWWiUqv"
      },
      "execution_count": 3,
      "outputs": []
    },
    {
      "cell_type": "code",
      "source": [
        "spark"
      ],
      "metadata": {
        "id": "y1tuUBcd65Ny",
        "outputId": "235ac5a9-5d5f-43a9-8086-9af6ee188ef7",
        "colab": {
          "base_uri": "https://localhost:8080/",
          "height": 219
        }
      },
      "execution_count": 4,
      "outputs": [
        {
          "output_type": "execute_result",
          "data": {
            "text/plain": [
              "<pyspark.sql.session.SparkSession at 0x7c9e7495e6b0>"
            ],
            "text/html": [
              "\n",
              "            <div>\n",
              "                <p><b>SparkSession - in-memory</b></p>\n",
              "                \n",
              "        <div>\n",
              "            <p><b>SparkContext</b></p>\n",
              "\n",
              "            <p><a href=\"http://6187be744c0a:4040\">Spark UI</a></p>\n",
              "\n",
              "            <dl>\n",
              "              <dt>Version</dt>\n",
              "                <dd><code>v3.5.1</code></dd>\n",
              "              <dt>Master</dt>\n",
              "                <dd><code>local[*]</code></dd>\n",
              "              <dt>AppName</dt>\n",
              "                <dd><code>movies</code></dd>\n",
              "            </dl>\n",
              "        </div>\n",
              "        \n",
              "            </div>\n",
              "        "
            ]
          },
          "metadata": {},
          "execution_count": 4
        }
      ]
    },
    {
      "cell_type": "code",
      "source": [
        "#Create two dataframes using respective csv files from local storage\n",
        "df1=spark.createDataFrame([\n",
        "[200,'shawshank','FrankD',1994],\n",
        "[201,'saw','JamesW',2004],\n",
        "[202,'avengers','JossW',2012],\n",
        "[204,'mi','ChristopherMcq',2018],\n",
        "[205,'wrongturn','DeclanO',2011]], schema=['movieId','moviename','director','year'])\n",
        "\n"
      ],
      "metadata": {
        "id": "xgXdfz2HiUta"
      },
      "execution_count": 12,
      "outputs": []
    },
    {
      "cell_type": "code",
      "source": [
        "df1.show()"
      ],
      "metadata": {
        "id": "te1Oh7vr-Ehg",
        "outputId": "db361417-13d0-43a5-adcb-a39180d0ec09",
        "colab": {
          "base_uri": "https://localhost:8080/"
        }
      },
      "execution_count": 13,
      "outputs": [
        {
          "output_type": "stream",
          "name": "stdout",
          "text": [
            "+-------+---------+--------------+----+\n",
            "|movieId|moviename|      director|year|\n",
            "+-------+---------+--------------+----+\n",
            "|    200|shawshank|        FrankD|1994|\n",
            "|    201|      saw|        JamesW|2004|\n",
            "|    202| avengers|         JossW|2012|\n",
            "|    204|       mi|ChristopherMcq|2018|\n",
            "|    205|wrongturn|       DeclanO|2011|\n",
            "+-------+---------+--------------+----+\n",
            "\n"
          ]
        }
      ]
    },
    {
      "cell_type": "code",
      "source": [
        "#Create a new column called \"movieInfo\" in movies dataframe which includes movieName & Director\n",
        "df1.withColumn('moveInfo',concat_ws(' ','moviename','director')).show()"
      ],
      "metadata": {
        "id": "tvQmmuuSiUwI",
        "outputId": "224c1db5-de28-4104-8b19-1b84950322cb",
        "colab": {
          "base_uri": "https://localhost:8080/"
        }
      },
      "execution_count": 14,
      "outputs": [
        {
          "output_type": "stream",
          "name": "stdout",
          "text": [
            "+-------+---------+--------------+----+-----------------+\n",
            "|movieId|moviename|      director|year|         moveInfo|\n",
            "+-------+---------+--------------+----+-----------------+\n",
            "|    200|shawshank|        FrankD|1994| shawshank FrankD|\n",
            "|    201|      saw|        JamesW|2004|       saw JamesW|\n",
            "|    202| avengers|         JossW|2012|   avengers JossW|\n",
            "|    204|       mi|ChristopherMcq|2018|mi ChristopherMcq|\n",
            "|    205|wrongturn|       DeclanO|2011|wrongturn DeclanO|\n",
            "+-------+---------+--------------+----+-----------------+\n",
            "\n"
          ]
        }
      ]
    },
    {
      "cell_type": "code",
      "source": [
        "df2=spark.createDataFrame([[11,200,2],\n",
        "[12,200,3],\n",
        "[13,201,1],\n",
        "[14,202,3],\n",
        "[15,202,5],\n",
        "[16,204,4],\n",
        "[17,205,1]],schema=['catalogId','movieId','awards'])"
      ],
      "metadata": {
        "id": "gTW_HOXq9Y31"
      },
      "execution_count": 15,
      "outputs": []
    },
    {
      "cell_type": "code",
      "source": [
        "df2.show()"
      ],
      "metadata": {
        "id": "lD2wtHkH9-Dx",
        "outputId": "3486537b-9523-41be-8efe-06472aef647c",
        "colab": {
          "base_uri": "https://localhost:8080/"
        }
      },
      "execution_count": 16,
      "outputs": [
        {
          "output_type": "stream",
          "name": "stdout",
          "text": [
            "+---------+-------+------+\n",
            "|catalogId|movieId|awards|\n",
            "+---------+-------+------+\n",
            "|       11|    200|     2|\n",
            "|       12|    200|     3|\n",
            "|       13|    201|     1|\n",
            "|       14|    202|     3|\n",
            "|       15|    202|     5|\n",
            "|       16|    204|     4|\n",
            "|       17|    205|     1|\n",
            "+---------+-------+------+\n",
            "\n"
          ]
        }
      ]
    },
    {
      "cell_type": "code",
      "source": [
        "#Calculate total number of awards for each movie & display - movieID, movienName, awardsCount\n",
        "\n",
        "# select c.moviename,c.movieId,sum(b.awards) as awardsCount\n",
        "# from df2\n",
        "# inner join df1 c\n",
        "# on b.moveid==c.movieid\n",
        "# group by moviename\n",
        "\n",
        "# data=df2.join(df1,\"movieId\",\"inner\")\n",
        "# data.groupBy('moviename','movieId').sum('awards').show()\n",
        "\n",
        "# data=df2.join(df1,\"movieId\",\"inner\")\n",
        "# data.groupBy('moviename','movieId').agg({'awards':'sum'}).show()\n",
        "\n",
        "g=df2.join(df1,'movieId','inner')\n",
        "g.groupBy('moviename','movieId').agg(sum('awards')).show()\n"
      ],
      "metadata": {
        "id": "7gl8AFTDiUzB",
        "outputId": "7478fdc3-c017-4c71-c2b0-b0a406654dd6",
        "colab": {
          "base_uri": "https://localhost:8080/"
        }
      },
      "execution_count": 21,
      "outputs": [
        {
          "output_type": "stream",
          "name": "stdout",
          "text": [
            "+---------+-------+-----------+\n",
            "|moviename|movieId|sum(awards)|\n",
            "+---------+-------+-----------+\n",
            "|shawshank|    200|          5|\n",
            "|      saw|    201|          1|\n",
            "| avengers|    202|          8|\n",
            "|       mi|    204|          4|\n",
            "|wrongturn|    205|          1|\n",
            "+---------+-------+-----------+\n",
            "\n"
          ]
        }
      ]
    },
    {
      "cell_type": "code",
      "source": [
        "#Get top three movies on the basis of number of awards\n",
        "from pyspark.sql.functions import col\n",
        "# data=df2.join(df1,\"movieId\",\"inner\")\n",
        "# data.groupBy('moviename').agg({'awards':'sum'}).sort(col('sum(awards)').desc()).limit(3).show()\n",
        "\n",
        "data=df2.join(df1,'movieId','inner')\n",
        "data.groupBy('moviename').agg(sum('awards')).sort('sum(awards)',ascending=False).limit(3).show()\n",
        "\n"
      ],
      "metadata": {
        "id": "sPlzRfJtiU1W",
        "outputId": "ed68cb20-9440-4ecc-8d93-a21d950bf966",
        "colab": {
          "base_uri": "https://localhost:8080/"
        }
      },
      "execution_count": 27,
      "outputs": [
        {
          "output_type": "stream",
          "name": "stdout",
          "text": [
            "+---------+-----------+\n",
            "|moviename|sum(awards)|\n",
            "+---------+-----------+\n",
            "| avengers|          8|\n",
            "|shawshank|          5|\n",
            "|       mi|          4|\n",
            "+---------+-----------+\n",
            "\n"
          ]
        }
      ]
    },
    {
      "cell_type": "code",
      "source": [
        "#Get top three latest movies\n",
        "from pyspark.sql.functions import col\n",
        "#df1.sort(col('year').desc()).limit(3).show()\n",
        "\n",
        "df1.sort('year',ascending=False).limit(3).show()"
      ],
      "metadata": {
        "id": "cLlpSGfqiU3n",
        "outputId": "1455296a-a4d0-429d-e1d8-46bfed96f7f5",
        "colab": {
          "base_uri": "https://localhost:8080/"
        }
      },
      "execution_count": 28,
      "outputs": [
        {
          "output_type": "stream",
          "name": "stdout",
          "text": [
            "+-------+---------+--------------+----+\n",
            "|movieId|moviename|      director|year|\n",
            "+-------+---------+--------------+----+\n",
            "|    204|       mi|ChristopherMcq|2018|\n",
            "|    202| avengers|         JossW|2012|\n",
            "|    205|wrongturn|       DeclanO|2011|\n",
            "+-------+---------+--------------+----+\n",
            "\n"
          ]
        }
      ]
    },
    {
      "cell_type": "code",
      "source": [],
      "metadata": {
        "id": "c43AF7LEfJMd"
      },
      "execution_count": null,
      "outputs": []
    }
  ]
}