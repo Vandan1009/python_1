{
  "cells": [
    {
      "cell_type": "markdown",
      "metadata": {
        "id": "view-in-github",
        "colab_type": "text"
      },
      "source": [
        "<a href=\"https://colab.research.google.com/github/Vandan1009/python_1/blob/main/fi.ipynb\" target=\"_parent\"><img src=\"https://colab.research.google.com/assets/colab-badge.svg\" alt=\"Open In Colab\"/></a>"
      ]
    },
    {
      "cell_type": "code",
      "source": [
        "!pip install pyspark"
      ],
      "metadata": {
        "colab": {
          "base_uri": "https://localhost:8080/"
        },
        "id": "8qsSWYHSM0zG",
        "outputId": "f9470e23-9707-4a01-eeef-840dfbe102b1"
      },
      "execution_count": 174,
      "outputs": [
        {
          "output_type": "stream",
          "name": "stdout",
          "text": [
            "Requirement already satisfied: pyspark in /usr/local/lib/python3.10/dist-packages (3.5.2)\n",
            "Requirement already satisfied: py4j==0.10.9.7 in /usr/local/lib/python3.10/dist-packages (from pyspark) (0.10.9.7)\n"
          ]
        }
      ]
    },
    {
      "cell_type": "code",
      "source": [
        "from pyspark.sql import SparkSession"
      ],
      "metadata": {
        "id": "RhxM51MaM3Et"
      },
      "execution_count": 172,
      "outputs": []
    },
    {
      "cell_type": "code",
      "source": [
        "spark=SparkSession.builder.appName('project1').getOrCreate()"
      ],
      "metadata": {
        "id": "ngga7F5ZM9aF"
      },
      "execution_count": 173,
      "outputs": []
    },
    {
      "cell_type": "code",
      "source": [
        "spark"
      ],
      "metadata": {
        "colab": {
          "base_uri": "https://localhost:8080/",
          "height": 219
        },
        "id": "d7uN5GntNMqK",
        "outputId": "a6480d46-5dec-483a-f1ea-db196d2e1be0"
      },
      "execution_count": 175,
      "outputs": [
        {
          "output_type": "execute_result",
          "data": {
            "text/plain": [
              "<pyspark.sql.session.SparkSession at 0x799fc8052320>"
            ],
            "text/html": [
              "\n",
              "            <div>\n",
              "                <p><b>SparkSession - in-memory</b></p>\n",
              "                \n",
              "        <div>\n",
              "            <p><b>SparkContext</b></p>\n",
              "\n",
              "            <p><a href=\"http://07c7e02fc82e:4040\">Spark UI</a></p>\n",
              "\n",
              "            <dl>\n",
              "              <dt>Version</dt>\n",
              "                <dd><code>v3.5.2</code></dd>\n",
              "              <dt>Master</dt>\n",
              "                <dd><code>local[*]</code></dd>\n",
              "              <dt>AppName</dt>\n",
              "                <dd><code>project_lti</code></dd>\n",
              "            </dl>\n",
              "        </div>\n",
              "        \n",
              "            </div>\n",
              "        "
            ]
          },
          "metadata": {},
          "execution_count": 175
        }
      ]
    },
    {
      "cell_type": "code",
      "source": [
        "df=spark.read.csv('/content/final_data.csv',header=True,inferSchema=True)"
      ],
      "metadata": {
        "id": "SJ6CBDrwNNsC"
      },
      "execution_count": 193,
      "outputs": []
    },
    {
      "cell_type": "code",
      "source": [
        "df1=spark.read.csv('/content/order_details_new.csv',header=True,inferSchema=True)"
      ],
      "metadata": {
        "id": "rZvy3T-FN0ZY"
      },
      "execution_count": 194,
      "outputs": []
    },
    {
      "cell_type": "code",
      "source": [
        "from pyspark.sql.functions import *"
      ],
      "metadata": {
        "id": "zzAsT4VqOCPF"
      },
      "execution_count": 195,
      "outputs": []
    },
    {
      "cell_type": "code",
      "source": [
        "df.show()"
      ],
      "metadata": {
        "colab": {
          "base_uri": "https://localhost:8080/"
        },
        "id": "qCiZWEzqOioY",
        "outputId": "5b1481f1-d829-4d0f-853e-cb2cd75744fa"
      },
      "execution_count": 196,
      "outputs": [
        {
          "output_type": "stream",
          "name": "stdout",
          "text": [
            "+------------------+------+--------------------+--------+-------------+------------+------+------------------+\n",
            "|      product_name| Price|         Description|Category|StockQuantity|       Brand|Rating|         Warehouse|\n",
            "+------------------+------+--------------------+--------+-------------+------------+------+------------------+\n",
            "|         Card Game|363.33|Whom those term b...|    Toys|           95|        Nerf|   2.6|        Emilyburgh|\n",
            "|          Toy Boat|  79.6|Listen economy ge...|    Toys|           34|      Barbie|   2.8|  North Jamesmouth|\n",
            "|     Action Figure|432.64|Lead back her local.|    Toys|            8|        Nerf|   4.6|  West Joshuahaven|\n",
            "|      Rubik's Cube|215.39|Watch growth inve...|    Toys|         NULL|      Barbie|   3.5|   Mckenziechester|\n",
            "|       Barbie Doll|  NULL|                NULL|    Toys|           38|   DC Comics|   1.2|     Catherineside|\n",
            "|    Stuffed Animal|220.09|Computer little f...|    Toys|           76|      Chicco|   2.3|         Bryanport|\n",
            "|Remote Control Car|460.26|Seem expect they ...|    Toys|           36|      Hasbro|   2.8|   East Brianmouth|\n",
            "|            Puzzle|  5.75|Box seven never t...|    Toys|           37|        NULL|   0.0|        Traceytown|\n",
            "|              NULL|439.53|For family state ...|    Toys|           55|  Hot Wheels|   3.7|       Courtneyton|\n",
            "|     Action Figure| 363.7|Race drive contro...|    Toys|           99|Transformers|   2.1|North Hollyborough|\n",
            "|         Toy Train|254.84|Home card phone m...|    Toys|           88|Fisher-Price|   1.7|    West Lindafort|\n",
            "|        Toy Guitar| 58.86|Close gas large e...|    Toys|           22|  Paw Patrol|   1.7|       South Linda|\n",
            "|Remote Control Car|224.88|Appear standard l...|    Toys|            6|  Hot Wheels|   1.1|         Scottberg|\n",
            "|           Marbles| 406.9|Tend piece accoun...|    Toys|           68|       VTech|   0.0|       Stephenberg|\n",
            "|   Building Blocks|232.24|Site executive on...|    Toys|           51|Fisher-Price|   1.5|     South Cynthia|\n",
            "|           Marbles| 178.2|   Only order think.|    Toys|           22| Nickelodeon|   1.1|  Lake Erinchester|\n",
            "|       Barbie Doll| 30.57|Weight team relat...|    Toys|           65|Little Tikes|   3.7|          Erinland|\n",
            "|      Toy Dinosaur|260.14|Couple east sprin...|    Toys|           29|   DC Comics|   2.0|    Port Christina|\n",
            "|    Stuffed Animal|381.51|Mouth news look a...|    Toys|            1|      Mattel|   1.2|      East Bethany|\n",
            "|        Board Game|342.79|Speak phone respo...|    Toys|           45|Little Tikes|   2.7|          Markfort|\n",
            "+------------------+------+--------------------+--------+-------------+------------+------+------------------+\n",
            "only showing top 20 rows\n",
            "\n"
          ]
        }
      ]
    },
    {
      "cell_type": "code",
      "source": [
        "df1.show()"
      ],
      "metadata": {
        "colab": {
          "base_uri": "https://localhost:8080/"
        },
        "id": "RV1txbiGOlyq",
        "outputId": "3ff7c301-3940-40e3-e09c-9c79d2e6caf2"
      },
      "execution_count": 197,
      "outputs": [
        {
          "output_type": "stream",
          "name": "stdout",
          "text": [
            "+--------+-----------+------------------+----------+--------------------+--------+----------+------------+--------------------+\n",
            "|order_id|customer_id|     customer_name|product_id|      customer_email|quantity|order_date|order_status|    shipping_address|\n",
            "+--------+-----------+------------------+----------+--------------------+--------+----------+------------+--------------------+\n",
            "|      37|         20|    Kristy Flowers|        14|pamela11@example.com|       6|2024-07-06|     Pending|6479 Thomas Trail...|\n",
            "|      80|         38|     Keith Sanchez|         6|lisaholt@example.org|       6|2024-08-10|     Shipped|07201 Berry Passa...|\n",
            "|      52|         70|       Frank Myers|        30|  nyoung@example.net|       4|2024-01-17|     Shipped|Unit 8916 Box 262...|\n",
            "|      39|         38|    Samantha Gomez|        26|suarezjennifer@ex...|       4|2024-04-17|     Shipped|8091 Sellers Ferr...|\n",
            "|      87|         79|     Brian Blevins|        20|carterluis@exampl...|       4|2024-01-08|   Cancelled|47674 Gabriela Gr...|\n",
            "|      76|         36|       Paul Brewer|        14|klineadrian@examp...|       9|2024-02-12|   Cancelled|808 Melanie Well ...|\n",
            "|      31|         96|  Shannon Espinoza|        65|qcontreras@exampl...|       9|2024-08-12|   Cancelled|734 Bowers Isle, ...|\n",
            "|      54|         66|      Samuel Brown|        58|xroberts@example.com|       5|2024-03-31|     Pending|9195 Ashley Squar...|\n",
            "|      89|         93|   Bianca Petersen|        12| zpowell@example.org|       1|2024-04-02|     Shipped|89414 Karen Villa...|\n",
            "|      86|         76|     Melissa Heath|        96|brandi58@example.net|       9|2024-01-26|     Pending|59804 Cole Row, E...|\n",
            "|      42|         34|     Jason Collins|        79|williamreilly@exa...|       1|2024-01-06|     Shipped|106 Murphy Camp, ...|\n",
            "|      98|         41|         Ryan Bell|        93|  zstone@example.net|       7|2024-04-13|     Pending|583 Richards Spur...|\n",
            "|      68|         48|Christine Guerrero|        61|  sean90@example.net|       1|2024-02-19|   Cancelled|405 Rojas Spurs, ...|\n",
            "|      95|         71|   Jamie Fernandez|        68|ffigueroa@example...|       6|2024-02-28|   Delivered|9411 Robert Branc...|\n",
            "|      95|         75|      Amanda Moody|        28|hornkimberly@exam...|       7|2024-03-14|     Pending|271 Traci Route, ...|\n",
            "|      73|         48|   Daryl Hernandez|        50|  amiles@example.org|       3|2024-01-29|     Shipped|5920 Kenneth Cany...|\n",
            "|      38|         59|     Derek Hartman|        49|fernandomarsh@exa...|       2|2024-06-13|   Cancelled|2221 Brian Orchar...|\n",
            "|       6|         65|    Daniel Padilla|        78| frank26@example.com|       2|2024-02-05|   Delivered|968 Diana Ridges,...|\n",
            "|       1|         40|      Amy Espinoza|        55|codyjimenez@examp...|      10|2024-05-23|   Cancelled|777 Danielle Junc...|\n",
            "|      17|         76|    Monica Montoya|         3|patriciapeck@exam...|       7|2024-03-01|   Delivered|9234 Harrington K...|\n",
            "+--------+-----------+------------------+----------+--------------------+--------+----------+------------+--------------------+\n",
            "only showing top 20 rows\n",
            "\n"
          ]
        }
      ]
    },
    {
      "cell_type": "code",
      "source": [
        "\n",
        "df.withColumn(\"Price\", when(col(\"Price\").isNull(), avg_price).otherwise(col(\"Price\"))).show()"
      ],
      "metadata": {
        "colab": {
          "base_uri": "https://localhost:8080/"
        },
        "id": "nQx9ehkpOSjU",
        "outputId": "a4c9ea13-7957-4255-e72a-0a1380653216"
      },
      "execution_count": 145,
      "outputs": [
        {
          "output_type": "stream",
          "name": "stdout",
          "text": [
            "+------------------+-----------------+--------------------+--------+-------------+------------+------+------------------+\n",
            "|      product_name|            Price|         Description|Category|StockQuantity|       Brand|Rating|         Warehouse|\n",
            "+------------------+-----------------+--------------------+--------+-------------+------------+------+------------------+\n",
            "|         Card Game|           363.33|Whom those term b...|    Toys|           95|        Nerf|   2.6|        Emilyburgh|\n",
            "|          Toy Boat|             79.6|Listen economy ge...|    Toys|           34|      Barbie|   2.8|  North Jamesmouth|\n",
            "|     Action Figure|           432.64|Lead back her local.|    Toys|            8|        Nerf|   4.6|  West Joshuahaven|\n",
            "|      Rubik's Cube|           215.39|Watch growth inve...|    Toys|         NULL|      Barbie|   3.5|   Mckenziechester|\n",
            "|       Barbie Doll|10665.89385582563|                NULL|    Toys|           38|   DC Comics|   1.2|     Catherineside|\n",
            "|    Stuffed Animal|           220.09|Computer little f...|    Toys|           76|      Chicco|   2.3|         Bryanport|\n",
            "|Remote Control Car|           460.26|Seem expect they ...|    Toys|           36|      Hasbro|   2.8|   East Brianmouth|\n",
            "|            Puzzle|             5.75|Box seven never t...|    Toys|           37|        NULL|   0.0|        Traceytown|\n",
            "|              NULL|           439.53|For family state ...|    Toys|           55|  Hot Wheels|   3.7|       Courtneyton|\n",
            "|     Action Figure|            363.7|Race drive contro...|    Toys|           99|Transformers|   2.1|North Hollyborough|\n",
            "|         Toy Train|           254.84|Home card phone m...|    Toys|           88|Fisher-Price|   1.7|    West Lindafort|\n",
            "|        Toy Guitar|            58.86|Close gas large e...|    Toys|           22|  Paw Patrol|   1.7|       South Linda|\n",
            "|Remote Control Car|           224.88|Appear standard l...|    Toys|            6|  Hot Wheels|   1.1|         Scottberg|\n",
            "|           Marbles|            406.9|Tend piece accoun...|    Toys|           68|       VTech|   0.0|       Stephenberg|\n",
            "|   Building Blocks|           232.24|Site executive on...|    Toys|           51|Fisher-Price|   1.5|     South Cynthia|\n",
            "|           Marbles|            178.2|   Only order think.|    Toys|           22| Nickelodeon|   1.1|  Lake Erinchester|\n",
            "|       Barbie Doll|            30.57|Weight team relat...|    Toys|           65|Little Tikes|   3.7|          Erinland|\n",
            "|      Toy Dinosaur|           260.14|Couple east sprin...|    Toys|           29|   DC Comics|   2.0|    Port Christina|\n",
            "|    Stuffed Animal|           381.51|Mouth news look a...|    Toys|            1|      Mattel|   1.2|      East Bethany|\n",
            "|        Board Game|           342.79|Speak phone respo...|    Toys|           45|Little Tikes|   2.7|          Markfort|\n",
            "+------------------+-----------------+--------------------+--------+-------------+------------+------+------------------+\n",
            "only showing top 20 rows\n",
            "\n"
          ]
        }
      ]
    },
    {
      "cell_type": "code",
      "source": [
        "df.selectExpr(\"avg(Price)\").first()[0]"
      ],
      "metadata": {
        "colab": {
          "base_uri": "https://localhost:8080/"
        },
        "id": "eysT9rnaOcNz",
        "outputId": "4462f757-8f32-4e24-b00b-ab637ecd5b2d"
      },
      "execution_count": 144,
      "outputs": [
        {
          "output_type": "execute_result",
          "data": {
            "text/plain": [
              "10665.89385582563"
            ]
          },
          "metadata": {},
          "execution_count": 144
        }
      ]
    },
    {
      "cell_type": "code",
      "source": [
        "df.fillna({\n",
        "    \"product_name\": \"Unknown\",\n",
        "    \"Description\": \"No description available\",\n",
        "    \"StockQuantity\": 0,\n",
        "    \"Brand\": \"No brand\",\n",
        "    \"Rating\": 0.0,\n",
        "    \"Warehouse\": \"Unknown\"\n",
        "}).show()"
      ],
      "metadata": {
        "colab": {
          "base_uri": "https://localhost:8080/"
        },
        "id": "UIA0qAZ7OfgM",
        "outputId": "aaa7abb0-1fa5-4733-ff53-3194fa03a0b2"
      },
      "execution_count": 146,
      "outputs": [
        {
          "output_type": "stream",
          "name": "stdout",
          "text": [
            "+------------------+------+--------------------+--------+-------------+------------+------+------------------+\n",
            "|      product_name| Price|         Description|Category|StockQuantity|       Brand|Rating|         Warehouse|\n",
            "+------------------+------+--------------------+--------+-------------+------------+------+------------------+\n",
            "|         Card Game|363.33|Whom those term b...|    Toys|           95|        Nerf|   2.6|        Emilyburgh|\n",
            "|          Toy Boat|  79.6|Listen economy ge...|    Toys|           34|      Barbie|   2.8|  North Jamesmouth|\n",
            "|     Action Figure|432.64|Lead back her local.|    Toys|            8|        Nerf|   4.6|  West Joshuahaven|\n",
            "|      Rubik's Cube|215.39|Watch growth inve...|    Toys|            0|      Barbie|   3.5|   Mckenziechester|\n",
            "|       Barbie Doll|  NULL|No description av...|    Toys|           38|   DC Comics|   1.2|     Catherineside|\n",
            "|    Stuffed Animal|220.09|Computer little f...|    Toys|           76|      Chicco|   2.3|         Bryanport|\n",
            "|Remote Control Car|460.26|Seem expect they ...|    Toys|           36|      Hasbro|   2.8|   East Brianmouth|\n",
            "|            Puzzle|  5.75|Box seven never t...|    Toys|           37|    No brand|   0.0|        Traceytown|\n",
            "|           Unknown|439.53|For family state ...|    Toys|           55|  Hot Wheels|   3.7|       Courtneyton|\n",
            "|     Action Figure| 363.7|Race drive contro...|    Toys|           99|Transformers|   2.1|North Hollyborough|\n",
            "|         Toy Train|254.84|Home card phone m...|    Toys|           88|Fisher-Price|   1.7|    West Lindafort|\n",
            "|        Toy Guitar| 58.86|Close gas large e...|    Toys|           22|  Paw Patrol|   1.7|       South Linda|\n",
            "|Remote Control Car|224.88|Appear standard l...|    Toys|            6|  Hot Wheels|   1.1|         Scottberg|\n",
            "|           Marbles| 406.9|Tend piece accoun...|    Toys|           68|       VTech|   0.0|       Stephenberg|\n",
            "|   Building Blocks|232.24|Site executive on...|    Toys|           51|Fisher-Price|   1.5|     South Cynthia|\n",
            "|           Marbles| 178.2|   Only order think.|    Toys|           22| Nickelodeon|   1.1|  Lake Erinchester|\n",
            "|       Barbie Doll| 30.57|Weight team relat...|    Toys|           65|Little Tikes|   3.7|          Erinland|\n",
            "|      Toy Dinosaur|260.14|Couple east sprin...|    Toys|           29|   DC Comics|   2.0|    Port Christina|\n",
            "|    Stuffed Animal|381.51|Mouth news look a...|    Toys|            1|      Mattel|   1.2|      East Bethany|\n",
            "|        Board Game|342.79|Speak phone respo...|    Toys|           45|Little Tikes|   2.7|          Markfort|\n",
            "+------------------+------+--------------------+--------+-------------+------------+------+------------------+\n",
            "only showing top 20 rows\n",
            "\n"
          ]
        }
      ]
    },
    {
      "cell_type": "code",
      "source": [
        "df.withColumn(\"rating\", when(col(\"rating\") == 0, 3.5).otherwise(col(\"rating\"))).show()"
      ],
      "metadata": {
        "colab": {
          "base_uri": "https://localhost:8080/"
        },
        "id": "YMTWhSZIPDFj",
        "outputId": "dd5ac1c4-4bb8-41c8-dab6-a8e4be685c25"
      },
      "execution_count": 148,
      "outputs": [
        {
          "output_type": "stream",
          "name": "stdout",
          "text": [
            "+------------------+------+--------------------+--------+-------------+------------+------+------------------+\n",
            "|      product_name| Price|         Description|Category|StockQuantity|       Brand|rating|         Warehouse|\n",
            "+------------------+------+--------------------+--------+-------------+------------+------+------------------+\n",
            "|         Card Game|363.33|Whom those term b...|    Toys|           95|        Nerf|   2.6|        Emilyburgh|\n",
            "|          Toy Boat|  79.6|Listen economy ge...|    Toys|           34|      Barbie|   2.8|  North Jamesmouth|\n",
            "|     Action Figure|432.64|Lead back her local.|    Toys|            8|        Nerf|   4.6|  West Joshuahaven|\n",
            "|      Rubik's Cube|215.39|Watch growth inve...|    Toys|         NULL|      Barbie|   3.5|   Mckenziechester|\n",
            "|       Barbie Doll|  NULL|                NULL|    Toys|           38|   DC Comics|   1.2|     Catherineside|\n",
            "|    Stuffed Animal|220.09|Computer little f...|    Toys|           76|      Chicco|   2.3|         Bryanport|\n",
            "|Remote Control Car|460.26|Seem expect they ...|    Toys|           36|      Hasbro|   2.8|   East Brianmouth|\n",
            "|            Puzzle|  5.75|Box seven never t...|    Toys|           37|        NULL|   3.5|        Traceytown|\n",
            "|              NULL|439.53|For family state ...|    Toys|           55|  Hot Wheels|   3.7|       Courtneyton|\n",
            "|     Action Figure| 363.7|Race drive contro...|    Toys|           99|Transformers|   2.1|North Hollyborough|\n",
            "|         Toy Train|254.84|Home card phone m...|    Toys|           88|Fisher-Price|   1.7|    West Lindafort|\n",
            "|        Toy Guitar| 58.86|Close gas large e...|    Toys|           22|  Paw Patrol|   1.7|       South Linda|\n",
            "|Remote Control Car|224.88|Appear standard l...|    Toys|            6|  Hot Wheels|   1.1|         Scottberg|\n",
            "|           Marbles| 406.9|Tend piece accoun...|    Toys|           68|       VTech|   3.5|       Stephenberg|\n",
            "|   Building Blocks|232.24|Site executive on...|    Toys|           51|Fisher-Price|   1.5|     South Cynthia|\n",
            "|           Marbles| 178.2|   Only order think.|    Toys|           22| Nickelodeon|   1.1|  Lake Erinchester|\n",
            "|       Barbie Doll| 30.57|Weight team relat...|    Toys|           65|Little Tikes|   3.7|          Erinland|\n",
            "|      Toy Dinosaur|260.14|Couple east sprin...|    Toys|           29|   DC Comics|   2.0|    Port Christina|\n",
            "|    Stuffed Animal|381.51|Mouth news look a...|    Toys|            1|      Mattel|   1.2|      East Bethany|\n",
            "|        Board Game|342.79|Speak phone respo...|    Toys|           45|Little Tikes|   2.7|          Markfort|\n",
            "+------------------+------+--------------------+--------+-------------+------------+------+------------------+\n",
            "only showing top 20 rows\n",
            "\n"
          ]
        }
      ]
    },
    {
      "cell_type": "code",
      "source": [
        "df.withColumn(\"Price\", col(\"Price\").cast(\"int\")).show()"
      ],
      "metadata": {
        "colab": {
          "base_uri": "https://localhost:8080/"
        },
        "id": "H4-hlCIRPL7u",
        "outputId": "b790c046-a2a2-4ba6-94f6-3d3a8c354f90"
      },
      "execution_count": 153,
      "outputs": [
        {
          "output_type": "stream",
          "name": "stdout",
          "text": [
            "+------------------+-----+--------------------+--------+-------------+------------+------+------------------+\n",
            "|      product_name|Price|         Description|Category|StockQuantity|       Brand|Rating|         Warehouse|\n",
            "+------------------+-----+--------------------+--------+-------------+------------+------+------------------+\n",
            "|         Card Game|  363|Whom those term b...|    Toys|           95|        Nerf|   2.6|        Emilyburgh|\n",
            "|          Toy Boat|   79|Listen economy ge...|    Toys|           34|      Barbie|   2.8|  North Jamesmouth|\n",
            "|     Action Figure|  432|Lead back her local.|    Toys|            8|        Nerf|   4.6|  West Joshuahaven|\n",
            "|      Rubik's Cube|  215|Watch growth inve...|    Toys|         NULL|      Barbie|   3.5|   Mckenziechester|\n",
            "|       Barbie Doll| NULL|                NULL|    Toys|           38|   DC Comics|   1.2|     Catherineside|\n",
            "|    Stuffed Animal|  220|Computer little f...|    Toys|           76|      Chicco|   2.3|         Bryanport|\n",
            "|Remote Control Car|  460|Seem expect they ...|    Toys|           36|      Hasbro|   2.8|   East Brianmouth|\n",
            "|            Puzzle|    5|Box seven never t...|    Toys|           37|        NULL|   0.0|        Traceytown|\n",
            "|              NULL|  439|For family state ...|    Toys|           55|  Hot Wheels|   3.7|       Courtneyton|\n",
            "|     Action Figure|  363|Race drive contro...|    Toys|           99|Transformers|   2.1|North Hollyborough|\n",
            "|         Toy Train|  254|Home card phone m...|    Toys|           88|Fisher-Price|   1.7|    West Lindafort|\n",
            "|        Toy Guitar|   58|Close gas large e...|    Toys|           22|  Paw Patrol|   1.7|       South Linda|\n",
            "|Remote Control Car|  224|Appear standard l...|    Toys|            6|  Hot Wheels|   1.1|         Scottberg|\n",
            "|           Marbles|  406|Tend piece accoun...|    Toys|           68|       VTech|   0.0|       Stephenberg|\n",
            "|   Building Blocks|  232|Site executive on...|    Toys|           51|Fisher-Price|   1.5|     South Cynthia|\n",
            "|           Marbles|  178|   Only order think.|    Toys|           22| Nickelodeon|   1.1|  Lake Erinchester|\n",
            "|       Barbie Doll|   30|Weight team relat...|    Toys|           65|Little Tikes|   3.7|          Erinland|\n",
            "|      Toy Dinosaur|  260|Couple east sprin...|    Toys|           29|   DC Comics|   2.0|    Port Christina|\n",
            "|    Stuffed Animal|  381|Mouth news look a...|    Toys|            1|      Mattel|   1.2|      East Bethany|\n",
            "|        Board Game|  342|Speak phone respo...|    Toys|           45|Little Tikes|   2.7|          Markfort|\n",
            "+------------------+-----+--------------------+--------+-------------+------------+------+------------------+\n",
            "only showing top 20 rows\n",
            "\n"
          ]
        }
      ]
    },
    {
      "cell_type": "code",
      "source": [
        "\n",
        "orders_id=df1.dropDuplicates([\"Order_id\"])\n",
        "orders_id.show()"
      ],
      "metadata": {
        "colab": {
          "base_uri": "https://localhost:8080/"
        },
        "id": "I_889BvVP6r4",
        "outputId": "10ed886b-4215-4bfa-c756-a16de5b53106"
      },
      "execution_count": 161,
      "outputs": [
        {
          "output_type": "stream",
          "name": "stdout",
          "text": [
            "+--------+-----------+--------------------+----------+--------------------+--------+----------+------------+--------------------+\n",
            "|order_id|customer_id|       customer_name|product_id|      customer_email|quantity|order_date|order_status|    shipping_address|\n",
            "+--------+-----------+--------------------+----------+--------------------+--------+----------+------------+--------------------+\n",
            "|       1|         40|        Amy Espinoza|        55|codyjimenez@examp...|      10|2024-05-23|   Cancelled|777 Danielle Junc...|\n",
            "|       2|         93|     Timothy Sanchez|         3|zjennings@example...|       7|2024-02-18|     Shipped|71690 Brian Freew...|\n",
            "|       3|         25|       Maxwell Avila|        74|timothy59@example...|       3|2024-04-20|     Shipped|08937 Estes Valle...|\n",
            "|       4|         11|      Danny Peterson|        50|hesterlinda@examp...|       8|2024-01-15|     Pending|28855 Anthony Pla...|\n",
            "|       5|         28|        John Garrett|        66|haleydurham@examp...|       9|2024-04-03|   Delivered|11323 Bradley Pra...|\n",
            "|       6|         65|      Daniel Padilla|        78| frank26@example.com|       2|2024-02-05|   Delivered|968 Diana Ridges,...|\n",
            "|       7|         54|     Alexandra Brown|         6|sarahmccoy@exampl...|       5|2024-03-18|     Pending|5992 Hannah Meado...|\n",
            "|       8|         40|  Christopher Abbott|        97|heathergonzales@e...|       8|2024-02-04|     Pending|USNS Anderson, FP...|\n",
            "|       9|         20|     Michael Johnson|        64|  yscott@example.org|       7|2024-05-27|     Shipped|USCGC Hill, FPO A...|\n",
            "|      10|         95|Mrs. Elizabeth Green|        43| frank86@example.org|       6|2024-01-07|     Pending|951 Little Lodge ...|\n",
            "|      11|         26|       David Garrett|        27|  ywolfe@example.net|       8|2024-02-18|   Delivered|USNV Fisher, FPO ...|\n",
            "|      12|          2|   Dr. Vanessa Ramos|        39|conleychristine@e...|       2|2024-01-05|     Shipped|79599 York Plains...|\n",
            "|      13|          9|        Luke Pacheco|         6|lisaallison@examp...|       3|2024-01-07|     Shipped|28174 Amber Commo...|\n",
            "|      14|         10|      Aaron Thornton|        97|hwilliams@example...|       1|2024-06-22|     Pending|41950 Donald Port...|\n",
            "|      15|         49|    Douglas Johnston|         6| qbowers@example.com|       1|2024-02-17|   Delivered|2119 Fuentes Ligh...|\n",
            "|      16|         73|         Keith Jones|        67|perezmelissa@exam...|       5|2024-03-31|     Pending|286 Sanders Ramp,...|\n",
            "|      17|         76|      Monica Montoya|         3|patriciapeck@exam...|       7|2024-03-01|   Delivered|9234 Harrington K...|\n",
            "|      18|         99|    Carly Alvarez MD|        11|fieldssteven@exam...|       7|2024-08-19|   Cancelled|09038 Thomas Key ...|\n",
            "|      19|          9|      Bryan Mitchell|        83|millerjose@exampl...|       2|2024-04-18|     Pending|6651 Moran Parks ...|\n",
            "|      20|         18|         John Tucker|        15|matthew15@example...|       2|2024-03-05|   Delivered|365 Bryan Springs...|\n",
            "+--------+-----------+--------------------+----------+--------------------+--------+----------+------------+--------------------+\n",
            "only showing top 20 rows\n",
            "\n"
          ]
        }
      ]
    },
    {
      "cell_type": "code",
      "source": [
        "orders_id=df1.dropDuplicates([\"Product_id\"])\n",
        "orders_id.show()"
      ],
      "metadata": {
        "colab": {
          "base_uri": "https://localhost:8080/"
        },
        "id": "6ri61BRUQnAr",
        "outputId": "58ad17e1-b07d-45f2-dd4e-0be922b123fa"
      },
      "execution_count": 162,
      "outputs": [
        {
          "output_type": "stream",
          "name": "stdout",
          "text": [
            "+--------+-----------+----------------+----------+--------------------+--------+----------+------------+--------------------+\n",
            "|order_id|customer_id|   customer_name|product_id|      customer_email|quantity|order_date|order_status|    shipping_address|\n",
            "+--------+-----------+----------------+----------+--------------------+--------+----------+------------+--------------------+\n",
            "|      76|          9|   Katie Johnson|         1|  odavis@example.com|       8|2024-04-29|     Shipped|41241 Wright Land...|\n",
            "|      52|         28|  Hannah Cabrera|         2|deckeraaron@examp...|      10|2024-06-03|   Cancelled|494 Stephen Cente...|\n",
            "|      17|         76|  Monica Montoya|         3|patriciapeck@exam...|       7|2024-03-01|   Delivered|9234 Harrington K...|\n",
            "|      52|         68|     Mary Jordan|         4| laura21@example.org|       6|2024-06-17|   Delivered|Unit 6162 Box 415...|\n",
            "|      12|         65|   Mary Mcknight|         5|carterelizabeth@e...|       6|2024-03-06|     Pending|79585 Logan Throu...|\n",
            "|      80|         38|   Keith Sanchez|         6|lisaholt@example.org|       6|2024-08-10|     Shipped|07201 Berry Passa...|\n",
            "|      78|         98|Vincent Mcdonald|         7|allenstacey@examp...|       2|2024-01-06|   Cancelled|0650 Gutierrez Fo...|\n",
            "|      71|         52| Cheyenne Torres|         8|palmernicole@exam...|       8|2024-08-14|     Shipped|PSC 2519, Box 172...|\n",
            "|      78|         36|   Ann Henderson|         9|xchristensen@exam...|       6|2024-07-11|     Pending|7994 Sarah Spurs ...|\n",
            "|      43|         86| Stephen Sanchez|        10|davisrichard@exam...|       7|2024-07-17|   Delivered|88251 Vanessa Vil...|\n",
            "|      11|         94|Cassandra Jensen|        11|   ann12@example.net|       7|2024-03-15|     Pending|USNS Anthony, FPO...|\n",
            "|      89|         93| Bianca Petersen|        12| zpowell@example.org|       1|2024-04-02|     Shipped|89414 Karen Villa...|\n",
            "|      23|         73|     John Bishop|        13|danielphillips@ex...|       9|2024-02-14|     Pending|289 Stewart Stree...|\n",
            "|      37|         20|  Kristy Flowers|        14|pamela11@example.com|       6|2024-07-06|     Pending|6479 Thomas Trail...|\n",
            "|      20|         18|     John Tucker|        15|matthew15@example...|       2|2024-03-05|   Delivered|365 Bryan Springs...|\n",
            "|      62|         58| Gary Richardson|        16|leecheryl@example...|       9|2024-01-17|     Shipped|443 Julia Burgs A...|\n",
            "|      61|        100|Kristina Mullins|        17|nealsandra@exampl...|       3|2024-04-28|     Pending|73159 Timothy Mea...|\n",
            "|      75|         51|   Theresa Gates|        18|    cfox@example.org|       4|2024-03-21|   Cancelled|89227 Thomas Mews...|\n",
            "|      22|         44|Victoria Garrett|        19|juanbray@example.com|       1|2024-06-23|     Shipped|7115 David Light,...|\n",
            "|      87|         79|   Brian Blevins|        20|carterluis@exampl...|       4|2024-01-08|   Cancelled|47674 Gabriela Gr...|\n",
            "+--------+-----------+----------------+----------+--------------------+--------+----------+------------+--------------------+\n",
            "only showing top 20 rows\n",
            "\n"
          ]
        }
      ]
    },
    {
      "cell_type": "code",
      "source": [
        "orders_df = df1.withColumn(\"Order_date\", col(\"Order_date\").cast(\"date\"))\n",
        "orders_df.show()"
      ],
      "metadata": {
        "colab": {
          "base_uri": "https://localhost:8080/"
        },
        "id": "FzHB8t2uRYKZ",
        "outputId": "26e0fe4a-2b33-4e74-d11a-ca5ef5f2f4f4"
      },
      "execution_count": 203,
      "outputs": [
        {
          "output_type": "stream",
          "name": "stdout",
          "text": [
            "+--------+-----------+------------------+----------+--------------------+--------+----------+------------+--------------------+\n",
            "|order_id|customer_id|     customer_name|product_id|      customer_email|quantity|Order_date|order_status|    shipping_address|\n",
            "+--------+-----------+------------------+----------+--------------------+--------+----------+------------+--------------------+\n",
            "|      37|         20|    Kristy Flowers|        14|pamela11@example.com|       6|2024-07-06|     Pending|6479 Thomas Trail...|\n",
            "|      80|         38|     Keith Sanchez|         6|lisaholt@example.org|       6|2024-08-10|     Shipped|07201 Berry Passa...|\n",
            "|      52|         70|       Frank Myers|        30|  nyoung@example.net|       4|2024-01-17|     Shipped|Unit 8916 Box 262...|\n",
            "|      39|         38|    Samantha Gomez|        26|suarezjennifer@ex...|       4|2024-04-17|     Shipped|8091 Sellers Ferr...|\n",
            "|      87|         79|     Brian Blevins|        20|carterluis@exampl...|       4|2024-01-08|   Cancelled|47674 Gabriela Gr...|\n",
            "|      76|         36|       Paul Brewer|        14|klineadrian@examp...|       9|2024-02-12|   Cancelled|808 Melanie Well ...|\n",
            "|      31|         96|  Shannon Espinoza|        65|qcontreras@exampl...|       9|2024-08-12|   Cancelled|734 Bowers Isle, ...|\n",
            "|      54|         66|      Samuel Brown|        58|xroberts@example.com|       5|2024-03-31|     Pending|9195 Ashley Squar...|\n",
            "|      89|         93|   Bianca Petersen|        12| zpowell@example.org|       1|2024-04-02|     Shipped|89414 Karen Villa...|\n",
            "|      86|         76|     Melissa Heath|        96|brandi58@example.net|       9|2024-01-26|     Pending|59804 Cole Row, E...|\n",
            "|      42|         34|     Jason Collins|        79|williamreilly@exa...|       1|2024-01-06|     Shipped|106 Murphy Camp, ...|\n",
            "|      98|         41|         Ryan Bell|        93|  zstone@example.net|       7|2024-04-13|     Pending|583 Richards Spur...|\n",
            "|      68|         48|Christine Guerrero|        61|  sean90@example.net|       1|2024-02-19|   Cancelled|405 Rojas Spurs, ...|\n",
            "|      95|         71|   Jamie Fernandez|        68|ffigueroa@example...|       6|2024-02-28|   Delivered|9411 Robert Branc...|\n",
            "|      95|         75|      Amanda Moody|        28|hornkimberly@exam...|       7|2024-03-14|     Pending|271 Traci Route, ...|\n",
            "|      73|         48|   Daryl Hernandez|        50|  amiles@example.org|       3|2024-01-29|     Shipped|5920 Kenneth Cany...|\n",
            "|      38|         59|     Derek Hartman|        49|fernandomarsh@exa...|       2|2024-06-13|   Cancelled|2221 Brian Orchar...|\n",
            "|       6|         65|    Daniel Padilla|        78| frank26@example.com|       2|2024-02-05|   Delivered|968 Diana Ridges,...|\n",
            "|       1|         40|      Amy Espinoza|        55|codyjimenez@examp...|      10|2024-05-23|   Cancelled|777 Danielle Junc...|\n",
            "|      17|         76|    Monica Montoya|         3|patriciapeck@exam...|       7|2024-03-01|   Delivered|9234 Harrington K...|\n",
            "+--------+-----------+------------------+----------+--------------------+--------+----------+------------+--------------------+\n",
            "only showing top 20 rows\n",
            "\n"
          ]
        }
      ]
    },
    {
      "cell_type": "code",
      "source": [
        "#df.replace(0, 3.5, subset=[\"rating\"]).show()\n",
        "df_dropped = df.dropna(subset=[\"price\"])\n",
        "df_dropped.show()"
      ],
      "metadata": {
        "colab": {
          "base_uri": "https://localhost:8080/"
        },
        "id": "qXrIyYVCRlai",
        "outputId": "bb6bcf9a-a67c-4723-c0e8-782f1908597b"
      },
      "execution_count": 183,
      "outputs": [
        {
          "output_type": "stream",
          "name": "stdout",
          "text": [
            "+------------------+------+--------------------+--------+-------------+------------+------+------------------+\n",
            "|      product_name| Price|         Description|Category|StockQuantity|       Brand|Rating|         Warehouse|\n",
            "+------------------+------+--------------------+--------+-------------+------------+------+------------------+\n",
            "|         Card Game|363.33|Whom those term b...|    Toys|           95|        Nerf|   2.6|        Emilyburgh|\n",
            "|          Toy Boat|  79.6|Listen economy ge...|    Toys|           34|      Barbie|   2.8|  North Jamesmouth|\n",
            "|     Action Figure|432.64|Lead back her local.|    Toys|            8|        Nerf|   4.6|  West Joshuahaven|\n",
            "|      Rubik's Cube|215.39|Watch growth inve...|    Toys|         NULL|      Barbie|   3.5|   Mckenziechester|\n",
            "|    Stuffed Animal|220.09|Computer little f...|    Toys|           76|      Chicco|   2.3|         Bryanport|\n",
            "|Remote Control Car|460.26|Seem expect they ...|    Toys|           36|      Hasbro|   2.8|   East Brianmouth|\n",
            "|            Puzzle|  5.75|Box seven never t...|    Toys|           37|        NULL|   0.0|        Traceytown|\n",
            "|              NULL|439.53|For family state ...|    Toys|           55|  Hot Wheels|   3.7|       Courtneyton|\n",
            "|     Action Figure| 363.7|Race drive contro...|    Toys|           99|Transformers|   2.1|North Hollyborough|\n",
            "|         Toy Train|254.84|Home card phone m...|    Toys|           88|Fisher-Price|   1.7|    West Lindafort|\n",
            "|        Toy Guitar| 58.86|Close gas large e...|    Toys|           22|  Paw Patrol|   1.7|       South Linda|\n",
            "|Remote Control Car|224.88|Appear standard l...|    Toys|            6|  Hot Wheels|   1.1|         Scottberg|\n",
            "|           Marbles| 406.9|Tend piece accoun...|    Toys|           68|       VTech|   0.0|       Stephenberg|\n",
            "|   Building Blocks|232.24|Site executive on...|    Toys|           51|Fisher-Price|   1.5|     South Cynthia|\n",
            "|           Marbles| 178.2|   Only order think.|    Toys|           22| Nickelodeon|   1.1|  Lake Erinchester|\n",
            "|       Barbie Doll| 30.57|Weight team relat...|    Toys|           65|Little Tikes|   3.7|          Erinland|\n",
            "|      Toy Dinosaur|260.14|Couple east sprin...|    Toys|           29|   DC Comics|   2.0|    Port Christina|\n",
            "|    Stuffed Animal|381.51|Mouth news look a...|    Toys|            1|      Mattel|   1.2|      East Bethany|\n",
            "|        Board Game|342.79|Speak phone respo...|    Toys|           45|Little Tikes|   2.7|          Markfort|\n",
            "|        Hot Wheels|482.86|Carry above toget...|    Toys|           47|       Tonka|   1.4|         Andreport|\n",
            "+------------------+------+--------------------+--------+-------------+------------+------+------------------+\n",
            "only showing top 20 rows\n",
            "\n"
          ]
        }
      ]
    },
    {
      "cell_type": "code",
      "source": [
        "df_filtered = df.filter(df.Price > 10000)\n",
        "df_filtered.show()"
      ],
      "metadata": {
        "colab": {
          "base_uri": "https://localhost:8080/"
        },
        "id": "19oAAk6xSOlo",
        "outputId": "acad401e-3947-4986-9620-442507704181"
      },
      "execution_count": 185,
      "outputs": [
        {
          "output_type": "stream",
          "name": "stdout",
          "text": [
            "+----------------+---------+--------------------+-----------+-------------+-----------+------+-----------------+\n",
            "|    product_name|    Price|         Description|   Category|StockQuantity|      Brand|Rating|        Warehouse|\n",
            "+----------------+---------+--------------------+-----------+-------------+-----------+------+-----------------+\n",
            "|      Microwaves| 94437.28|Season morning tr...|Electronics|           26|        JBL|   2.0|      Edwardville|\n",
            "|         Laptops| 97703.97|  The message short.|Electronics|           75|       Oppo|   1.8|      North Debra|\n",
            "|        Monitors|120855.77|Either until agai...|Electronics|           30|      Canon|   4.5|East Kristinaview|\n",
            "|         Tablets| 81797.63|                NULL|Electronics|            1|       Sony|   4.2|   Rodriguezburgh|\n",
            "|     Hair Dryers| 56225.38|Capital usually m...|Electronics|           74|      Nikon|   4.4|    Port Nicholas|\n",
            "|    Smart Lights| 57163.54|Push church discu...|Electronics|           37|PlayStation|   2.7|       Jameshaven|\n",
            "|Security Cameras| 36596.94|Response official...|       NULL|            1|  Microsoft|   1.4|   South Nicholas|\n",
            "| Gaming Consoles|148879.27|Ago girl within n...|Electronics|           26| Sennheiser|   2.5|   Zimmermanhaven|\n",
            "|        Printers| 72444.47|Continue account ...|Electronics|           85|         LG|   2.0| Lake Danachester|\n",
            "|    Smart Lights| 43489.39|Maintain long aro...|Electronics|           69|     Google|   2.7|     Jenniferport|\n",
            "|Electric Shavers|110970.94|Help rich surface...|Electronics|           43|     Xiaomi|   2.8|        Lindabury|\n",
            "|     Televisions| 17190.57|Instead minute ac...|Electronics|           98|       Sony|   2.7|  New Jeremyshire|\n",
            "|Electric Shavers| 31273.17|Tend medical low ...|Electronics|           33|       Acer|   1.1| East Zacharystad|\n",
            "|  Smart Speakers|139256.56|Improve total enj...|Electronics|           85|   Nintendo|   4.4|        Tammyfort|\n",
            "|   Sound Systems|146768.32|Tell lay later au...|Electronics|           42|  Whirlpool|   2.3|         Brockton|\n",
            "| Vacuum Cleaners|115767.14|Away newspaper tr...|Electronics|           78|         LG|   3.0|       Hubermouth|\n",
            "|     Hair Dryers| 54720.66|Sport management ...|Electronics|           78|      Apple|   3.5|     Courtneyfurt|\n",
            "|         Tablets| 76621.61|Best standard arg...|Electronics|            1|      Bosch|   3.5|      Port Justin|\n",
            "|     Smartphones| 95524.27|Enough very follo...|Electronics|           34|     Huawei|   2.1|       Tylerville|\n",
            "| Vacuum Cleaners| 39002.42|Themselves team r...|Electronics|           87|      GoPro|   1.6|     Tiffanymouth|\n",
            "+----------------+---------+--------------------+-----------+-------------+-----------+------+-----------------+\n",
            "only showing top 20 rows\n",
            "\n"
          ]
        }
      ]
    },
    {
      "cell_type": "code",
      "source": [
        "df_q = df.withColumnRenamed('product_name','iteams_list')\n",
        "df_q.show()"
      ],
      "metadata": {
        "colab": {
          "base_uri": "https://localhost:8080/"
        },
        "id": "85IS72CfloGZ",
        "outputId": "5710882c-021d-40ba-b61c-944c921bff87"
      },
      "execution_count": 198,
      "outputs": [
        {
          "output_type": "stream",
          "name": "stdout",
          "text": [
            "+------------------+------+--------------------+--------+-------------+------------+------+------------------+\n",
            "|       iteams_list| Price|         Description|Category|StockQuantity|       Brand|Rating|         Warehouse|\n",
            "+------------------+------+--------------------+--------+-------------+------------+------+------------------+\n",
            "|         Card Game|363.33|Whom those term b...|    Toys|           95|        Nerf|   2.6|        Emilyburgh|\n",
            "|          Toy Boat|  79.6|Listen economy ge...|    Toys|           34|      Barbie|   2.8|  North Jamesmouth|\n",
            "|     Action Figure|432.64|Lead back her local.|    Toys|            8|        Nerf|   4.6|  West Joshuahaven|\n",
            "|      Rubik's Cube|215.39|Watch growth inve...|    Toys|         NULL|      Barbie|   3.5|   Mckenziechester|\n",
            "|       Barbie Doll|  NULL|                NULL|    Toys|           38|   DC Comics|   1.2|     Catherineside|\n",
            "|    Stuffed Animal|220.09|Computer little f...|    Toys|           76|      Chicco|   2.3|         Bryanport|\n",
            "|Remote Control Car|460.26|Seem expect they ...|    Toys|           36|      Hasbro|   2.8|   East Brianmouth|\n",
            "|            Puzzle|  5.75|Box seven never t...|    Toys|           37|        NULL|   0.0|        Traceytown|\n",
            "|              NULL|439.53|For family state ...|    Toys|           55|  Hot Wheels|   3.7|       Courtneyton|\n",
            "|     Action Figure| 363.7|Race drive contro...|    Toys|           99|Transformers|   2.1|North Hollyborough|\n",
            "|         Toy Train|254.84|Home card phone m...|    Toys|           88|Fisher-Price|   1.7|    West Lindafort|\n",
            "|        Toy Guitar| 58.86|Close gas large e...|    Toys|           22|  Paw Patrol|   1.7|       South Linda|\n",
            "|Remote Control Car|224.88|Appear standard l...|    Toys|            6|  Hot Wheels|   1.1|         Scottberg|\n",
            "|           Marbles| 406.9|Tend piece accoun...|    Toys|           68|       VTech|   0.0|       Stephenberg|\n",
            "|   Building Blocks|232.24|Site executive on...|    Toys|           51|Fisher-Price|   1.5|     South Cynthia|\n",
            "|           Marbles| 178.2|   Only order think.|    Toys|           22| Nickelodeon|   1.1|  Lake Erinchester|\n",
            "|       Barbie Doll| 30.57|Weight team relat...|    Toys|           65|Little Tikes|   3.7|          Erinland|\n",
            "|      Toy Dinosaur|260.14|Couple east sprin...|    Toys|           29|   DC Comics|   2.0|    Port Christina|\n",
            "|    Stuffed Animal|381.51|Mouth news look a...|    Toys|            1|      Mattel|   1.2|      East Bethany|\n",
            "|        Board Game|342.79|Speak phone respo...|    Toys|           45|Little Tikes|   2.7|          Markfort|\n",
            "+------------------+------+--------------------+--------+-------------+------------+------+------------------+\n",
            "only showing top 20 rows\n",
            "\n"
          ]
        }
      ]
    },
    {
      "cell_type": "code",
      "source": [
        "df_trimmed = df.select(trim(df[\"Category\"]).alias(\"trimmed_text\"))\n",
        "df_trimmed.show()"
      ],
      "metadata": {
        "colab": {
          "base_uri": "https://localhost:8080/"
        },
        "id": "ujvXlBjNmopT",
        "outputId": "02caa82d-e5d9-47bb-94a4-4d68f8b0e439"
      },
      "execution_count": 199,
      "outputs": [
        {
          "output_type": "stream",
          "name": "stdout",
          "text": [
            "+------------+\n",
            "|trimmed_text|\n",
            "+------------+\n",
            "|        Toys|\n",
            "|        Toys|\n",
            "|        Toys|\n",
            "|        Toys|\n",
            "|        Toys|\n",
            "|        Toys|\n",
            "|        Toys|\n",
            "|        Toys|\n",
            "|        Toys|\n",
            "|        Toys|\n",
            "|        Toys|\n",
            "|        Toys|\n",
            "|        Toys|\n",
            "|        Toys|\n",
            "|        Toys|\n",
            "|        Toys|\n",
            "|        Toys|\n",
            "|        Toys|\n",
            "|        Toys|\n",
            "|        Toys|\n",
            "+------------+\n",
            "only showing top 20 rows\n",
            "\n"
          ]
        }
      ]
    },
    {
      "cell_type": "code",
      "source": [
        "grouped_df = df.groupBy(\"Category\").count()\n",
        "grouped_df.show()"
      ],
      "metadata": {
        "colab": {
          "base_uri": "https://localhost:8080/"
        },
        "id": "ElDZlOxCoi1K",
        "outputId": "bc421c72-04c6-451e-e0e0-5aac64801ee8"
      },
      "execution_count": 205,
      "outputs": [
        {
          "output_type": "stream",
          "name": "stdout",
          "text": [
            "+-----------+-----+\n",
            "|   Category|count|\n",
            "+-----------+-----+\n",
            "|       NULL|    5|\n",
            "|Electronics|  148|\n",
            "|      Books|  150|\n",
            "|  Furniture|  149|\n",
            "|Accessories|  150|\n",
            "|   clothing|  300|\n",
            "|  cosmetics|  149|\n",
            "|       Toys|  149|\n",
            "+-----------+-----+\n",
            "\n"
          ]
        }
      ]
    },
    {
      "cell_type": "code",
      "source": [
        "joined_df = df1.join(df,\"Category\",\"left\")\n",
        "joined_df.show()"
      ],
      "metadata": {
        "colab": {
          "base_uri": "https://localhost:8080/",
          "height": 339
        },
        "id": "A33WWrfqp_9y",
        "outputId": "aa250dce-907f-4f35-e284-4ff382d25d20"
      },
      "execution_count": 213,
      "outputs": [
        {
          "output_type": "error",
          "ename": "AnalysisException",
          "evalue": "[UNRESOLVED_USING_COLUMN_FOR_JOIN] USING column `Category` cannot be resolved on the left side of the join. The left-side columns: [`customer_email`, `customer_id`, `customer_name`, `order_date`, `order_id`, `order_status`, `product_id`, `quantity`, `shipping_address`].",
          "traceback": [
            "\u001b[0;31m---------------------------------------------------------------------------\u001b[0m",
            "\u001b[0;31mAnalysisException\u001b[0m                         Traceback (most recent call last)",
            "\u001b[0;32m<ipython-input-213-1d74f04487cf>\u001b[0m in \u001b[0;36m<cell line: 1>\u001b[0;34m()\u001b[0m\n\u001b[0;32m----> 1\u001b[0;31m \u001b[0mjoined_df\u001b[0m \u001b[0;34m=\u001b[0m \u001b[0mdf1\u001b[0m\u001b[0;34m.\u001b[0m\u001b[0mjoin\u001b[0m\u001b[0;34m(\u001b[0m\u001b[0mdf\u001b[0m\u001b[0;34m,\u001b[0m\u001b[0;34m\"Category\"\u001b[0m\u001b[0;34m,\u001b[0m\u001b[0;34m\"left\"\u001b[0m\u001b[0;34m)\u001b[0m\u001b[0;34m\u001b[0m\u001b[0;34m\u001b[0m\u001b[0m\n\u001b[0m\u001b[1;32m      2\u001b[0m \u001b[0mjoined_df\u001b[0m\u001b[0;34m.\u001b[0m\u001b[0mshow\u001b[0m\u001b[0;34m(\u001b[0m\u001b[0;34m)\u001b[0m\u001b[0;34m\u001b[0m\u001b[0;34m\u001b[0m\u001b[0m\n",
            "\u001b[0;32m/usr/local/lib/python3.10/dist-packages/pyspark/sql/dataframe.py\u001b[0m in \u001b[0;36mjoin\u001b[0;34m(self, other, on, how)\u001b[0m\n\u001b[1;32m   2491\u001b[0m                 \u001b[0mon\u001b[0m \u001b[0;34m=\u001b[0m \u001b[0mself\u001b[0m\u001b[0;34m.\u001b[0m\u001b[0m_jseq\u001b[0m\u001b[0;34m(\u001b[0m\u001b[0;34m[\u001b[0m\u001b[0;34m]\u001b[0m\u001b[0;34m)\u001b[0m\u001b[0;34m\u001b[0m\u001b[0;34m\u001b[0m\u001b[0m\n\u001b[1;32m   2492\u001b[0m             \u001b[0;32massert\u001b[0m \u001b[0misinstance\u001b[0m\u001b[0;34m(\u001b[0m\u001b[0mhow\u001b[0m\u001b[0;34m,\u001b[0m \u001b[0mstr\u001b[0m\u001b[0;34m)\u001b[0m\u001b[0;34m,\u001b[0m \u001b[0;34m\"how should be a string\"\u001b[0m\u001b[0;34m\u001b[0m\u001b[0;34m\u001b[0m\u001b[0m\n\u001b[0;32m-> 2493\u001b[0;31m             \u001b[0mjdf\u001b[0m \u001b[0;34m=\u001b[0m \u001b[0mself\u001b[0m\u001b[0;34m.\u001b[0m\u001b[0m_jdf\u001b[0m\u001b[0;34m.\u001b[0m\u001b[0mjoin\u001b[0m\u001b[0;34m(\u001b[0m\u001b[0mother\u001b[0m\u001b[0;34m.\u001b[0m\u001b[0m_jdf\u001b[0m\u001b[0;34m,\u001b[0m \u001b[0mon\u001b[0m\u001b[0;34m,\u001b[0m \u001b[0mhow\u001b[0m\u001b[0;34m)\u001b[0m\u001b[0;34m\u001b[0m\u001b[0;34m\u001b[0m\u001b[0m\n\u001b[0m\u001b[1;32m   2494\u001b[0m         \u001b[0;32mreturn\u001b[0m \u001b[0mDataFrame\u001b[0m\u001b[0;34m(\u001b[0m\u001b[0mjdf\u001b[0m\u001b[0;34m,\u001b[0m \u001b[0mself\u001b[0m\u001b[0;34m.\u001b[0m\u001b[0msparkSession\u001b[0m\u001b[0;34m)\u001b[0m\u001b[0;34m\u001b[0m\u001b[0;34m\u001b[0m\u001b[0m\n\u001b[1;32m   2495\u001b[0m \u001b[0;34m\u001b[0m\u001b[0m\n",
            "\u001b[0;32m/usr/local/lib/python3.10/dist-packages/py4j/java_gateway.py\u001b[0m in \u001b[0;36m__call__\u001b[0;34m(self, *args)\u001b[0m\n\u001b[1;32m   1320\u001b[0m \u001b[0;34m\u001b[0m\u001b[0m\n\u001b[1;32m   1321\u001b[0m         \u001b[0manswer\u001b[0m \u001b[0;34m=\u001b[0m \u001b[0mself\u001b[0m\u001b[0;34m.\u001b[0m\u001b[0mgateway_client\u001b[0m\u001b[0;34m.\u001b[0m\u001b[0msend_command\u001b[0m\u001b[0;34m(\u001b[0m\u001b[0mcommand\u001b[0m\u001b[0;34m)\u001b[0m\u001b[0;34m\u001b[0m\u001b[0;34m\u001b[0m\u001b[0m\n\u001b[0;32m-> 1322\u001b[0;31m         return_value = get_return_value(\n\u001b[0m\u001b[1;32m   1323\u001b[0m             answer, self.gateway_client, self.target_id, self.name)\n\u001b[1;32m   1324\u001b[0m \u001b[0;34m\u001b[0m\u001b[0m\n",
            "\u001b[0;32m/usr/local/lib/python3.10/dist-packages/pyspark/errors/exceptions/captured.py\u001b[0m in \u001b[0;36mdeco\u001b[0;34m(*a, **kw)\u001b[0m\n\u001b[1;32m    183\u001b[0m                 \u001b[0;31m# Hide where the exception came from that shows a non-Pythonic\u001b[0m\u001b[0;34m\u001b[0m\u001b[0;34m\u001b[0m\u001b[0m\n\u001b[1;32m    184\u001b[0m                 \u001b[0;31m# JVM exception message.\u001b[0m\u001b[0;34m\u001b[0m\u001b[0;34m\u001b[0m\u001b[0m\n\u001b[0;32m--> 185\u001b[0;31m                 \u001b[0;32mraise\u001b[0m \u001b[0mconverted\u001b[0m \u001b[0;32mfrom\u001b[0m \u001b[0;32mNone\u001b[0m\u001b[0;34m\u001b[0m\u001b[0;34m\u001b[0m\u001b[0m\n\u001b[0m\u001b[1;32m    186\u001b[0m             \u001b[0;32melse\u001b[0m\u001b[0;34m:\u001b[0m\u001b[0;34m\u001b[0m\u001b[0;34m\u001b[0m\u001b[0m\n\u001b[1;32m    187\u001b[0m                 \u001b[0;32mraise\u001b[0m\u001b[0;34m\u001b[0m\u001b[0;34m\u001b[0m\u001b[0m\n",
            "\u001b[0;31mAnalysisException\u001b[0m: [UNRESOLVED_USING_COLUMN_FOR_JOIN] USING column `Category` cannot be resolved on the left side of the join. The left-side columns: [`customer_email`, `customer_id`, `customer_name`, `order_date`, `order_id`, `order_status`, `product_id`, `quantity`, `shipping_address`]."
          ]
        }
      ]
    },
    {
      "cell_type": "code",
      "source": [],
      "metadata": {
        "id": "PKxBN7e0qItg"
      },
      "execution_count": null,
      "outputs": []
    }
  ],
  "metadata": {
    "colab": {
      "name": "Welcome To Colab",
      "provenance": [],
      "include_colab_link": true
    },
    "kernelspec": {
      "display_name": "Python 3",
      "name": "python3"
    }
  },
  "nbformat": 4,
  "nbformat_minor": 0
}