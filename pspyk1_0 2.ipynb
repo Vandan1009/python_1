{
  "nbformat": 4,
  "nbformat_minor": 0,
  "metadata": {
    "colab": {
      "provenance": []
    },
    "kernelspec": {
      "name": "python3",
      "display_name": "Python 3"
    },
    "language_info": {
      "name": "python"
    }
  },
  "cells": [
    {
      "cell_type": "markdown",
      "source": [
        "#PySpark Practice Notebook"
      ],
      "metadata": {
        "id": "W6NeVZKBJR5G"
      }
    },
    {
      "cell_type": "code",
      "source": [
        "#Source Data\n",
        "#Create a csv file for the following data\n",
        "product_id,product,country,sales\n",
        "1,Product A,USA,100\n",
        "2,Product B,USA,80\n",
        "3,Product C,USA,30\n",
        "1,Product A,Canada,60\n",
        "2,Product B,Canada,40\n",
        "4,Product D,UK,50\n",
        "5,Product E,UK,20\n",
        "1,Product A,Germany,70\n",
        "3,Product C,Germany,90\n",
        "4,Product D,Germany,40"
      ],
      "metadata": {
        "id": "PQ1dB4lsJRQZ"
      },
      "execution_count": null,
      "outputs": []
    },
    {
      "cell_type": "code",
      "execution_count": null,
      "metadata": {
        "id": "z3H-jZd_I0xr"
      },
      "outputs": [],
      "source": [
        "#Import Pyspark & other necessary functions\n"
      ]
    },
    {
      "cell_type": "code",
      "source": [
        "#Create SparkSession for app \"Sales Data Analysis\"\n"
      ],
      "metadata": {
        "id": "ZFPi1eqMKFF7"
      },
      "execution_count": null,
      "outputs": []
    },
    {
      "cell_type": "code",
      "source": [
        "#Create a pyspark DataFrame from the csv file on local storage\n"
      ],
      "metadata": {
        "id": "kLiq1rcAJiV5"
      },
      "execution_count": null,
      "outputs": []
    },
    {
      "cell_type": "code",
      "source": [
        "#Verify schema for the newly created file\n"
      ],
      "metadata": {
        "id": "_fQfbu4_JiYf"
      },
      "execution_count": null,
      "outputs": []
    },
    {
      "cell_type": "code",
      "source": [
        "#Display all entries for country \"Germany\"\n"
      ],
      "metadata": {
        "id": "U4k8qR1zJia2"
      },
      "execution_count": null,
      "outputs": []
    },
    {
      "cell_type": "code",
      "source": [
        "#Find the total number of products\n"
      ],
      "metadata": {
        "id": "e5PRmHMuJ47W"
      },
      "execution_count": null,
      "outputs": []
    },
    {
      "cell_type": "code",
      "source": [
        "#Find top 3 products\n"
      ],
      "metadata": {
        "id": "fFz6bN_dJ49q"
      },
      "execution_count": null,
      "outputs": []
    },
    {
      "cell_type": "code",
      "source": [
        "#Calculate total sales\n"
      ],
      "metadata": {
        "id": "j4vyUsi2J5AR"
      },
      "execution_count": null,
      "outputs": []
    },
    {
      "cell_type": "code",
      "source": [
        "#Find the market share of all products individually\n"
      ],
      "metadata": {
        "id": "WTxjxvceJ5Ct"
      },
      "execution_count": null,
      "outputs": []
    }
  ]
}