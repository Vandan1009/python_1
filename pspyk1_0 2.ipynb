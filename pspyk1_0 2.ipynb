{
  "nbformat": 4,
  "nbformat_minor": 0,
  "metadata": {
    "colab": {
      "provenance": [],
      "include_colab_link": true
    },
    "kernelspec": {
      "name": "python3",
      "display_name": "Python 3"
    },
    "language_info": {
      "name": "python"
    }
  },
  "cells": [
    {
      "cell_type": "markdown",
      "metadata": {
        "id": "view-in-github",
        "colab_type": "text"
      },
      "source": [
        "<a href=\"https://colab.research.google.com/github/Vandan1009/python_1/blob/main/pspyk1_0%202.ipynb\" target=\"_parent\"><img src=\"https://colab.research.google.com/assets/colab-badge.svg\" alt=\"Open In Colab\"/></a>"
      ]
    },
    {
      "cell_type": "markdown",
      "source": [
        "#PySpark Practice Notebook"
      ],
      "metadata": {
        "id": "W6NeVZKBJR5G"
      }
    },
    {
      "cell_type": "code",
      "source": [
        "#Source Data\n",
        "#Create a csv file for the following data\n",
        "product_id,product,country,sales\n",
        "1,Product A,USA,100\n",
        "2,Product B,USA,80\n",
        "3,Product C,USA,30\n",
        "1,Product A,Canada,60\n",
        "2,Product B,Canada,40\n",
        "4,Product D,UK,50\n",
        "5,Product E,UK,20\n",
        "1,Product A,Germany,70\n",
        "3,Product C,Germany,90\n",
        "4,Product D,Germany,40"
      ],
      "metadata": {
        "id": "PQ1dB4lsJRQZ"
      },
      "execution_count": null,
      "outputs": []
    },
    {
      "cell_type": "code",
      "execution_count": 6,
      "metadata": {
        "id": "z3H-jZd_I0xr",
        "colab": {
          "base_uri": "https://localhost:8080/"
        },
        "outputId": "ae3d458e-77fb-4258-b237-1114218ceea6"
      },
      "outputs": [
        {
          "output_type": "stream",
          "name": "stdout",
          "text": [
            "Collecting pyspark\n",
            "  Downloading pyspark-3.5.1.tar.gz (317.0 MB)\n",
            "\u001b[2K     \u001b[90m━━━━━━━━━━━━━━━━━━━━━━━━━━━━━━━━━━━━━━━━\u001b[0m \u001b[32m317.0/317.0 MB\u001b[0m \u001b[31m3.8 MB/s\u001b[0m eta \u001b[36m0:00:00\u001b[0m\n",
            "\u001b[?25h  Preparing metadata (setup.py) ... \u001b[?25l\u001b[?25hdone\n",
            "Requirement already satisfied: py4j==0.10.9.7 in /usr/local/lib/python3.10/dist-packages (from pyspark) (0.10.9.7)\n",
            "Building wheels for collected packages: pyspark\n",
            "  Building wheel for pyspark (setup.py) ... \u001b[?25l\u001b[?25hdone\n",
            "  Created wheel for pyspark: filename=pyspark-3.5.1-py2.py3-none-any.whl size=317488490 sha256=1d94491dae9684f2d3e189a6a76978c21101558f6d21002da977661fe062204a\n",
            "  Stored in directory: /root/.cache/pip/wheels/80/1d/60/2c256ed38dddce2fdd93be545214a63e02fbd8d74fb0b7f3a6\n",
            "Successfully built pyspark\n",
            "Installing collected packages: pyspark\n",
            "Successfully installed pyspark-3.5.1\n"
          ]
        }
      ],
      "source": [
        "!pip install pyspark"
      ]
    },
    {
      "cell_type": "code",
      "source": [
        "from pyspark.sql import SparkSession"
      ],
      "metadata": {
        "id": "ppn5x0u9lqZt"
      },
      "execution_count": 7,
      "outputs": []
    },
    {
      "cell_type": "code",
      "source": [
        "#Create SparkSession for app \"Sales Data Analysis\"\n",
        "\n",
        "spark=SparkSession.builder.appName(\"notebook1\").getOrCreate()"
      ],
      "metadata": {
        "id": "ZFPi1eqMKFF7"
      },
      "execution_count": 8,
      "outputs": []
    },
    {
      "cell_type": "code",
      "source": [
        "#Create a pyspark DataFrame from the csv file on local storage\n",
        "%%writefile product.csv\n",
        "product_id,product,country,sales\n",
        "1,Product A,USA,100\n",
        "2,Product B,USA,80\n",
        "3,Product C,USA,30\n",
        "1,Product A,Canada,60\n",
        "2,Product B,Canada,40\n",
        "4,Product D,UK,50\n",
        "5,Product E,UK,20\n",
        "1,Product A,Germany,70\n",
        "3,Product C,Germany,90\n",
        "4,Product D,Germany,40"
      ],
      "metadata": {
        "id": "kLiq1rcAJiV5",
        "colab": {
          "base_uri": "https://localhost:8080/"
        },
        "outputId": "1ad24e48-2746-42cf-ae76-0bbc159aaba6"
      },
      "execution_count": 91,
      "outputs": [
        {
          "output_type": "stream",
          "name": "stdout",
          "text": [
            "Overwriting product.csv\n"
          ]
        }
      ]
    },
    {
      "cell_type": "code",
      "source": [
        "df=spark.read.option('header','true').csv('product.csv')"
      ],
      "metadata": {
        "id": "fjCwL0y1nqHF"
      },
      "execution_count": 92,
      "outputs": []
    },
    {
      "cell_type": "code",
      "source": [
        "#Verify schema for the newly created file\n",
        "df.show()"
      ],
      "metadata": {
        "id": "_fQfbu4_JiYf",
        "colab": {
          "base_uri": "https://localhost:8080/"
        },
        "outputId": "aa886dbc-f7b3-415d-a1f5-d956befb55af"
      },
      "execution_count": 93,
      "outputs": [
        {
          "output_type": "stream",
          "name": "stdout",
          "text": [
            "+----------+---------+-------+-----+\n",
            "|product_id|  product|country|sales|\n",
            "+----------+---------+-------+-----+\n",
            "|         1|Product A|    USA|  100|\n",
            "|         2|Product B|    USA|   80|\n",
            "|         3|Product C|    USA|   30|\n",
            "|         1|Product A| Canada|   60|\n",
            "|         2|Product B| Canada|   40|\n",
            "|         4|Product D|     UK|   50|\n",
            "|         5|Product E|     UK|   20|\n",
            "|         1|Product A|Germany|   70|\n",
            "|         3|Product C|Germany|   90|\n",
            "|         4|Product D|Germany|   40|\n",
            "+----------+---------+-------+-----+\n",
            "\n"
          ]
        }
      ]
    },
    {
      "cell_type": "code",
      "source": [
        "from pyspark.sql.functions import col,sum,max"
      ],
      "metadata": {
        "id": "lWoVpCjDNQVc"
      },
      "execution_count": 65,
      "outputs": []
    },
    {
      "cell_type": "code",
      "source": [
        "#Display all entries for country \"Germany\"\n",
        "#df.filter(df.country=='Germany').show()\n",
        "#df.filter(df.country=='Germany').show()\n",
        "#df.filter((df.country)=='Germany').show()\n",
        "df1=df.filter(df['country']=='Germany').show()"
      ],
      "metadata": {
        "id": "U4k8qR1zJia2",
        "colab": {
          "base_uri": "https://localhost:8080/"
        },
        "outputId": "fc3ec6fa-cec2-4ae3-e3ed-cc6d60bb63f8"
      },
      "execution_count": 94,
      "outputs": [
        {
          "output_type": "stream",
          "name": "stdout",
          "text": [
            "+----------+---------+-------+-----+\n",
            "|product_id|  product|country|sales|\n",
            "+----------+---------+-------+-----+\n",
            "|         1|Product A|Germany|   70|\n",
            "|         3|Product C|Germany|   90|\n",
            "|         4|Product D|Germany|   40|\n",
            "+----------+---------+-------+-----+\n",
            "\n"
          ]
        }
      ]
    },
    {
      "cell_type": "code",
      "source": [
        "#Find the total number of products\n",
        "# df1=df.groupBy('product').count()\n",
        "# df1.show()\n",
        "df.select('product_id').distinct().count()"
      ],
      "metadata": {
        "id": "e5PRmHMuJ47W",
        "colab": {
          "base_uri": "https://localhost:8080/"
        },
        "outputId": "10d68953-837d-4fe8-8338-1808850120b7"
      },
      "execution_count": 101,
      "outputs": [
        {
          "output_type": "execute_result",
          "data": {
            "text/plain": [
              "5"
            ]
          },
          "metadata": {},
          "execution_count": 101
        }
      ]
    },
    {
      "cell_type": "code",
      "source": [
        "#Find top 3 products\n",
        "#df.select('sales').agg({'sales':'max'}).limit(3).show()\n",
        "df.sort('sales',ascending=False).limit(3).show()"
      ],
      "metadata": {
        "id": "fFz6bN_dJ49q",
        "colab": {
          "base_uri": "https://localhost:8080/"
        },
        "outputId": "3c376f0b-dd9f-4a44-9685-1d172269d73f"
      },
      "execution_count": 106,
      "outputs": [
        {
          "output_type": "stream",
          "name": "stdout",
          "text": [
            "+----------+---------+-------+-----+\n",
            "|product_id|  product|country|sales|\n",
            "+----------+---------+-------+-----+\n",
            "|         3|Product C|Germany|   90|\n",
            "|         2|Product B|    USA|   80|\n",
            "|         1|Product A|Germany|   70|\n",
            "+----------+---------+-------+-----+\n",
            "\n"
          ]
        }
      ]
    },
    {
      "cell_type": "code",
      "source": [
        "#Calculate total sales\n",
        "df.select('sales').agg({'sales':'sum'}).show()"
      ],
      "metadata": {
        "id": "j4vyUsi2J5AR",
        "colab": {
          "base_uri": "https://localhost:8080/"
        },
        "outputId": "082c4f53-d817-489f-9d1c-b025dc93ee4a"
      },
      "execution_count": 108,
      "outputs": [
        {
          "output_type": "stream",
          "name": "stdout",
          "text": [
            "+----------+\n",
            "|sum(sales)|\n",
            "+----------+\n",
            "|     580.0|\n",
            "+----------+\n",
            "\n"
          ]
        }
      ]
    },
    {
      "cell_type": "code",
      "source": [
        "#Find the market share of all products individually\n"
      ],
      "metadata": {
        "id": "WTxjxvceJ5Ct"
      },
      "execution_count": null,
      "outputs": []
    }
  ]
}