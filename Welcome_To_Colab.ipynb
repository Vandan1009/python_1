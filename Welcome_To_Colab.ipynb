{
  "cells": [
    {
      "cell_type": "markdown",
      "metadata": {
        "id": "view-in-github",
        "colab_type": "text"
      },
      "source": [
        "<a href=\"https://colab.research.google.com/github/Vandan1009/python_1/blob/main/Welcome_To_Colab.ipynb\" target=\"_parent\"><img src=\"https://colab.research.google.com/assets/colab-badge.svg\" alt=\"Open In Colab\"/></a>"
      ]
    },
    {
      "cell_type": "code",
      "source": [
        "!pip install pyspark"
      ],
      "metadata": {
        "id": "kuJ2CAJk7Ps3",
        "outputId": "23ddb0bc-c0d7-4c9a-a818-32cf72254305",
        "colab": {
          "base_uri": "https://localhost:8080/"
        }
      },
      "execution_count": 87,
      "outputs": [
        {
          "output_type": "stream",
          "name": "stdout",
          "text": [
            "Requirement already satisfied: pyspark in /usr/local/lib/python3.10/dist-packages (3.5.2)\n",
            "Requirement already satisfied: py4j==0.10.9.7 in /usr/local/lib/python3.10/dist-packages (from pyspark) (0.10.9.7)\n"
          ]
        }
      ]
    },
    {
      "cell_type": "code",
      "source": [
        "from pyspark.sql import SparkSession"
      ],
      "metadata": {
        "id": "nz6prYsE7SWR"
      },
      "execution_count": 88,
      "outputs": []
    },
    {
      "cell_type": "code",
      "source": [
        "spark=SparkSession.builder.appName('project_lti').getOrCreate()"
      ],
      "metadata": {
        "id": "8QjwCf_T7sFi"
      },
      "execution_count": 89,
      "outputs": []
    },
    {
      "cell_type": "code",
      "source": [
        "spark"
      ],
      "metadata": {
        "id": "a5-nRZoX712d",
        "outputId": "55bf8336-9925-40ed-c25d-e35cb81ad6cf",
        "colab": {
          "base_uri": "https://localhost:8080/",
          "height": 219
        }
      },
      "execution_count": 90,
      "outputs": [
        {
          "output_type": "execute_result",
          "data": {
            "text/plain": [
              "<pyspark.sql.session.SparkSession at 0x799fc8052320>"
            ],
            "text/html": [
              "\n",
              "            <div>\n",
              "                <p><b>SparkSession - in-memory</b></p>\n",
              "                \n",
              "        <div>\n",
              "            <p><b>SparkContext</b></p>\n",
              "\n",
              "            <p><a href=\"http://07c7e02fc82e:4040\">Spark UI</a></p>\n",
              "\n",
              "            <dl>\n",
              "              <dt>Version</dt>\n",
              "                <dd><code>v3.5.2</code></dd>\n",
              "              <dt>Master</dt>\n",
              "                <dd><code>local[*]</code></dd>\n",
              "              <dt>AppName</dt>\n",
              "                <dd><code>project_lti</code></dd>\n",
              "            </dl>\n",
              "        </div>\n",
              "        \n",
              "            </div>\n",
              "        "
            ]
          },
          "metadata": {},
          "execution_count": 90
        }
      ]
    },
    {
      "cell_type": "code",
      "source": [
        "df=spark.read.csv('/content/final_data.csv',header=True,inferSchema=True)"
      ],
      "metadata": {
        "id": "wMalC-Ex76eG"
      },
      "execution_count": 99,
      "outputs": []
    },
    {
      "cell_type": "code",
      "source": [
        "#df1=spark.read.csv('/content/my_orders (1).csv',header=True,inferSchema=True)"
      ],
      "metadata": {
        "id": "26NkAJr39GuD"
      },
      "execution_count": 6,
      "outputs": []
    },
    {
      "cell_type": "code",
      "source": [
        "new=df\n",
        "new.createOrReplaceTempView('products')"
      ],
      "metadata": {
        "id": "K8euRfDF9TD9"
      },
      "execution_count": 100,
      "outputs": []
    },
    {
      "cell_type": "code",
      "source": [
        "# new1=df1\n",
        "# new1.createOrReplaceTempView('orders')"
      ],
      "metadata": {
        "id": "_QPKBk1I9lPg"
      },
      "execution_count": 8,
      "outputs": []
    },
    {
      "cell_type": "code",
      "source": [
        "new.show()"
      ],
      "metadata": {
        "id": "gUvTP3mb9qCV",
        "outputId": "4eab2942-a2f8-40f2-b89f-c80ededc3424",
        "colab": {
          "base_uri": "https://localhost:8080/"
        }
      },
      "execution_count": 101,
      "outputs": [
        {
          "output_type": "stream",
          "name": "stdout",
          "text": [
            "+------------------+------+--------------------+--------+-------------+------------+------+------------------+\n",
            "|      product_name| Price|         Description|Category|StockQuantity|       Brand|Rating|         Warehouse|\n",
            "+------------------+------+--------------------+--------+-------------+------------+------+------------------+\n",
            "|         Card Game|363.33|Whom those term b...|    Toys|           95|        Nerf|   2.6|        Emilyburgh|\n",
            "|          Toy Boat|  79.6|Listen economy ge...|    Toys|           34|      Barbie|   2.8|  North Jamesmouth|\n",
            "|     Action Figure|432.64|Lead back her local.|    Toys|            8|        Nerf|   4.6|  West Joshuahaven|\n",
            "|      Rubik's Cube|215.39|Watch growth inve...|    Toys|         NULL|      Barbie|   3.5|   Mckenziechester|\n",
            "|       Barbie Doll|  NULL|                NULL|    Toys|           38|   DC Comics|   1.2|     Catherineside|\n",
            "|    Stuffed Animal|220.09|Computer little f...|    Toys|           76|      Chicco|   2.3|         Bryanport|\n",
            "|Remote Control Car|460.26|Seem expect they ...|    Toys|           36|      Hasbro|   2.8|   East Brianmouth|\n",
            "|            Puzzle|  5.75|Box seven never t...|    Toys|           37|        NULL|   0.0|        Traceytown|\n",
            "|              NULL|439.53|For family state ...|    Toys|           55|  Hot Wheels|   3.7|       Courtneyton|\n",
            "|     Action Figure| 363.7|Race drive contro...|    Toys|           99|Transformers|   2.1|North Hollyborough|\n",
            "|         Toy Train|254.84|Home card phone m...|    Toys|           88|Fisher-Price|   1.7|    West Lindafort|\n",
            "|        Toy Guitar| 58.86|Close gas large e...|    Toys|           22|  Paw Patrol|   1.7|       South Linda|\n",
            "|Remote Control Car|224.88|Appear standard l...|    Toys|            6|  Hot Wheels|   1.1|         Scottberg|\n",
            "|           Marbles| 406.9|Tend piece accoun...|    Toys|           68|       VTech|   0.0|       Stephenberg|\n",
            "|   Building Blocks|232.24|Site executive on...|    Toys|           51|Fisher-Price|   1.5|     South Cynthia|\n",
            "|           Marbles| 178.2|   Only order think.|    Toys|           22| Nickelodeon|   1.1|  Lake Erinchester|\n",
            "|       Barbie Doll| 30.57|Weight team relat...|    Toys|           65|Little Tikes|   3.7|          Erinland|\n",
            "|      Toy Dinosaur|260.14|Couple east sprin...|    Toys|           29|   DC Comics|   2.0|    Port Christina|\n",
            "|    Stuffed Animal|381.51|Mouth news look a...|    Toys|            1|      Mattel|   1.2|      East Bethany|\n",
            "|        Board Game|342.79|Speak phone respo...|    Toys|           45|Little Tikes|   2.7|          Markfort|\n",
            "+------------------+------+--------------------+--------+-------------+------------+------+------------------+\n",
            "only showing top 20 rows\n",
            "\n"
          ]
        }
      ]
    },
    {
      "cell_type": "code",
      "source": [
        "!pip install faker"
      ],
      "metadata": {
        "id": "2UatedA7BWZs",
        "outputId": "739014b9-48c7-4f29-fcb2-409875b2cde3",
        "colab": {
          "base_uri": "https://localhost:8080/"
        }
      },
      "execution_count": 56,
      "outputs": [
        {
          "output_type": "stream",
          "name": "stdout",
          "text": [
            "Requirement already satisfied: faker in /usr/local/lib/python3.10/dist-packages (27.0.0)\n",
            "Requirement already satisfied: python-dateutil>=2.4 in /usr/local/lib/python3.10/dist-packages (from faker) (2.8.2)\n",
            "Requirement already satisfied: six>=1.5 in /usr/local/lib/python3.10/dist-packages (from python-dateutil>=2.4->faker) (1.16.0)\n"
          ]
        }
      ]
    },
    {
      "cell_type": "code",
      "source": [
        "import pandas as pd\n",
        "from faker import Faker\n",
        "import random\n",
        "from pyspark.sql import SparkSession\n",
        "\n",
        "# Initialize Faker\n",
        "fake = Faker()\n",
        "\n",
        "# Generate order details\n",
        "def generate_order_details(num_orders):\n",
        "    order_data = {\n",
        "        \"order_id\": [],\n",
        "        \"customer_id\": [],\n",
        "        \"customer_name\": [],\n",
        "        \"product_id\": [],\n",
        "        \"customer_email\": [],\n",
        "        \"quantity\": [],\n",
        "        \"order_date\": [],\n",
        "        \"order_status\": [],\n",
        "        \"shipping_address\": []\n",
        "    }\n",
        "\n",
        "    for _ in range(num_orders):\n",
        "        order_data[\"order_id\"].append(random.randint(1, 100))\n",
        "        order_data[\"customer_id\"].append(random.randint(1, 100))\n",
        "        order_data[\"customer_name\"].append(fake.name())\n",
        "        order_data[\"product_id\"].append(random.randint(1, 100))\n",
        "        order_data[\"customer_email\"].append(fake.email())\n",
        "        order_data[\"quantity\"].append(random.randint(1, 10))\n",
        "        order_data[\"order_date\"].append(fake.date_this_year())\n",
        "        order_data[\"order_status\"].append(random.choice([\"Pending\", \"Shipped\", \"Delivered\", \"Cancelled\"]))\n",
        "        order_data[\"shipping_address\"].append(fake.address().replace(\"\\n\", \", \"))\n",
        "\n",
        "    return pd.DataFrame(order_data)\n",
        "\n",
        "# Generate a DataFrame with 10 orders\n",
        "df_orders = generate_order_details(12000)\n",
        "print(df_orders)\n",
        "\n",
        "# Initialize Spark session\n",
        "spark = SparkSession.builder.appName(\"OrdersApp\").getOrCreate()\n",
        "\n",
        "# Convert pandas DataFrame to PySpark DataFrame\n",
        "spark_df_orders = spark.createDataFrame(df_orders)\n",
        "\n",
        "# Create a temporary view\n",
        "spark_df_orders.createOrReplaceTempView('orders_table')\n",
        "\n",
        "# Verify the temporary view creation\n",
        "spark.sql(\"SELECT * FROM orders_table\").show()\n",
        "\n",
        "df_orders.to_csv('order_details_new.csv', index=False)\n"
      ],
      "metadata": {
        "id": "6Ua-Gg46Kff_",
        "outputId": "d1968d03-09f2-4dd9-c09e-8079585a05d2",
        "colab": {
          "base_uri": "https://localhost:8080/"
        }
      },
      "execution_count": 68,
      "outputs": [
        {
          "output_type": "stream",
          "name": "stdout",
          "text": [
            "       order_id  customer_id      customer_name  product_id  \\\n",
            "0            37           20     Kristy Flowers          14   \n",
            "1            80           38      Keith Sanchez           6   \n",
            "2            52           70        Frank Myers          30   \n",
            "3            39           38     Samantha Gomez          26   \n",
            "4            87           79      Brian Blevins          20   \n",
            "...         ...          ...                ...         ...   \n",
            "11995         5           62      Ashley Bowers          21   \n",
            "11996        40           31     Michael Hudson          63   \n",
            "11997        55            5      Vanessa Terry          59   \n",
            "11998        80           79  Christopher Irwin          53   \n",
            "11999        87           80       Phillip Tate          49   \n",
            "\n",
            "                   customer_email  quantity  order_date order_status  \\\n",
            "0            pamela11@example.com         6  2024-07-06      Pending   \n",
            "1            lisaholt@example.org         6  2024-08-10      Shipped   \n",
            "2              nyoung@example.net         4  2024-01-17      Shipped   \n",
            "3      suarezjennifer@example.net         4  2024-04-17      Shipped   \n",
            "4          carterluis@example.org         4  2024-01-08    Cancelled   \n",
            "...                           ...       ...         ...          ...   \n",
            "11995      benjamin59@example.org         9  2024-08-09      Shipped   \n",
            "11996        robert44@example.net         7  2024-06-18      Shipped   \n",
            "11997         zlandry@example.org         1  2024-08-02    Delivered   \n",
            "11998        groberts@example.com         2  2024-06-04      Pending   \n",
            "11999    josephwaters@example.org        10  2024-04-17    Delivered   \n",
            "\n",
            "                                        shipping_address  \n",
            "0      6479 Thomas Trail Suite 796, Cooleyburgh, OR 5...  \n",
            "1       07201 Berry Passage, Lake Courtneyview, PA 27759  \n",
            "2                       Unit 8916 Box 2621, DPO AA 42440  \n",
            "3              8091 Sellers Ferry, Porterburgh, AS 22700  \n",
            "4         47674 Gabriela Grove, Stephaniehaven, KY 50529  \n",
            "...                                                  ...  \n",
            "11995   45455 Rios Gardens, South Carolynhaven, NH 90667  \n",
            "11996           4310 Greene Square, Mariahport, MD 48777  \n",
            "11997  15526 Guerrero Hill Suite 469, New Jennifer, S...  \n",
            "11998   85719 Rice Highway Apt. 345, Jeffville, SD 49164  \n",
            "11999             777 Kenneth Row, South Haley, CA 74433  \n",
            "\n",
            "[12000 rows x 9 columns]\n",
            "+--------+-----------+------------------+----------+--------------------+--------+----------+------------+--------------------+\n",
            "|order_id|customer_id|     customer_name|product_id|      customer_email|quantity|order_date|order_status|    shipping_address|\n",
            "+--------+-----------+------------------+----------+--------------------+--------+----------+------------+--------------------+\n",
            "|      37|         20|    Kristy Flowers|        14|pamela11@example.com|       6|2024-07-06|     Pending|6479 Thomas Trail...|\n",
            "|      80|         38|     Keith Sanchez|         6|lisaholt@example.org|       6|2024-08-10|     Shipped|07201 Berry Passa...|\n",
            "|      52|         70|       Frank Myers|        30|  nyoung@example.net|       4|2024-01-17|     Shipped|Unit 8916 Box 262...|\n",
            "|      39|         38|    Samantha Gomez|        26|suarezjennifer@ex...|       4|2024-04-17|     Shipped|8091 Sellers Ferr...|\n",
            "|      87|         79|     Brian Blevins|        20|carterluis@exampl...|       4|2024-01-08|   Cancelled|47674 Gabriela Gr...|\n",
            "|      76|         36|       Paul Brewer|        14|klineadrian@examp...|       9|2024-02-12|   Cancelled|808 Melanie Well ...|\n",
            "|      31|         96|  Shannon Espinoza|        65|qcontreras@exampl...|       9|2024-08-12|   Cancelled|734 Bowers Isle, ...|\n",
            "|      54|         66|      Samuel Brown|        58|xroberts@example.com|       5|2024-03-31|     Pending|9195 Ashley Squar...|\n",
            "|      89|         93|   Bianca Petersen|        12| zpowell@example.org|       1|2024-04-02|     Shipped|89414 Karen Villa...|\n",
            "|      86|         76|     Melissa Heath|        96|brandi58@example.net|       9|2024-01-26|     Pending|59804 Cole Row, E...|\n",
            "|      42|         34|     Jason Collins|        79|williamreilly@exa...|       1|2024-01-06|     Shipped|106 Murphy Camp, ...|\n",
            "|      98|         41|         Ryan Bell|        93|  zstone@example.net|       7|2024-04-13|     Pending|583 Richards Spur...|\n",
            "|      68|         48|Christine Guerrero|        61|  sean90@example.net|       1|2024-02-19|   Cancelled|405 Rojas Spurs, ...|\n",
            "|      95|         71|   Jamie Fernandez|        68|ffigueroa@example...|       6|2024-02-28|   Delivered|9411 Robert Branc...|\n",
            "|      95|         75|      Amanda Moody|        28|hornkimberly@exam...|       7|2024-03-14|     Pending|271 Traci Route, ...|\n",
            "|      73|         48|   Daryl Hernandez|        50|  amiles@example.org|       3|2024-01-29|     Shipped|5920 Kenneth Cany...|\n",
            "|      38|         59|     Derek Hartman|        49|fernandomarsh@exa...|       2|2024-06-13|   Cancelled|2221 Brian Orchar...|\n",
            "|       6|         65|    Daniel Padilla|        78| frank26@example.com|       2|2024-02-05|   Delivered|968 Diana Ridges,...|\n",
            "|       1|         40|      Amy Espinoza|        55|codyjimenez@examp...|      10|2024-05-23|   Cancelled|777 Danielle Junc...|\n",
            "|      17|         76|    Monica Montoya|         3|patriciapeck@exam...|       7|2024-03-01|   Delivered|9234 Harrington K...|\n",
            "+--------+-----------+------------------+----------+--------------------+--------+----------+------------+--------------------+\n",
            "only showing top 20 rows\n",
            "\n"
          ]
        }
      ]
    },
    {
      "cell_type": "code",
      "source": [
        "spark.sql('''SELECT * FROM products\n",
        "WHERE StockQuantity IS NULL;''').show()"
      ],
      "metadata": {
        "id": "8YDqQHbqgaGc",
        "outputId": "e1faa2e3-afac-4954-dd32-eaaef2a5b0fd",
        "colab": {
          "base_uri": "https://localhost:8080/"
        }
      },
      "execution_count": 102,
      "outputs": [
        {
          "output_type": "stream",
          "name": "stdout",
          "text": [
            "+-----------------+---------+--------------------+---------+-------------+------------+------+---------------+\n",
            "|     product_name|    Price|         Description| Category|StockQuantity|       Brand|Rating|      Warehouse|\n",
            "+-----------------+---------+--------------------+---------+-------------+------------+------+---------------+\n",
            "|     Rubik's Cube|   215.39|Watch growth inve...|     Toys|         NULL|      Barbie|   3.5|Mckenziechester|\n",
            "|Smart Thermostats|121022.32|His arm parent th...|     NULL|         NULL|   Panasonic|   4.2|    East Krista|\n",
            "|  Curling Mascara|   873.26|Identify force be...|cosmetics|         NULL|IT Cosmetics|   0.0|Port Robertberg|\n",
            "+-----------------+---------+--------------------+---------+-------------+------------+------+---------------+\n",
            "\n"
          ]
        }
      ]
    },
    {
      "cell_type": "code",
      "source": [
        "spark.sql('''SELECT * FROM products\n",
        "WHERE Description IS NULL;''').show()"
      ],
      "metadata": {
        "id": "uvWsrG-gobNm",
        "outputId": "cbfe1b06-788d-4766-b60d-912a43a81dc4",
        "colab": {
          "base_uri": "https://localhost:8080/"
        }
      },
      "execution_count": 103,
      "outputs": [
        {
          "output_type": "stream",
          "name": "stdout",
          "text": [
            "+-----------------+---------+-----------+-----------+-------------+-------------+------+--------------+\n",
            "|     product_name|    Price|Description|   Category|StockQuantity|        Brand|Rating|     Warehouse|\n",
            "+-----------------+---------+-----------+-----------+-------------+-------------+------+--------------+\n",
            "|      Barbie Doll|     NULL|       NULL|       Toys|           38|    DC Comics|   1.2| Catherineside|\n",
            "|         Toy Boat|   404.91|       NULL|       Toys|           64|         Brio|   4.2|  East Crystal|\n",
            "|          Tablets| 81797.63|       NULL|Electronics|            1|         Sony|   4.2|Rodriguezburgh|\n",
            "|   Smart Speakers| 93865.78|       NULL|Electronics|           85|        Bosch|   5.0| Fernandezland|\n",
            "|Portable Chargers|135980.21|       NULL|Electronics|            1|       Realme|   2.7|   Kruegerstad|\n",
            "|    Lip Nourisher|  4188.44|       NULL|  cosmetics|           67|    ColourPop|   1.1|     Brianbury|\n",
            "|        Bookshelf|   100.11|       NULL|  Furniture|           35|Karastan Rugs|   2.2|    Audreybury|\n",
            "+-----------------+---------+-----------+-----------+-------------+-------------+------+--------------+\n",
            "\n"
          ]
        }
      ]
    },
    {
      "cell_type": "code",
      "source": [
        "spark.sql('''SELECT *\n",
        "FROM products\n",
        "where product_name IS NULL\n",
        "OR Brand IS NULL\n",
        "''').show()"
      ],
      "metadata": {
        "id": "eM8mdoZLoXY0",
        "outputId": "10d2b3fe-ba65-46dd-c2a6-c601d82c8607",
        "colab": {
          "base_uri": "https://localhost:8080/"
        }
      },
      "execution_count": 104,
      "outputs": [
        {
          "output_type": "stream",
          "name": "stdout",
          "text": [
            "+------------------+--------+--------------------+-----------+-------------+----------+------+--------------------+\n",
            "|      product_name|   Price|         Description|   Category|StockQuantity|     Brand|Rating|           Warehouse|\n",
            "+------------------+--------+--------------------+-----------+-------------+----------+------+--------------------+\n",
            "|            Puzzle|    5.75|Box seven never t...|       Toys|           37|      NULL|   0.0|          Traceytown|\n",
            "|              NULL|  439.53|For family state ...|       Toys|           55|Hot Wheels|   3.7|         Courtneyton|\n",
            "|  Washing Machines|92415.02|Six here necessar...|Electronics|           87|      NULL|   2.6|      South Jennifer|\n",
            "|      Smart Lights|27785.67|Certainly fact fa...|Electronics|           74|      NULL|   3.2|        North Harold|\n",
            "|           Laptops|16071.46|Myself politics y...|Electronics|           60|      NULL|   2.8|        New Annabury|\n",
            "|         Eye Cream|  103.23|Perhaps into diff...|  cosmetics|            9|      NULL|   2.9|North Christinamouth|\n",
            "|    Eyelash Primer|  2370.6|Because economic ...|  cosmetics|           76|      NULL|   1.2|     West Kevinville|\n",
            "|        Lip Butter| 2214.86|Hotel history pai...|  cosmetics|            4|      NULL|   1.6|    Port Matthewberg|\n",
            "|    Lip Exfoliator|  662.74|Their heavy thoug...|  cosmetics|           84|      NULL|   1.2|            Johntown|\n",
            "|Eye Shadow Palette| 2451.14|Success get natur...|  cosmetics|           32|      NULL|   4.3|          Jamesville|\n",
            "|             Stool|   937.9|School high any t...|  Furniture|           72|      NULL|   3.0|          Angelafurt|\n",
            "+------------------+--------+--------------------+-----------+-------------+----------+------+--------------------+\n",
            "\n"
          ]
        }
      ]
    },
    {
      "cell_type": "code",
      "source": [
        "spark.sql('''SELECT AVG(Price) AS average_price\n",
        "FROM products;''').show()"
      ],
      "metadata": {
        "id": "pBVknIdwvp0l",
        "outputId": "8305f5ce-fd88-48b0-aca7-8947381bb4bb",
        "colab": {
          "base_uri": "https://localhost:8080/"
        }
      },
      "execution_count": 105,
      "outputs": [
        {
          "output_type": "stream",
          "name": "stdout",
          "text": [
            "+-----------------+\n",
            "|    average_price|\n",
            "+-----------------+\n",
            "|10665.89385582563|\n",
            "+-----------------+\n",
            "\n"
          ]
        }
      ]
    },
    {
      "cell_type": "code",
      "source": [
        "spark.sql('''SELECT ROUND(AVG(Price), 2) AS average_price\n",
        "FROM products;''').show()"
      ],
      "metadata": {
        "id": "HnqPjmsl43X3",
        "outputId": "9c8fa43d-5c8d-4972-88a5-d17e3d8d17d1",
        "colab": {
          "base_uri": "https://localhost:8080/"
        }
      },
      "execution_count": 106,
      "outputs": [
        {
          "output_type": "stream",
          "name": "stdout",
          "text": [
            "+-------------+\n",
            "|average_price|\n",
            "+-------------+\n",
            "|     10665.89|\n",
            "+-------------+\n",
            "\n"
          ]
        }
      ]
    },
    {
      "cell_type": "code",
      "source": [
        "spark.sql('''SELECT *\n",
        "FROM products\n",
        "WHERE Rating = 0;''').show()"
      ],
      "metadata": {
        "id": "jyKe1HUu6y4A",
        "outputId": "80938115-200c-4f6f-df43-9d010f318c7e",
        "colab": {
          "base_uri": "https://localhost:8080/"
        }
      },
      "execution_count": 121,
      "outputs": [
        {
          "output_type": "stream",
          "name": "stdout",
          "text": [
            "+-----------------+--------+--------------------+-----------+-------------+-----------------+------+---------------+\n",
            "|     product_name|   Price|         Description|   Category|StockQuantity|            Brand|Rating|      Warehouse|\n",
            "+-----------------+--------+--------------------+-----------+-------------+-----------------+------+---------------+\n",
            "|           Puzzle|    5.75|Box seven never t...|       Toys|           37|             NULL|   0.0|     Traceytown|\n",
            "|          Marbles|   406.9|Tend piece accoun...|       Toys|           68|            VTech|   0.0|    Stephenberg|\n",
            "|      Barbie Doll|  343.51|Reveal happen mou...|       Toys|            4|     Little Tikes|   0.0|     Michaelton|\n",
            "|Smart Thermostats|59572.88|Arm knowledge TV ...|Electronics|           18|           Xiaomi|   0.0|  West Johntown|\n",
            "|    Refrigerators| 18546.6|Heart make mainta...|Electronics|           82|           Google|   0.0|      Bruceberg|\n",
            "|       Lip Repair| 1296.45|White argue purpo...|  cosmetics|            9|Charlotte Tilbury|   0.0|    Kennethtown|\n",
            "|      Lip Plumper|  4363.2|Candidate use wor...|  cosmetics|           63|    MAC Cosmetics|   0.0|    Port Rachel|\n",
            "|  Curling Mascara|  873.26|Identify force be...|  cosmetics|         NULL|     IT Cosmetics|   0.0|Port Robertberg|\n",
            "|        Lip Gloss| 4328.51|Thousand continue...|  cosmetics|          100|      Urban Decay|   0.0|      Garzatown|\n",
            "+-----------------+--------+--------------------+-----------+-------------+-----------------+------+---------------+\n",
            "\n"
          ]
        }
      ]
    },
    {
      "cell_type": "code",
      "source": [
        "products_df = spark.read.format(\"csv\").option(\"header\", \"true\").load(\"path/to/products.csv\")"
      ],
      "metadata": {
        "id": "cUc--LLULrk3"
      },
      "execution_count": null,
      "outputs": []
    }
  ],
  "metadata": {
    "colab": {
      "name": "Welcome To Colab",
      "provenance": [],
      "include_colab_link": true
    },
    "kernelspec": {
      "display_name": "Python 3",
      "name": "python3"
    }
  },
  "nbformat": 4,
  "nbformat_minor": 0
}