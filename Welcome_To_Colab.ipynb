{
  "cells": [
    {
      "cell_type": "markdown",
      "metadata": {
        "id": "view-in-github",
        "colab_type": "text"
      },
      "source": [
        "<a href=\"https://colab.research.google.com/github/Vandan1009/python_1/blob/main/Welcome_To_Colab.ipynb\" target=\"_parent\"><img src=\"https://colab.research.google.com/assets/colab-badge.svg\" alt=\"Open In Colab\"/></a>"
      ]
    },
    {
      "cell_type": "code",
      "source": [
        "pip install pyspark"
      ],
      "metadata": {
        "colab": {
          "base_uri": "https://localhost:8080/"
        },
        "id": "rVYFq5E5fkB7",
        "outputId": "0417b381-1950-4276-b977-57c189666f29"
      },
      "execution_count": 76,
      "outputs": [
        {
          "output_type": "stream",
          "name": "stdout",
          "text": [
            "Requirement already satisfied: pyspark in /usr/local/lib/python3.10/dist-packages (3.5.1)\n",
            "Requirement already satisfied: py4j==0.10.9.7 in /usr/local/lib/python3.10/dist-packages (from pyspark) (0.10.9.7)\n"
          ]
        }
      ]
    },
    {
      "cell_type": "code",
      "source": [
        "from pyspark.sql import SparkSession"
      ],
      "metadata": {
        "id": "YfH8HGcifngC"
      },
      "execution_count": 150,
      "outputs": []
    },
    {
      "cell_type": "code",
      "source": [
        "%%writefile movies.csv\n",
        "movieId,movieName,year\n",
        "1,Parmanu,2018\n",
        "2,URI,2019\n",
        "3,rrr,2022\n",
        "4,Bahubali,2015\n",
        "5,tanhaji,2020"
      ],
      "metadata": {
        "colab": {
          "base_uri": "https://localhost:8080/"
        },
        "id": "bqIDPIbefqwv",
        "outputId": "d99e5c3b-8fe8-4651-dcfb-b94eeb22f323"
      },
      "execution_count": 114,
      "outputs": [
        {
          "output_type": "stream",
          "name": "stdout",
          "text": [
            "Overwriting movies.csv\n"
          ]
        }
      ]
    },
    {
      "cell_type": "code",
      "source": [
        "%%writefile reviews.csv\n",
        "movieId,movieInfo,reviews\n",
        "1,,435\n",
        "2,,492\n",
        "3,,444\n",
        "4,,880\n",
        "5,,722\n",
        "6,,888\n",
        "7,,220\n",
        "8,,350\n",
        "9,,619\n",
        "10,,226"
      ],
      "metadata": {
        "colab": {
          "base_uri": "https://localhost:8080/"
        },
        "id": "EfhRGwrMfupo",
        "outputId": "c2c113cf-e580-4391-a50d-20d6886f7298"
      },
      "execution_count": 115,
      "outputs": [
        {
          "output_type": "stream",
          "name": "stdout",
          "text": [
            "Overwriting reviews.csv\n"
          ]
        }
      ]
    },
    {
      "cell_type": "code",
      "source": [
        "mvd=spark.read.csv(\"/content/movies.csv\",header=True)\n",
        "rvd=spark.read.csv(\"/content/reviews.csv\",header=True)"
      ],
      "metadata": {
        "id": "gV8any6NfxZk"
      },
      "execution_count": 116,
      "outputs": []
    },
    {
      "cell_type": "code",
      "source": [
        "mvd.show()"
      ],
      "metadata": {
        "colab": {
          "base_uri": "https://localhost:8080/"
        },
        "id": "XLyuMpDgf01a",
        "outputId": "ddbb7d6a-c586-4cdd-8896-709c5f834da6"
      },
      "execution_count": 117,
      "outputs": [
        {
          "output_type": "stream",
          "name": "stdout",
          "text": [
            "+-------+---------+----+\n",
            "|movieId|movieName|year|\n",
            "+-------+---------+----+\n",
            "|      1|  Parmanu|2018|\n",
            "|      2|      URI|2019|\n",
            "|      3|      rrr|2022|\n",
            "|      4| Bahubali|2015|\n",
            "|      5|  tanhaji|2020|\n",
            "+-------+---------+----+\n",
            "\n"
          ]
        }
      ]
    },
    {
      "cell_type": "code",
      "source": [
        "rvd.show()"
      ],
      "metadata": {
        "colab": {
          "base_uri": "https://localhost:8080/"
        },
        "id": "eqMUDx8Hf5XE",
        "outputId": "62deabf3-5f1d-46ab-fc92-2d442151aa11"
      },
      "execution_count": 118,
      "outputs": [
        {
          "output_type": "stream",
          "name": "stdout",
          "text": [
            "+-------+---------+-------+\n",
            "|movieId|movieInfo|reviews|\n",
            "+-------+---------+-------+\n",
            "|      1|     NULL|    435|\n",
            "|      2|     NULL|    492|\n",
            "|      3|     NULL|    444|\n",
            "|      4|     NULL|    880|\n",
            "|      5|     NULL|    722|\n",
            "|      6|     NULL|    888|\n",
            "|      7|     NULL|    220|\n",
            "|      8|     NULL|    350|\n",
            "|      9|     NULL|    619|\n",
            "|     10|     NULL|    226|\n",
            "+-------+---------+-------+\n",
            "\n"
          ]
        }
      ]
    },
    {
      "cell_type": "code",
      "source": [
        "#Clean reviews dataframe on the basis of movies data available. Hint - try left semi join, inner join, right join for joins\n",
        "data=rvd.join(mvd,\"movieId\",\"right\")\n",
        "data.show()"
      ],
      "metadata": {
        "colab": {
          "base_uri": "https://localhost:8080/"
        },
        "id": "nFYb5qsef8ZK",
        "outputId": "94634db7-a69d-4cd0-9a87-d7cc42156e05"
      },
      "execution_count": 129,
      "outputs": [
        {
          "output_type": "stream",
          "name": "stdout",
          "text": [
            "+-------+---------+-------+---------+----+\n",
            "|movieId|movieInfo|reviews|movieName|year|\n",
            "+-------+---------+-------+---------+----+\n",
            "|      1|     NULL|    435|  Parmanu|2018|\n",
            "|      2|     NULL|    492|      URI|2019|\n",
            "|      3|     NULL|    444|      rrr|2022|\n",
            "|      4|     NULL|    880| Bahubali|2015|\n",
            "|      5|     NULL|    722|  tanhaji|2020|\n",
            "+-------+---------+-------+---------+----+\n",
            "\n"
          ]
        }
      ]
    },
    {
      "cell_type": "code",
      "source": [
        "from pyspark.sql.functions import col,concat_ws,exp,count"
      ],
      "metadata": {
        "id": "ZrIRtfBsf_Gg"
      },
      "execution_count": 159,
      "outputs": []
    },
    {
      "cell_type": "code",
      "source": [],
      "metadata": {
        "colab": {
          "base_uri": "https://localhost:8080/",
          "height": 141
        },
        "id": "ReGEsKXhk3dx",
        "outputId": "e987c0d1-ff1c-473b-b208-95d6826cc88b"
      },
      "execution_count": 110,
      "outputs": [
        {
          "output_type": "error",
          "ename": "AttributeError",
          "evalue": "'NoneType' object has no attribute 'show'",
          "traceback": [
            "\u001b[0;31m---------------------------------------------------------------------------\u001b[0m",
            "\u001b[0;31mAttributeError\u001b[0m                            Traceback (most recent call last)",
            "\u001b[0;32m<ipython-input-110-1f181bfde225>\u001b[0m in \u001b[0;36m<cell line: 1>\u001b[0;34m()\u001b[0m\n\u001b[0;32m----> 1\u001b[0;31m \u001b[0mdata\u001b[0m\u001b[0;34m.\u001b[0m\u001b[0mshow\u001b[0m\u001b[0;34m(\u001b[0m\u001b[0;34m)\u001b[0m\u001b[0;34m\u001b[0m\u001b[0;34m\u001b[0m\u001b[0m\n\u001b[0m",
            "\u001b[0;31mAttributeError\u001b[0m: 'NoneType' object has no attribute 'show'"
          ]
        }
      ]
    },
    {
      "cell_type": "code",
      "source": [
        "#Fill movieInfo Column by concating movieName & year column (output should be dataframe).  Hint - try expr method\n",
        "#mvd.withColumn(\"movieInfo\",concat_ws(\" \",\"movieName\",\"year\")).show()\n",
        "data.withColumn(\"movieInfo\",expr(\"movieName||','||year\")).show()\n"
      ],
      "metadata": {
        "colab": {
          "base_uri": "https://localhost:8080/"
        },
        "id": "MEWXNYK0gPMy",
        "outputId": "67b92f26-dfed-4253-ff3c-c900df63b5e3"
      },
      "execution_count": 130,
      "outputs": [
        {
          "output_type": "stream",
          "name": "stdout",
          "text": [
            "+-------+-------------+-------+---------+----+\n",
            "|movieId|    movieInfo|reviews|movieName|year|\n",
            "+-------+-------------+-------+---------+----+\n",
            "|      1| Parmanu,2018|    435|  Parmanu|2018|\n",
            "|      2|     URI,2019|    492|      URI|2019|\n",
            "|      3|     rrr,2022|    444|      rrr|2022|\n",
            "|      4|Bahubali,2015|    880| Bahubali|2015|\n",
            "|      5| tanhaji,2020|    722|  tanhaji|2020|\n",
            "+-------+-------------+-------+---------+----+\n",
            "\n"
          ]
        }
      ]
    },
    {
      "cell_type": "code",
      "source": [
        " #Find movie with max reviews (output should be string)\n",
        " data.groupby(\"movieName\").agg(max(\"reviews\")).first()[0]"
      ],
      "metadata": {
        "colab": {
          "base_uri": "https://localhost:8080/",
          "height": 35
        },
        "id": "_X3bZrnpgSO6",
        "outputId": "bd47cf97-27ea-4c31-cdf2-3bdd37c98bd1"
      },
      "execution_count": 133,
      "outputs": [
        {
          "output_type": "execute_result",
          "data": {
            "text/plain": [
              "'Bahubali'"
            ],
            "application/vnd.google.colaboratory.intrinsic+json": {
              "type": "string"
            }
          },
          "metadata": {},
          "execution_count": 133
        }
      ]
    },
    {
      "cell_type": "code",
      "source": [
        "data.show()"
      ],
      "metadata": {
        "colab": {
          "base_uri": "https://localhost:8080/"
        },
        "id": "k3UV15iElkH-",
        "outputId": "b4f0d0b0-450e-4856-e8fc-4ca2d3912867"
      },
      "execution_count": 127,
      "outputs": [
        {
          "output_type": "stream",
          "name": "stdout",
          "text": [
            "+-------+---------+-------+---------+----+\n",
            "|movieId|movieInfo|reviews|movieName|year|\n",
            "+-------+---------+-------+---------+----+\n",
            "|      1|     NULL|    435|  Parmanu|2018|\n",
            "|      2|     NULL|    492|      URI|2019|\n",
            "|      3|     NULL|    444|      rrr|2022|\n",
            "|      4|     NULL|    880| Bahubali|2015|\n",
            "|      5|     NULL|    722|  tanhaji|2020|\n",
            "+-------+---------+-------+---------+----+\n",
            "\n"
          ]
        }
      ]
    },
    {
      "cell_type": "code",
      "source": [
        "#4. Find total reviews (output should be int)\n",
        "data.select(count(\"reviews\")).collect()[0][0]"
      ],
      "metadata": {
        "colab": {
          "base_uri": "https://localhost:8080/"
        },
        "id": "9etDIVZ7jNEY",
        "outputId": "eab8a7af-e5a7-4660-aea2-204f5c44d3aa"
      },
      "execution_count": 142,
      "outputs": [
        {
          "output_type": "execute_result",
          "data": {
            "text/plain": [
              "5"
            ]
          },
          "metadata": {},
          "execution_count": 142
        }
      ]
    },
    {
      "cell_type": "code",
      "source": [
        "%%writefile moviesDF.csv\n",
        "movieId,movieName,year,fansReview,criticsReview\n",
        "1,Parmanu,2018,200,100\n",
        "2,URI,2019,300,200\n",
        "3,rrr,2022,300,200\n",
        "4,Bahubali,2015,500,400\n",
        "5,tanhaji,2020,600,500"
      ],
      "metadata": {
        "colab": {
          "base_uri": "https://localhost:8080/"
        },
        "id": "Lp3mBtWKm7XU",
        "outputId": "c26e9471-a4aa-4e6f-cf32-3c94a8011968"
      },
      "execution_count": 144,
      "outputs": [
        {
          "output_type": "stream",
          "name": "stdout",
          "text": [
            "Writing moviesDF.csv\n"
          ]
        }
      ]
    },
    {
      "cell_type": "code",
      "source": [
        "%%writefile genreDF.csv\n",
        "movieId,genre\n",
        "1,tech\n",
        "2,history\n",
        "2,action\n",
        "4,action\n",
        "3,action\n",
        "1,science\n",
        "4,fiction\n",
        "5,history\n",
        "5,action\n",
        "4,mass"
      ],
      "metadata": {
        "colab": {
          "base_uri": "https://localhost:8080/"
        },
        "id": "kaQz2iiar5CO",
        "outputId": "bc8a9a25-f249-4eee-9830-120d676f6ee2"
      },
      "execution_count": 146,
      "outputs": [
        {
          "output_type": "stream",
          "name": "stdout",
          "text": [
            "Overwriting genreDF.csv\n"
          ]
        }
      ]
    },
    {
      "cell_type": "code",
      "source": [
        "mvID=spark.read.csv(\"/content/moviesDF.csv\",header=True)\n",
        "ggID=spark.read.csv(\"/content/genreDF.csv\",header=True)"
      ],
      "metadata": {
        "id": "8RJjjla7sIQo"
      },
      "execution_count": 153,
      "outputs": []
    },
    {
      "cell_type": "code",
      "source": [
        "mvID.show()"
      ],
      "metadata": {
        "colab": {
          "base_uri": "https://localhost:8080/"
        },
        "id": "Uau2u6nBwjZx",
        "outputId": "b408b9ee-0c99-4d3f-b185-dbada8f3620c"
      },
      "execution_count": 154,
      "outputs": [
        {
          "output_type": "stream",
          "name": "stdout",
          "text": [
            "+-------+---------+----+----------+-------------+\n",
            "|movieId|movieName|year|fansReview|criticsReview|\n",
            "+-------+---------+----+----------+-------------+\n",
            "|      1|  Parmanu|2018|       200|          100|\n",
            "|      2|      URI|2019|       300|          200|\n",
            "|      3|      rrr|2022|       300|          200|\n",
            "|      4| Bahubali|2015|       500|          400|\n",
            "|      5|  tanhaji|2020|       600|          500|\n",
            "+-------+---------+----+----------+-------------+\n",
            "\n"
          ]
        }
      ]
    },
    {
      "cell_type": "code",
      "source": [
        "ggID.show()"
      ],
      "metadata": {
        "colab": {
          "base_uri": "https://localhost:8080/"
        },
        "id": "XF2FIdvbwjqs",
        "outputId": "bde1259e-047f-4c68-e22a-3b1518c5ba87"
      },
      "execution_count": 155,
      "outputs": [
        {
          "output_type": "stream",
          "name": "stdout",
          "text": [
            "+-------+-------+\n",
            "|movieId|  genre|\n",
            "+-------+-------+\n",
            "|      1|   tech|\n",
            "|      2|history|\n",
            "|      2| action|\n",
            "|      4| action|\n",
            "|      3| action|\n",
            "|      1|science|\n",
            "|      4|fiction|\n",
            "|      5|history|\n",
            "|      5| action|\n",
            "|      4|   mass|\n",
            "+-------+-------+\n",
            "\n"
          ]
        }
      ]
    },
    {
      "cell_type": "code",
      "source": [
        "#Find top movies by fansReview to criticsReview ratio. Hint - Add a column for same\n",
        "sg=mvID.withColumn(\"ratio\",col(\"fansReview\")/col(\"criticsReview\"))\n",
        "sg.sort(\"ratio\",ascending = False).first()[1]\n"
      ],
      "metadata": {
        "colab": {
          "base_uri": "https://localhost:8080/",
          "height": 35
        },
        "id": "jQyVR2datrW2",
        "outputId": "86d4a973-c2fe-4af1-c7db-24dcf70f2db3"
      },
      "execution_count": 172,
      "outputs": [
        {
          "output_type": "execute_result",
          "data": {
            "text/plain": [
              "'Parmanu'"
            ],
            "application/vnd.google.colaboratory.intrinsic+json": {
              "type": "string"
            }
          },
          "metadata": {},
          "execution_count": 172
        }
      ]
    },
    {
      "cell_type": "code",
      "source": [
        "#Order moviesDF by year to get latest movie\n",
        "mvID.sort(\"year\",ascending=False).first()[1]"
      ],
      "metadata": {
        "colab": {
          "base_uri": "https://localhost:8080/",
          "height": 35
        },
        "id": "JQ_i9oyMxnwS",
        "outputId": "a39d9021-42dd-4bcb-8059-b0ab5b703b9c"
      },
      "execution_count": 179,
      "outputs": [
        {
          "output_type": "execute_result",
          "data": {
            "text/plain": [
              "'rrr'"
            ],
            "application/vnd.google.colaboratory.intrinsic+json": {
              "type": "string"
            }
          },
          "metadata": {},
          "execution_count": 179
        }
      ]
    },
    {
      "cell_type": "code",
      "source": [
        "#Join dataframes on movieID & find most popular genre\n",
        "mvID.join(ggID,\"movieID\").groupBy(\"genre\").count().sort(\"count\",ascending=False).show(1)"
      ],
      "metadata": {
        "colab": {
          "base_uri": "https://localhost:8080/"
        },
        "id": "QYCcNU4-1VEQ",
        "outputId": "b6fbdf80-f4d4-47f6-ce2f-701d1b50279f"
      },
      "execution_count": 206,
      "outputs": [
        {
          "output_type": "stream",
          "name": "stdout",
          "text": [
            "+------+-----+\n",
            "| genre|count|\n",
            "+------+-----+\n",
            "|action|    4|\n",
            "+------+-----+\n",
            "only showing top 1 row\n",
            "\n"
          ]
        }
      ]
    },
    {
      "cell_type": "code",
      "source": [],
      "metadata": {
        "id": "rG5qAsAL9f-k"
      },
      "execution_count": null,
      "outputs": []
    },
    {
      "cell_type": "code",
      "source": [
        "df2=mvID.join(ggID,\"movieID\",).groupby(\"genre\").count()\n",
        "df2.show()"
      ],
      "metadata": {
        "colab": {
          "base_uri": "https://localhost:8080/"
        },
        "id": "BZ8cBcHN5NHQ",
        "outputId": "82e9552b-85fa-4e38-b2d1-42346b7f60b9"
      },
      "execution_count": 207,
      "outputs": [
        {
          "output_type": "stream",
          "name": "stdout",
          "text": [
            "+-------+-----+\n",
            "|  genre|count|\n",
            "+-------+-----+\n",
            "|   mass|    1|\n",
            "| action|    4|\n",
            "|fiction|    1|\n",
            "|history|    2|\n",
            "|science|    1|\n",
            "|   tech|    1|\n",
            "+-------+-----+\n",
            "\n"
          ]
        }
      ]
    },
    {
      "cell_type": "code",
      "source": [
        "print(df2.rdd.first()[0])"
      ],
      "metadata": {
        "colab": {
          "base_uri": "https://localhost:8080/"
        },
        "id": "v-RnhxMN5e6z",
        "outputId": "df753c89-db63-46cd-a162-ed6297150d84"
      },
      "execution_count": 208,
      "outputs": [
        {
          "output_type": "stream",
          "name": "stdout",
          "text": [
            "mass\n"
          ]
        }
      ]
    },
    {
      "cell_type": "code",
      "source": [
        "df2.rdd.flatMap(lambda x:[x[0]]).collect()"
      ],
      "metadata": {
        "colab": {
          "base_uri": "https://localhost:8080/"
        },
        "id": "9FYhd2cr5wnt",
        "outputId": "d97a3e6f-77f4-4908-91ef-d5af2338ae45"
      },
      "execution_count": 205,
      "outputs": [
        {
          "output_type": "execute_result",
          "data": {
            "text/plain": [
              "['mass', 'action', 'fiction', 'history', 'science', 'tech']"
            ]
          },
          "metadata": {},
          "execution_count": 205
        }
      ]
    },
    {
      "cell_type": "code",
      "source": [],
      "metadata": {
        "id": "ESuC_8HN7aT7"
      },
      "execution_count": null,
      "outputs": []
    }
  ],
  "metadata": {
    "colab": {
      "name": "Welcome To Colab",
      "provenance": [],
      "include_colab_link": true
    },
    "kernelspec": {
      "display_name": "Python 3",
      "name": "python3"
    }
  },
  "nbformat": 4,
  "nbformat_minor": 0
}