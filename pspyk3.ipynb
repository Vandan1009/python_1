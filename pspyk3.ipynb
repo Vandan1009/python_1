{
  "nbformat": 4,
  "nbformat_minor": 0,
  "metadata": {
    "colab": {
      "provenance": [],
      "include_colab_link": true
    },
    "kernelspec": {
      "name": "python3",
      "display_name": "Python 3"
    },
    "language_info": {
      "name": "python"
    }
  },
  "cells": [
    {
      "cell_type": "markdown",
      "metadata": {
        "id": "view-in-github",
        "colab_type": "text"
      },
      "source": [
        "<a href=\"https://colab.research.google.com/github/Vandan1009/python_1/blob/main/pspyk3.ipynb\" target=\"_parent\"><img src=\"https://colab.research.google.com/assets/colab-badge.svg\" alt=\"Open In Colab\"/></a>"
      ]
    },
    {
      "cell_type": "markdown",
      "source": [
        "#PySpark Practice Notebook\n",
        "Experimenting further with Spark Dataframes"
      ],
      "metadata": {
        "id": "vyfMDH344XZy"
      }
    },
    {
      "cell_type": "code",
      "execution_count": null,
      "metadata": {
        "id": "oEO4Bljq4SDh"
      },
      "outputs": [],
      "source": [
        "#Create CSV files for the following Datasets\n",
        "\n",
        "patients\n",
        "patientId,firstName,lastName,age\n",
        "101,Alice,Smith,30\n",
        "102,Bob,Johnson,45\n",
        "103,Charlie,Williams,50\n",
        "104,John,Smith,78\n",
        "\n",
        "visits\n",
        "visitId,patientId,visitDuration\n",
        "1,101,15\n",
        "2,101,30\n",
        "3,102,45\n",
        "4,102,30\n",
        "5,104,20\n",
        "6,103,60\n",
        "7,103,50\n",
        "8,104,45\n",
        "9,,45\n",
        "10,101,30\n",
        "11,103,40\n",
        "12,,30\n",
        "13,104,25\n",
        "15,102,15"
      ]
    },
    {
      "cell_type": "code",
      "source": [
        "#Import necessary spark libraries\n",
        "!pip install pyspark"
      ],
      "metadata": {
        "id": "G2y2JZQY4XAi",
        "colab": {
          "base_uri": "https://localhost:8080/"
        },
        "outputId": "e6cb729b-1d08-42f6-9b63-b18e3d49ded3"
      },
      "execution_count": 5,
      "outputs": [
        {
          "output_type": "stream",
          "name": "stdout",
          "text": [
            "Collecting pyspark\n",
            "  Downloading pyspark-3.5.1.tar.gz (317.0 MB)\n",
            "\u001b[2K     \u001b[90m━━━━━━━━━━━━━━━━━━━━━━━━━━━━━━━━━━━━━━━━\u001b[0m \u001b[32m317.0/317.0 MB\u001b[0m \u001b[31m4.9 MB/s\u001b[0m eta \u001b[36m0:00:00\u001b[0m\n",
            "\u001b[?25h  Preparing metadata (setup.py) ... \u001b[?25l\u001b[?25hdone\n",
            "Requirement already satisfied: py4j==0.10.9.7 in /usr/local/lib/python3.10/dist-packages (from pyspark) (0.10.9.7)\n",
            "Building wheels for collected packages: pyspark\n",
            "  Building wheel for pyspark (setup.py) ... \u001b[?25l\u001b[?25hdone\n",
            "  Created wheel for pyspark: filename=pyspark-3.5.1-py2.py3-none-any.whl size=317488490 sha256=098fb06d5f5ad60199b5d893922f3d0a44795638834cc97c242f1a7e7427e460\n",
            "  Stored in directory: /root/.cache/pip/wheels/80/1d/60/2c256ed38dddce2fdd93be545214a63e02fbd8d74fb0b7f3a6\n",
            "Successfully built pyspark\n",
            "Installing collected packages: pyspark\n",
            "Successfully installed pyspark-3.5.1\n"
          ]
        }
      ]
    },
    {
      "cell_type": "code",
      "source": [
        "#Create a SparkSession\n",
        "from pyspark.sql import SparkSession\n"
      ],
      "metadata": {
        "id": "8Om-g7u26QQw"
      },
      "execution_count": 6,
      "outputs": []
    },
    {
      "cell_type": "code",
      "source": [
        "spark=SparkSession.builder.appName(\"notebook3\").getOrCreate()"
      ],
      "metadata": {
        "id": "lE6kVM5Z9nB1"
      },
      "execution_count": 7,
      "outputs": []
    },
    {
      "cell_type": "code",
      "source": [
        "spark"
      ],
      "metadata": {
        "colab": {
          "base_uri": "https://localhost:8080/",
          "height": 219
        },
        "id": "kr_pZ9Li-HuS",
        "outputId": "6f771563-00f7-4119-b3d5-ea9172ca2359"
      },
      "execution_count": 8,
      "outputs": [
        {
          "output_type": "execute_result",
          "data": {
            "text/plain": [
              "<pyspark.sql.session.SparkSession at 0x79c2c85ba050>"
            ],
            "text/html": [
              "\n",
              "            <div>\n",
              "                <p><b>SparkSession - in-memory</b></p>\n",
              "                \n",
              "        <div>\n",
              "            <p><b>SparkContext</b></p>\n",
              "\n",
              "            <p><a href=\"http://97d80ec42cdb:4040\">Spark UI</a></p>\n",
              "\n",
              "            <dl>\n",
              "              <dt>Version</dt>\n",
              "                <dd><code>v3.5.1</code></dd>\n",
              "              <dt>Master</dt>\n",
              "                <dd><code>local[*]</code></dd>\n",
              "              <dt>AppName</dt>\n",
              "                <dd><code>notebook3</code></dd>\n",
              "            </dl>\n",
              "        </div>\n",
              "        \n",
              "            </div>\n",
              "        "
            ]
          },
          "metadata": {},
          "execution_count": 8
        }
      ]
    },
    {
      "cell_type": "code",
      "source": [
        "#Create dataframes from CSV files using enforced Schema\n",
        "#Schems Directive [Names as string, everything else as integers]\n",
        "%%writefile names.csv\n",
        "patientId,firstName,lastName,age\n",
        "101,Alice,Smith,30\n",
        "102,Bob,Johnson,45\n",
        "103,Charlie,Williams,50\n",
        "104,John,Smith,78"
      ],
      "metadata": {
        "id": "VKkwIx3I6QOJ",
        "colab": {
          "base_uri": "https://localhost:8080/"
        },
        "outputId": "6bdb2a40-bda0-4394-f23c-c78b8db1fee5"
      },
      "execution_count": 9,
      "outputs": [
        {
          "output_type": "stream",
          "name": "stdout",
          "text": [
            "Writing names.csv\n"
          ]
        }
      ]
    },
    {
      "cell_type": "code",
      "source": [
        "%%writefile visit.csv\n",
        "visitId,patientId,visitDuration\n",
        "1,101,15\n",
        "2,101,30\n",
        "3,102,45\n",
        "4,102,30\n",
        "5,104,20\n",
        "6,103,60\n",
        "7,103,50\n",
        "8,104,45\n",
        "9,,45\n",
        "10,101,30\n",
        "11,103,40\n",
        "12,,30\n",
        "13,104,25\n",
        "15,102,15"
      ],
      "metadata": {
        "colab": {
          "base_uri": "https://localhost:8080/"
        },
        "id": "KkiEtO_4-8oM",
        "outputId": "b80a8844-98b1-4715-ca86-01d14352a673"
      },
      "execution_count": 10,
      "outputs": [
        {
          "output_type": "stream",
          "name": "stdout",
          "text": [
            "Overwriting visit.csv\n"
          ]
        }
      ]
    },
    {
      "cell_type": "code",
      "source": [
        "df1=spark.read.option('header','True').csv('visit.csv')"
      ],
      "metadata": {
        "id": "6731irFa_E_b"
      },
      "execution_count": 11,
      "outputs": []
    },
    {
      "cell_type": "code",
      "source": [
        "df=spark.read.option('header','True').csv('names.csv')"
      ],
      "metadata": {
        "id": "9y1LWo8T-UWl"
      },
      "execution_count": 12,
      "outputs": []
    },
    {
      "cell_type": "code",
      "source": [
        "df.show()"
      ],
      "metadata": {
        "colab": {
          "base_uri": "https://localhost:8080/"
        },
        "id": "6OxoXBKw-kLm",
        "outputId": "df5e7521-5243-4a39-8fd2-650810279d09"
      },
      "execution_count": 13,
      "outputs": [
        {
          "output_type": "stream",
          "name": "stdout",
          "text": [
            "+---------+---------+--------+---+\n",
            "|patientId|firstName|lastName|age|\n",
            "+---------+---------+--------+---+\n",
            "|      101|    Alice|   Smith| 30|\n",
            "|      102|      Bob| Johnson| 45|\n",
            "|      103|  Charlie|Williams| 50|\n",
            "|      104|     John|   Smith| 78|\n",
            "+---------+---------+--------+---+\n",
            "\n"
          ]
        }
      ]
    },
    {
      "cell_type": "code",
      "source": [
        "df1.show()"
      ],
      "metadata": {
        "colab": {
          "base_uri": "https://localhost:8080/"
        },
        "id": "l8KMigc8_maz",
        "outputId": "cadb0f99-d24c-4f23-9aed-4bb84f6e8897"
      },
      "execution_count": 21,
      "outputs": [
        {
          "output_type": "stream",
          "name": "stdout",
          "text": [
            "+-------+---------+-------------+\n",
            "|visitId|patientId|visitDuration|\n",
            "+-------+---------+-------------+\n",
            "|      1|      101|           15|\n",
            "|      2|      101|           30|\n",
            "|      3|      102|           45|\n",
            "|      4|      102|           30|\n",
            "|      5|      104|           20|\n",
            "|      6|      103|           60|\n",
            "|      7|      103|           50|\n",
            "|      8|      104|           45|\n",
            "|      9|     NULL|           45|\n",
            "|     10|      101|           30|\n",
            "|     11|      103|           40|\n",
            "|     12|     NULL|           30|\n",
            "|     13|      104|           25|\n",
            "|     15|      102|           15|\n",
            "+-------+---------+-------------+\n",
            "\n"
          ]
        }
      ]
    },
    {
      "cell_type": "code",
      "source": [
        "#Display all the valid visits\n",
        "df1.filter(df1.patientId.isNotNull()).show()"
      ],
      "metadata": {
        "id": "B5Jx7nYN6QTo",
        "colab": {
          "base_uri": "https://localhost:8080/"
        },
        "outputId": "bace71c6-8c88-4aa4-f02f-141caff16bb6"
      },
      "execution_count": 134,
      "outputs": [
        {
          "output_type": "stream",
          "name": "stdout",
          "text": [
            "+-------+---------+-------------+\n",
            "|visitId|patientId|visitDuration|\n",
            "+-------+---------+-------------+\n",
            "|      1|      101|           15|\n",
            "|      2|      101|           30|\n",
            "|      3|      102|           45|\n",
            "|      4|      102|           30|\n",
            "|      5|      104|           20|\n",
            "|      6|      103|           60|\n",
            "|      7|      103|           50|\n",
            "|      8|      104|           45|\n",
            "|     10|      101|           30|\n",
            "|     11|      103|           40|\n",
            "|     13|      104|           25|\n",
            "|     15|      102|           15|\n",
            "+-------+---------+-------------+\n",
            "\n"
          ]
        }
      ]
    },
    {
      "cell_type": "code",
      "source": [],
      "metadata": {
        "id": "j4Mi7Lo_IqNv"
      },
      "execution_count": null,
      "outputs": []
    },
    {
      "cell_type": "code",
      "source": [
        "from pyspark.sql.functions import *\n",
        "import pyspark.sql.functions as f"
      ],
      "metadata": {
        "id": "TLwJ6WI8C6G2"
      },
      "execution_count": 32,
      "outputs": []
    },
    {
      "cell_type": "code",
      "source": [
        "#Fetch the total number of valid visits\n",
        "# df2=df1.select('visitId').count()\n",
        "# df2.show()\n",
        "# df1.select('visitId').agg(count(\"visitId\").alias(\"cnt\")).show()\n",
        "# df1.select('visit')\n",
        "df1.select('visitId').agg({'visitId':'count'}).show()\n",
        "df1.select('visitId').agg(count('visitId').alias('total')).show()"
      ],
      "metadata": {
        "colab": {
          "base_uri": "https://localhost:8080/"
        },
        "id": "K_fUwxFo_yjG",
        "outputId": "eb301f7f-67fc-4851-c271-d48e7e7825cf"
      },
      "execution_count": 55,
      "outputs": [
        {
          "output_type": "stream",
          "name": "stdout",
          "text": [
            "+--------------+\n",
            "|count(visitId)|\n",
            "+--------------+\n",
            "|            14|\n",
            "+--------------+\n",
            "\n",
            "+-----+\n",
            "|total|\n",
            "+-----+\n",
            "|   14|\n",
            "+-----+\n",
            "\n"
          ]
        }
      ]
    },
    {
      "cell_type": "code",
      "source": [
        "#Get the total hours of patient visit\n",
        "# df2=df1.filter('patientId').isNotNull()\n",
        "# df2.show()\n",
        "#df1.groupBy('patientId').agg({'visitDuration':'sum'}).dropna().show()\n",
        "df1.groupby('patientId').agg(max('visitDuration').alias('max_hou')).dropna().show()"
      ],
      "metadata": {
        "id": "kI7EdZZR6QV0",
        "colab": {
          "base_uri": "https://localhost:8080/"
        },
        "outputId": "c9fe61b1-10b8-464e-faf5-4f57af2625c3"
      },
      "execution_count": 59,
      "outputs": [
        {
          "output_type": "stream",
          "name": "stdout",
          "text": [
            "+---------+-------+\n",
            "|patientId|max_hou|\n",
            "+---------+-------+\n",
            "|      101|     30|\n",
            "|      102|     45|\n",
            "|      103|     60|\n",
            "|      104|     45|\n",
            "+---------+-------+\n",
            "\n"
          ]
        }
      ]
    },
    {
      "cell_type": "code",
      "source": [
        "#Fetch the top two most visited patients on the basis of occurances\n",
        "from pyspark.sql.functions import desc\n",
        "# df5=df1.groupBy('patientId').agg({'visitId':'max'}).dropna()\n",
        "# df5.orderBy(col('max(visitId)').desc()) .limit(2).show()\n",
        "a=df1.groupBy('patientId').agg(max('visitId').alias('ha'))\n",
        "a.orderBy(a.ha.desc()).limit(2).show()\n",
        "\n",
        "\n",
        "#orderBy(desc(\"ha\")).limit(2).show()\n",
        "#df1.groupBy('patientId').agg(max('visitId')).orderBy(col('max(visitId)').desc()).limit(2).show()\n",
        "#df1.groupBy('patientId').agg(max('visitId').alias('vi')).orderBy(col('vi').desc()).limit(2).show()"
      ],
      "metadata": {
        "id": "dLrXfV1f6QYT",
        "colab": {
          "base_uri": "https://localhost:8080/",
          "height": 211
        },
        "outputId": "ebb68c2b-6a4a-4d03-b55c-f977d0735ffb"
      },
      "execution_count": 137,
      "outputs": [
        {
          "output_type": "error",
          "ename": "AttributeError",
          "evalue": "'GroupedData' object has no attribute 'dropna'",
          "traceback": [
            "\u001b[0;31m---------------------------------------------------------------------------\u001b[0m",
            "\u001b[0;31mAttributeError\u001b[0m                            Traceback (most recent call last)",
            "\u001b[0;32m<ipython-input-137-6e61292f2b53>\u001b[0m in \u001b[0;36m<cell line: 5>\u001b[0;34m()\u001b[0m\n\u001b[1;32m      3\u001b[0m \u001b[0;31m# df5=df1.groupBy('patientId').agg({'visitId':'max'}).dropna()\u001b[0m\u001b[0;34m\u001b[0m\u001b[0;34m\u001b[0m\u001b[0m\n\u001b[1;32m      4\u001b[0m \u001b[0;31m# df5.orderBy(col('max(visitId)').desc()) .limit(2).show()\u001b[0m\u001b[0;34m\u001b[0m\u001b[0;34m\u001b[0m\u001b[0m\n\u001b[0;32m----> 5\u001b[0;31m \u001b[0ma\u001b[0m\u001b[0;34m=\u001b[0m\u001b[0mdf1\u001b[0m\u001b[0;34m.\u001b[0m\u001b[0mgroupBy\u001b[0m\u001b[0;34m(\u001b[0m\u001b[0;34m'patientId'\u001b[0m\u001b[0;34m)\u001b[0m\u001b[0;34m.\u001b[0m\u001b[0mdropna\u001b[0m\u001b[0;34m(\u001b[0m\u001b[0;34m)\u001b[0m\u001b[0;34m.\u001b[0m\u001b[0magg\u001b[0m\u001b[0;34m(\u001b[0m\u001b[0mmax\u001b[0m\u001b[0;34m(\u001b[0m\u001b[0;34m'visitId'\u001b[0m\u001b[0;34m)\u001b[0m\u001b[0;34m.\u001b[0m\u001b[0malias\u001b[0m\u001b[0;34m(\u001b[0m\u001b[0;34m'ha'\u001b[0m\u001b[0;34m)\u001b[0m\u001b[0;34m)\u001b[0m\u001b[0;34m\u001b[0m\u001b[0;34m\u001b[0m\u001b[0m\n\u001b[0m\u001b[1;32m      6\u001b[0m \u001b[0ma\u001b[0m\u001b[0;34m.\u001b[0m\u001b[0morderBy\u001b[0m\u001b[0;34m(\u001b[0m\u001b[0ma\u001b[0m\u001b[0;34m.\u001b[0m\u001b[0mha\u001b[0m\u001b[0;34m.\u001b[0m\u001b[0mdesc\u001b[0m\u001b[0;34m(\u001b[0m\u001b[0;34m)\u001b[0m\u001b[0;34m)\u001b[0m\u001b[0;34m.\u001b[0m\u001b[0mlimit\u001b[0m\u001b[0;34m(\u001b[0m\u001b[0;36m2\u001b[0m\u001b[0;34m)\u001b[0m\u001b[0;34m.\u001b[0m\u001b[0mshow\u001b[0m\u001b[0;34m(\u001b[0m\u001b[0;34m)\u001b[0m\u001b[0;34m\u001b[0m\u001b[0;34m\u001b[0m\u001b[0m\n\u001b[1;32m      7\u001b[0m \u001b[0;34m\u001b[0m\u001b[0m\n",
            "\u001b[0;31mAttributeError\u001b[0m: 'GroupedData' object has no attribute 'dropna'"
          ]
        }
      ]
    },
    {
      "cell_type": "code",
      "source": [
        "df.withColumn('fullname',f.concat_ws(' ','firstName','lastName')).show()\n",
        "# 'fristName' corrected to 'firstName'\n"
      ],
      "metadata": {
        "colab": {
          "base_uri": "https://localhost:8080/"
        },
        "id": "a8XCsVDDJH7o",
        "outputId": "a346a51d-c984-4ecf-cbe7-a770ad1f2709"
      },
      "execution_count": 35,
      "outputs": [
        {
          "output_type": "stream",
          "name": "stdout",
          "text": [
            "+---------+---------+--------+---+----------------+\n",
            "|patientId|firstName|lastName|age|        fullname|\n",
            "+---------+---------+--------+---+----------------+\n",
            "|      101|    Alice|   Smith| 30|     Alice Smith|\n",
            "|      102|      Bob| Johnson| 45|     Bob Johnson|\n",
            "|      103|  Charlie|Williams| 50|Charlie Williams|\n",
            "|      104|     John|   Smith| 78|      John Smith|\n",
            "+---------+---------+--------+---+----------------+\n",
            "\n"
          ]
        }
      ]
    },
    {
      "cell_type": "code",
      "source": [
        "from pyspark.sql.functions import concat_ws"
      ],
      "metadata": {
        "id": "xhxJMbWlso2W"
      },
      "execution_count": 96,
      "outputs": []
    },
    {
      "cell_type": "code",
      "source": [
        "import pyspark.sql.functions as f"
      ],
      "metadata": {
        "id": "xqU3bzWzs9Fw"
      },
      "execution_count": 100,
      "outputs": []
    },
    {
      "cell_type": "markdown",
      "source": [],
      "metadata": {
        "id": "k1hZTp-2s7b0"
      }
    },
    {
      "cell_type": "code",
      "source": [
        "#Add a new column patientFullName & display complete dataframe\n",
        "b=df.withColumn('fullname',f.concat_ws(' ','firstName','lastName'))\n",
        "b.show()"
      ],
      "metadata": {
        "id": "T4M1XTw56Qat",
        "colab": {
          "base_uri": "https://localhost:8080/"
        },
        "outputId": "2215fd3f-0b12-4c0e-d9bc-94c6c6c8d976"
      },
      "execution_count": 106,
      "outputs": [
        {
          "output_type": "stream",
          "name": "stdout",
          "text": [
            "+---------+---------+--------+---+----------------+\n",
            "|patientId|firstName|lastName|age|        fullname|\n",
            "+---------+---------+--------+---+----------------+\n",
            "|      101|    Alice|   Smith| 30|     Alice Smith|\n",
            "|      102|      Bob| Johnson| 45|     Bob Johnson|\n",
            "|      103|  Charlie|Williams| 50|Charlie Williams|\n",
            "|      104|     John|   Smith| 78|      John Smith|\n",
            "+---------+---------+--------+---+----------------+\n",
            "\n"
          ]
        }
      ]
    },
    {
      "cell_type": "code",
      "source": [
        "#Display the name of patients with maximum visiting hours\n",
        "# a=b.join(df1,on='patientId',how='inner')\n",
        "# a.show()\n",
        "\n",
        "a.groupBy('fullname').agg(max('visitDuration')).show()"
      ],
      "metadata": {
        "id": "Ecq6DnjA6QdB",
        "colab": {
          "base_uri": "https://localhost:8080/"
        },
        "outputId": "963bdf25-8480-42b5-9a93-2b8ee754c8e7"
      },
      "execution_count": 139,
      "outputs": [
        {
          "output_type": "stream",
          "name": "stdout",
          "text": [
            "+----------------+------------------+\n",
            "|        fullname|max(visitDuration)|\n",
            "+----------------+------------------+\n",
            "|     Alice Smith|                30|\n",
            "|     Bob Johnson|                45|\n",
            "|Charlie Williams|                60|\n",
            "|      John Smith|                45|\n",
            "+----------------+------------------+\n",
            "\n"
          ]
        }
      ]
    },
    {
      "cell_type": "code",
      "source": [
        "a.groupBy('fullname').agg(max('visitDuration')).show()"
      ],
      "metadata": {
        "colab": {
          "base_uri": "https://localhost:8080/"
        },
        "id": "JYNEG52zv5KQ",
        "outputId": "746a0356-c6d2-4048-b4df-d4deef2c6e6c"
      },
      "execution_count": 118,
      "outputs": [
        {
          "output_type": "stream",
          "name": "stdout",
          "text": [
            "+----------------+------------------+\n",
            "|        fullname|max(visitDuration)|\n",
            "+----------------+------------------+\n",
            "|     Alice Smith|                30|\n",
            "|     Bob Johnson|                45|\n",
            "|Charlie Williams|                60|\n",
            "|      John Smith|                45|\n",
            "+----------------+------------------+\n",
            "\n"
          ]
        }
      ]
    },
    {
      "cell_type": "code",
      "source": [
        "#Find the patient with maximum visiting hours in a single visit\n",
        "#df1.groupBy('patientId').agg(max('visitDuration')).dropna().show()\n",
        "\n",
        "df1.filter(col('patientId').isNotNull()).agg(max('visitDuration')).show()\n",
        "df1.filter(col('patientId').isNotNull()).groupBy('patientId',\"visitDuration\").count().sort('count',ascending=False).show()"
      ],
      "metadata": {
        "id": "TSqXIP_i6QfX",
        "colab": {
          "base_uri": "https://localhost:8080/"
        },
        "outputId": "3eeaca70-8423-48fa-f5d5-d8d450c2037e"
      },
      "execution_count": 129,
      "outputs": [
        {
          "output_type": "stream",
          "name": "stdout",
          "text": [
            "+------------------+\n",
            "|max(visitDuration)|\n",
            "+------------------+\n",
            "|                60|\n",
            "+------------------+\n",
            "\n",
            "+---------+-------------+-----+\n",
            "|patientId|visitDuration|count|\n",
            "+---------+-------------+-----+\n",
            "|      101|           30|    2|\n",
            "|      103|           40|    1|\n",
            "|      104|           25|    1|\n",
            "|      104|           20|    1|\n",
            "|      103|           50|    1|\n",
            "|      102|           15|    1|\n",
            "|      102|           30|    1|\n",
            "|      101|           15|    1|\n",
            "|      102|           45|    1|\n",
            "|      104|           45|    1|\n",
            "|      103|           60|    1|\n",
            "+---------+-------------+-----+\n",
            "\n"
          ]
        }
      ]
    },
    {
      "cell_type": "code",
      "source": [
        "#Show the patient info according to age-seniority\n",
        "df.sort('age',ascending=False).show()"
      ],
      "metadata": {
        "id": "Arpnz5O36Qhu",
        "colab": {
          "base_uri": "https://localhost:8080/"
        },
        "outputId": "b8662b53-b13c-4a80-e762-b9e7dacfb2f1"
      },
      "execution_count": 141,
      "outputs": [
        {
          "output_type": "stream",
          "name": "stdout",
          "text": [
            "+---------+---------+--------+---+\n",
            "|patientId|firstName|lastName|age|\n",
            "+---------+---------+--------+---+\n",
            "|      104|     John|   Smith| 78|\n",
            "|      103|  Charlie|Williams| 50|\n",
            "|      102|      Bob| Johnson| 45|\n",
            "|      101|    Alice|   Smith| 30|\n",
            "+---------+---------+--------+---+\n",
            "\n"
          ]
        }
      ]
    },
    {
      "cell_type": "code",
      "source": [],
      "metadata": {
        "id": "pWcY8RUZ5hQP"
      },
      "execution_count": null,
      "outputs": []
    }
  ]
}