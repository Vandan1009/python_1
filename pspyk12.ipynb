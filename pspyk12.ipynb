{
  "nbformat": 4,
  "nbformat_minor": 0,
  "metadata": {
    "colab": {
      "provenance": [],
      "include_colab_link": true
    },
    "kernelspec": {
      "name": "python3",
      "display_name": "Python 3"
    },
    "language_info": {
      "name": "python"
    }
  },
  "cells": [
    {
      "cell_type": "markdown",
      "metadata": {
        "id": "view-in-github",
        "colab_type": "text"
      },
      "source": [
        "<a href=\"https://colab.research.google.com/github/Vandan1009/python_1/blob/main/pspyk12.ipynb\" target=\"_parent\"><img src=\"https://colab.research.google.com/assets/colab-badge.svg\" alt=\"Open In Colab\"/></a>"
      ]
    },
    {
      "cell_type": "code",
      "execution_count": null,
      "metadata": {
        "id": "UoH8kZvLICAR"
      },
      "outputs": [],
      "source": [
        "#user_data\n",
        "\n",
        "user_id,series,season,timestamp,genre,duration_mins\n",
        "521,”Mirzapur”,3,2024-07-30 15:00:00,action,300\n",
        "672,”Panchayat”,3,2024-07-30 15:00:00,comedy,200\n",
        "197,”Family Man”,2,2024-07-30 15:00:00,action,500\n",
        "521,”Mirzapur”,2,2024-07-29 15:00:00,action,280\n",
        "211,”Queens Gambit”,1,2024-07-30 15:00:00,drama,170\n",
        "521,”Mirzapur”,1,2024-07-28 15:00:00,action,230\n",
        "844,”Westworld”,3,2024-07-30 15:00:00,sci-fi,310\n",
        "672,”Panchayat”,3,2024-07-29 15:00:00,comedy,210\n",
        "256,”Homecoming”,2,2024-07-30 15:00:00,thriller,310\n",
        "489,”Outer Range”,1,2024-07-30 15:00:00,sci-fi,340\n",
        "200,”Black Mirror”,2,2024-07-30 15:00:00,sci-fi,140\n",
        "256,”Outer Range”,2,2024-07-30 15:00:00,thriller,250\n",
        "489,”Outer Range”,2,2024-07-28 15:00:00,sci-fi,170\n",
        "200,”Black Mirror”,3,2024-07-29 15:00:00,sci-fi,190\n",
        "672,”Panchayat”,2,2024-07-28 15:00:00,comedy,160\n",
        "672,”Outer Range”,1,2024-07-25 15:00:00,sci-fi,250\n",
        "200,”Black Mirror”,4,2024-07-28 15:00:00,sci-fi,200\n",
        "844,”Westworld”,2,2024-07-29 15:00:00,sci-fi,300\n",
        "672,”Black Mirror”,5,2024-07-28 15:00:00,sci-fi,150\n",
        "672,”Panchayat”,1,2024-07-27 15:00:00,comedy,190"
      ]
    },
    {
      "cell_type": "code",
      "source": [
        "#Import Libraries\n",
        "!pip install pyspark\n"
      ],
      "metadata": {
        "id": "GLxzpwaSIJRA",
        "colab": {
          "base_uri": "https://localhost:8080/"
        },
        "outputId": "d07b8e16-9e8b-4b7c-882b-fc1f85cef915"
      },
      "execution_count": 2,
      "outputs": [
        {
          "output_type": "stream",
          "name": "stdout",
          "text": [
            "Collecting pyspark\n",
            "  Downloading pyspark-3.5.1.tar.gz (317.0 MB)\n",
            "\u001b[2K     \u001b[90m━━━━━━━━━━━━━━━━━━━━━━━━━━━━━━━━━━━━━━━━\u001b[0m \u001b[32m317.0/317.0 MB\u001b[0m \u001b[31m1.4 MB/s\u001b[0m eta \u001b[36m0:00:00\u001b[0m\n",
            "\u001b[?25h  Preparing metadata (setup.py) ... \u001b[?25l\u001b[?25hdone\n",
            "Requirement already satisfied: py4j==0.10.9.7 in /usr/local/lib/python3.10/dist-packages (from pyspark) (0.10.9.7)\n",
            "Building wheels for collected packages: pyspark\n",
            "  Building wheel for pyspark (setup.py) ... \u001b[?25l\u001b[?25hdone\n",
            "  Created wheel for pyspark: filename=pyspark-3.5.1-py2.py3-none-any.whl size=317488490 sha256=863d47452b09e3fa4837e09bf92824e85f85295e7ed0c178aa2a9f4b13f4d32b\n",
            "  Stored in directory: /root/.cache/pip/wheels/80/1d/60/2c256ed38dddce2fdd93be545214a63e02fbd8d74fb0b7f3a6\n",
            "Successfully built pyspark\n",
            "Installing collected packages: pyspark\n",
            "Successfully installed pyspark-3.5.1\n"
          ]
        }
      ]
    },
    {
      "cell_type": "code",
      "source": [
        "#Create SparkSession for app (Streaming Analysis)\n",
        "from pyspark.sql import SparkSession\n",
        "spark=SparkSession.builder.appName(\"notebook5\").getOrCreate()"
      ],
      "metadata": {
        "id": "YChMWo_nIJTq"
      },
      "execution_count": 3,
      "outputs": []
    },
    {
      "cell_type": "code",
      "source": [
        "spark"
      ],
      "metadata": {
        "colab": {
          "base_uri": "https://localhost:8080/",
          "height": 219
        },
        "id": "FK-0McqrWQvG",
        "outputId": "4a789c99-5897-4d9e-e7c9-c8b3430734ed"
      },
      "execution_count": 4,
      "outputs": [
        {
          "output_type": "execute_result",
          "data": {
            "text/plain": [
              "<pyspark.sql.session.SparkSession at 0x7abd4c1db970>"
            ],
            "text/html": [
              "\n",
              "            <div>\n",
              "                <p><b>SparkSession - in-memory</b></p>\n",
              "                \n",
              "        <div>\n",
              "            <p><b>SparkContext</b></p>\n",
              "\n",
              "            <p><a href=\"http://85b2b266c78b:4040\">Spark UI</a></p>\n",
              "\n",
              "            <dl>\n",
              "              <dt>Version</dt>\n",
              "                <dd><code>v3.5.1</code></dd>\n",
              "              <dt>Master</dt>\n",
              "                <dd><code>local[*]</code></dd>\n",
              "              <dt>AppName</dt>\n",
              "                <dd><code>notebook5</code></dd>\n",
              "            </dl>\n",
              "        </div>\n",
              "        \n",
              "            </div>\n",
              "        "
            ]
          },
          "metadata": {},
          "execution_count": 4
        }
      ]
    },
    {
      "cell_type": "code",
      "source": [
        "%%writefile movies.csv\n",
        "user_id,series,season,timestamp,genre,duration_mins\n",
        "521,Mirzapur,3,2024-07-30 15:00:00,action,300\n",
        "672,Panchayat,3,2024-07-30 15:00:00,comedy,200\n",
        "197,Family Man,2,2024-07-30 15:00:00,action,500\n",
        "521,Mirzapur,2,2024-07-29 15:00:00,action,280\n",
        "211,Queens Gambit,1,2024-07-30 15:00:00,drama,170\n",
        "521,Mirzapur,1,2024-07-28 15:00:00,action,230\n",
        "844,Westworld,3,2024-07-30 15:00:00,sci-fi,310\n",
        "672,Panchayat,3,2024-07-29 15:00:00,comedy,210\n",
        "256,Homecoming,2,2024-07-30 15:00:00,thriller,310\n",
        "489,Outer Range,1,2024-07-30 15:00:00,sci-fi,340\n",
        "200,Black Mirror,2,2024-07-30 15:00:00,sci-fi,140\n",
        "256,Outer Range,2,2024-07-30 15:00:00,thriller,250\n",
        "489,Outer Range,2,2024-07-28 15:00:00,sci-fi,170\n",
        "200,Black Mirror,3,2024-07-29 15:00:00,sci-fi,190\n",
        "672,Panchayat,2,2024-07-28 15:00:00,comedy,160\n",
        "672,Outer Range,1,2024-07-25 15:00:00,sci-fi,250\n",
        "200,Black Mirror,4,2024-07-28 15:00:00,sci-fi,200\n",
        "844,Westworld,2,2024-07-29 15:00:00,sci-fi,300\n",
        "672,Black Mirror,5,2024-07-28 15:00:00,sci-fi,150\n",
        "672,Panchayat,1,2024-07-27 15:00:00,comedy,190"
      ],
      "metadata": {
        "colab": {
          "base_uri": "https://localhost:8080/"
        },
        "id": "8HoDUi4uWmy0",
        "outputId": "b87b2513-6af3-4985-b260-0d27d250d9b6"
      },
      "execution_count": 5,
      "outputs": [
        {
          "output_type": "stream",
          "name": "stdout",
          "text": [
            "Writing movies.csv\n"
          ]
        }
      ]
    },
    {
      "cell_type": "code",
      "source": [
        "#Create Dataframe series_df\n",
        "df=spark.read.option('header','True').csv('movies.csv')"
      ],
      "metadata": {
        "id": "PmLcEmkmW8Jn"
      },
      "execution_count": 6,
      "outputs": []
    },
    {
      "cell_type": "code",
      "source": [
        "df.show()"
      ],
      "metadata": {
        "colab": {
          "base_uri": "https://localhost:8080/"
        },
        "id": "qUvFOLOpXaSE",
        "outputId": "b1a42243-c8f6-4e39-87ac-d447ed2af19f"
      },
      "execution_count": 7,
      "outputs": [
        {
          "output_type": "stream",
          "name": "stdout",
          "text": [
            "+-------+-------------+------+-------------------+--------+-------------+\n",
            "|user_id|       series|season|          timestamp|   genre|duration_mins|\n",
            "+-------+-------------+------+-------------------+--------+-------------+\n",
            "|    521|     Mirzapur|     3|2024-07-30 15:00:00|  action|          300|\n",
            "|    672|    Panchayat|     3|2024-07-30 15:00:00|  comedy|          200|\n",
            "|    197|   Family Man|     2|2024-07-30 15:00:00|  action|          500|\n",
            "|    521|     Mirzapur|     2|2024-07-29 15:00:00|  action|          280|\n",
            "|    211|Queens Gambit|     1|2024-07-30 15:00:00|   drama|          170|\n",
            "|    521|     Mirzapur|     1|2024-07-28 15:00:00|  action|          230|\n",
            "|    844|    Westworld|     3|2024-07-30 15:00:00|  sci-fi|          310|\n",
            "|    672|    Panchayat|     3|2024-07-29 15:00:00|  comedy|          210|\n",
            "|    256|   Homecoming|     2|2024-07-30 15:00:00|thriller|          310|\n",
            "|    489|  Outer Range|     1|2024-07-30 15:00:00|  sci-fi|          340|\n",
            "|    200| Black Mirror|     2|2024-07-30 15:00:00|  sci-fi|          140|\n",
            "|    256|  Outer Range|     2|2024-07-30 15:00:00|thriller|          250|\n",
            "|    489|  Outer Range|     2|2024-07-28 15:00:00|  sci-fi|          170|\n",
            "|    200| Black Mirror|     3|2024-07-29 15:00:00|  sci-fi|          190|\n",
            "|    672|    Panchayat|     2|2024-07-28 15:00:00|  comedy|          160|\n",
            "|    672|  Outer Range|     1|2024-07-25 15:00:00|  sci-fi|          250|\n",
            "|    200| Black Mirror|     4|2024-07-28 15:00:00|  sci-fi|          200|\n",
            "|    844|    Westworld|     2|2024-07-29 15:00:00|  sci-fi|          300|\n",
            "|    672| Black Mirror|     5|2024-07-28 15:00:00|  sci-fi|          150|\n",
            "|    672|    Panchayat|     1|2024-07-27 15:00:00|  comedy|          190|\n",
            "+-------+-------------+------+-------------------+--------+-------------+\n",
            "\n"
          ]
        }
      ]
    },
    {
      "cell_type": "code",
      "source": [
        "from pyspark.sql.functions import *\n",
        "from pyspark.sql.functions import col"
      ],
      "metadata": {
        "id": "IKpp1vulgPYL"
      },
      "execution_count": 11,
      "outputs": []
    },
    {
      "cell_type": "code",
      "source": [
        "#Find the user with maximum watchtime\n",
        "df.select('user_id','duration_mins').sort('duration_mins',ascending=False).limit(1).show()\n"
      ],
      "metadata": {
        "id": "ddoznJiZIJZI",
        "colab": {
          "base_uri": "https://localhost:8080/"
        },
        "outputId": "c3c17bf8-9ed2-4b2e-ae31-e89cd2d6af02"
      },
      "execution_count": 9,
      "outputs": [
        {
          "output_type": "stream",
          "name": "stdout",
          "text": [
            "+-------+-------------+\n",
            "|user_id|duration_mins|\n",
            "+-------+-------------+\n",
            "|    197|          500|\n",
            "+-------+-------------+\n",
            "\n"
          ]
        }
      ]
    },
    {
      "cell_type": "code",
      "source": [
        "#Calculate overall total Watchtime\n",
        "#df.agg({'duration_mins':'sum'}).alias('watchtime').show()\n",
        "df.select(sum('duration_mins')).collect()[0][0]"
      ],
      "metadata": {
        "id": "KCpeY-cyynpN",
        "colab": {
          "base_uri": "https://localhost:8080/"
        },
        "outputId": "3ce84805-b634-4836-807f-78ddd93071df"
      },
      "execution_count": 37,
      "outputs": [
        {
          "output_type": "execute_result",
          "data": {
            "text/plain": [
              "4850.0"
            ]
          },
          "metadata": {},
          "execution_count": 37
        }
      ]
    },
    {
      "cell_type": "code",
      "source": [
        "#Find most popular shows (based on watchtime)\n",
        "#df.groupBy('series').agg({'duration_mins':'max'}).withColumnRenamed('max(duration_mins)','watchlist').show()\n",
        "df.groupBy('series').agg({'duration_mins':'max'}).orderBy(col('max(duration_mins)').desc()).show()"
      ],
      "metadata": {
        "id": "SMnElt2ZIJbJ",
        "colab": {
          "base_uri": "https://localhost:8080/"
        },
        "outputId": "72ea2179-d530-49c6-fc28-4d2956f2cb0b"
      },
      "execution_count": 76,
      "outputs": [
        {
          "output_type": "stream",
          "name": "stdout",
          "text": [
            "+-------------+------------------+\n",
            "|       series|max(duration_mins)|\n",
            "+-------------+------------------+\n",
            "|   Family Man|               500|\n",
            "|  Outer Range|               340|\n",
            "|   Homecoming|               310|\n",
            "|    Westworld|               310|\n",
            "|     Mirzapur|               300|\n",
            "|    Panchayat|               210|\n",
            "| Black Mirror|               200|\n",
            "|Queens Gambit|               170|\n",
            "+-------------+------------------+\n",
            "\n"
          ]
        }
      ]
    },
    {
      "cell_type": "code",
      "source": [
        "#Find most popular shows (based on user popularity)\n",
        "df.groupBy('series').count().orderBy(col('count').desc()).collect()[0][0]"
      ],
      "metadata": {
        "id": "-W2oNioNIJem",
        "colab": {
          "base_uri": "https://localhost:8080/",
          "height": 35
        },
        "outputId": "9bb03c6d-687c-4860-9bb6-b317817d678b"
      },
      "execution_count": 79,
      "outputs": [
        {
          "output_type": "execute_result",
          "data": {
            "text/plain": [
              "'Outer Range'"
            ],
            "application/vnd.google.colaboratory.intrinsic+json": {
              "type": "string"
            }
          },
          "metadata": {},
          "execution_count": 79
        }
      ]
    },
    {
      "cell_type": "code",
      "source": [
        "#Find the most popular genre\n",
        "df3 = df.groupBy('genre').count().orderBy(col('count').desc())\n",
        "df3.rdd.flatMap(lambda x:)"
      ],
      "metadata": {
        "id": "Z-RpLlNFIJgk",
        "colab": {
          "base_uri": "https://localhost:8080/"
        },
        "outputId": "29a8e8f3-c52d-40e1-fbed-52976b8eb69c"
      },
      "execution_count": 21,
      "outputs": [
        {
          "output_type": "execute_result",
          "data": {
            "text/plain": [
              "DataFrame[genre: string, count: bigint]"
            ]
          },
          "metadata": {},
          "execution_count": 21
        }
      ]
    },
    {
      "cell_type": "code",
      "source": [
        "#Calculate total watchtime per user\n",
        "df4 = df.groupBy('user_id').agg({'duration_mins':'sum'}).orderBy(col('sum(duration_mins)').desc())\n",
        "df4.rdd.flatMap(lambda x : [x[0]]).collect()"
      ],
      "metadata": {
        "id": "vm_-_AUWIJis",
        "colab": {
          "base_uri": "https://localhost:8080/",
          "height": 35
        },
        "outputId": "72ead96f-82ff-450e-d559-42e02b7e3f6c"
      },
      "execution_count": 26,
      "outputs": [
        {
          "output_type": "execute_result",
          "data": {
            "text/plain": [
              "'844'"
            ],
            "application/vnd.google.colaboratory.intrinsic+json": {
              "type": "string"
            }
          },
          "metadata": {},
          "execution_count": 26
        }
      ]
    },
    {
      "cell_type": "code",
      "source": [
        "#Find most popular genre (based on engagement count)\n",
        "df.groupBy('genre').count().orderBy(col('count').desc()).show()"
      ],
      "metadata": {
        "id": "l-DuDyiOIJlG",
        "colab": {
          "base_uri": "https://localhost:8080/"
        },
        "outputId": "b80acbce-0454-4f5b-94c0-89af628f03ae"
      },
      "execution_count": 98,
      "outputs": [
        {
          "output_type": "stream",
          "name": "stdout",
          "text": [
            "+--------+-----+\n",
            "|   genre|count|\n",
            "+--------+-----+\n",
            "|  sci-fi|    9|\n",
            "|  action|    4|\n",
            "|  comedy|    4|\n",
            "|thriller|    2|\n",
            "|   drama|    1|\n",
            "+--------+-----+\n",
            "\n"
          ]
        }
      ]
    },
    {
      "cell_type": "code",
      "source": [
        "#Find average watchtime per genre\n",
        "df.groupBy('genre').agg({'duration_mins':'avg'}).orderBy(col('avg(duration_mins)').desc()).show()"
      ],
      "metadata": {
        "id": "yFFZh-NFIJnQ",
        "colab": {
          "base_uri": "https://localhost:8080/"
        },
        "outputId": "844a5cb7-425e-40e1-bbd9-0fb1a2714393"
      },
      "execution_count": 100,
      "outputs": [
        {
          "output_type": "stream",
          "name": "stdout",
          "text": [
            "+--------+------------------+\n",
            "|   genre|avg(duration_mins)|\n",
            "+--------+------------------+\n",
            "|  action|             327.5|\n",
            "|thriller|             280.0|\n",
            "|  sci-fi|227.77777777777777|\n",
            "|  comedy|             190.0|\n",
            "|   drama|             170.0|\n",
            "+--------+------------------+\n",
            "\n"
          ]
        }
      ]
    },
    {
      "cell_type": "code",
      "source": [
        "#Find peak traffic days\n",
        "#(Output 1 = Full Date)\n",
        "df.select(to_date('timestamp')).show()\n",
        "df.select(dayofmonth('timestamp')).show()\n",
        "#(Output 2 = Only Day)\n",
        "\n"
      ],
      "metadata": {
        "id": "HzXnysiXIJpq",
        "colab": {
          "base_uri": "https://localhost:8080/"
        },
        "outputId": "8d940f07-7851-4505-b614-4efcb020e6d1"
      },
      "execution_count": 16,
      "outputs": [
        {
          "output_type": "stream",
          "name": "stdout",
          "text": [
            "+------------------+\n",
            "|to_date(timestamp)|\n",
            "+------------------+\n",
            "|        2024-07-30|\n",
            "|        2024-07-30|\n",
            "|        2024-07-30|\n",
            "|        2024-07-29|\n",
            "|        2024-07-30|\n",
            "|        2024-07-28|\n",
            "|        2024-07-30|\n",
            "|        2024-07-29|\n",
            "|        2024-07-30|\n",
            "|        2024-07-30|\n",
            "|        2024-07-30|\n",
            "|        2024-07-30|\n",
            "|        2024-07-28|\n",
            "|        2024-07-29|\n",
            "|        2024-07-28|\n",
            "|        2024-07-25|\n",
            "|        2024-07-28|\n",
            "|        2024-07-29|\n",
            "|        2024-07-28|\n",
            "|        2024-07-27|\n",
            "+------------------+\n",
            "\n",
            "+---------------------+\n",
            "|dayofmonth(timestamp)|\n",
            "+---------------------+\n",
            "|                   30|\n",
            "|                   30|\n",
            "|                   30|\n",
            "|                   29|\n",
            "|                   30|\n",
            "|                   28|\n",
            "|                   30|\n",
            "|                   29|\n",
            "|                   30|\n",
            "|                   30|\n",
            "|                   30|\n",
            "|                   30|\n",
            "|                   28|\n",
            "|                   29|\n",
            "|                   28|\n",
            "|                   25|\n",
            "|                   28|\n",
            "|                   29|\n",
            "|                   28|\n",
            "|                   27|\n",
            "+---------------------+\n",
            "\n"
          ]
        }
      ]
    },
    {
      "cell_type": "code",
      "source": [
        "#Find the user with most diverse show preference\n"
      ],
      "metadata": {
        "id": "yY7SlM8yIJsz"
      },
      "execution_count": null,
      "outputs": []
    },
    {
      "cell_type": "code",
      "source": [
        "#Find the binge-watchers\n",
        "df.groupBy('user_id','series').agg({'duration_mins':'min'}).show()"
      ],
      "metadata": {
        "id": "9UMeWCk-IJvK",
        "colab": {
          "base_uri": "https://localhost:8080/"
        },
        "outputId": "6c9fdc1b-0873-4b6d-d5bc-56770ac48479"
      },
      "execution_count": 125,
      "outputs": [
        {
          "output_type": "stream",
          "name": "stdout",
          "text": [
            "+-------+-------------+------------------+\n",
            "|user_id|       series|min(duration_mins)|\n",
            "+-------+-------------+------------------+\n",
            "|    197|   Family Man|               500|\n",
            "|    200| Black Mirror|               140|\n",
            "|    211|Queens Gambit|               170|\n",
            "|    256|   Homecoming|               310|\n",
            "|    256|  Outer Range|               250|\n",
            "|    489|  Outer Range|               170|\n",
            "|    521|     Mirzapur|               230|\n",
            "|    672| Black Mirror|               150|\n",
            "|    672|  Outer Range|               250|\n",
            "|    672|    Panchayat|               160|\n",
            "|    844|    Westworld|               300|\n",
            "+-------+-------------+------------------+\n",
            "\n"
          ]
        }
      ]
    },
    {
      "cell_type": "code",
      "source": [
        "#Find the user with longest watching streak\n",
        "df.groupBy('user_id','duration_mins').agg({'duration_mins':'max'}).orderBy(col('max(duration_mins)').desc()).limit(1).collect()[0][0]"
      ],
      "metadata": {
        "id": "14CBZwe2M3rZ",
        "colab": {
          "base_uri": "https://localhost:8080/",
          "height": 35
        },
        "outputId": "23153237-dd37-451c-ec04-1a1e059b930e"
      },
      "execution_count": 119,
      "outputs": [
        {
          "output_type": "execute_result",
          "data": {
            "text/plain": [
              "'197'"
            ],
            "application/vnd.google.colaboratory.intrinsic+json": {
              "type": "string"
            }
          },
          "metadata": {},
          "execution_count": 119
        }
      ]
    },
    {
      "cell_type": "code",
      "source": [
        "#Total Seasons available\n",
        "df.groupBy('series').agg({'season':'max'}).agg({'max(season)':'sum'}).show()"
      ],
      "metadata": {
        "id": "X0HCvFNbye9Y",
        "colab": {
          "base_uri": "https://localhost:8080/"
        },
        "outputId": "28a26bd0-98ef-48da-de8c-670f9832a1d3"
      },
      "execution_count": 112,
      "outputs": [
        {
          "output_type": "stream",
          "name": "stdout",
          "text": [
            "+----------------+\n",
            "|sum(max(season))|\n",
            "+----------------+\n",
            "|            21.0|\n",
            "+----------------+\n",
            "\n"
          ]
        }
      ]
    },
    {
      "cell_type": "code",
      "source": [
        "#Fetch a list of all series\n",
        "df.select('series').distinct().show()"
      ],
      "metadata": {
        "id": "weylH9PDM3uU",
        "colab": {
          "base_uri": "https://localhost:8080/"
        },
        "outputId": "ab57b987-df6f-4ba8-f062-7e91d10b3758"
      },
      "execution_count": 101,
      "outputs": [
        {
          "output_type": "stream",
          "name": "stdout",
          "text": [
            "+-------------+\n",
            "|       series|\n",
            "+-------------+\n",
            "|  Outer Range|\n",
            "| Black Mirror|\n",
            "|    Westworld|\n",
            "|   Family Man|\n",
            "|   Homecoming|\n",
            "|     Mirzapur|\n",
            "|    Panchayat|\n",
            "|Queens Gambit|\n",
            "+-------------+\n",
            "\n"
          ]
        }
      ]
    },
    {
      "cell_type": "code",
      "source": [],
      "metadata": {
        "id": "8AKEDARd3wpE"
      },
      "execution_count": null,
      "outputs": []
    }
  ]
}