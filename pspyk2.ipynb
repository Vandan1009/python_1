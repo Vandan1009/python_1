{
  "nbformat": 4,
  "nbformat_minor": 0,
  "metadata": {
    "colab": {
      "provenance": []
    },
    "kernelspec": {
      "name": "python3",
      "display_name": "Python 3"
    },
    "language_info": {
      "name": "python"
    }
  },
  "cells": [
    {
      "cell_type": "markdown",
      "source": [
        "#SparkSQL\n",
        "\n",
        "Working with PySpark's built-in SQL compliant functionality to investigate flights-delay data at scale\n",
        "\n",
        "\n",
        "*   Understand the limitations of SparkSQL\n",
        "*   Experiment with createOrReplaceGlobalView\n",
        "*   Work on same executions through pyspark methods\n",
        "\n"
      ],
      "metadata": {
        "id": "u9qknWb9bfXd"
      }
    },
    {
      "cell_type": "code",
      "execution_count": null,
      "metadata": {
        "id": "XLzhcLK6bVbq"
      },
      "outputs": [],
      "source": [
        "#Download Data from source\n",
        "Data Source Repo - https://kloudbitbucket.s3.amazonaws.com/krunal_ds/departuredelays.csv"
      ]
    },
    {
      "cell_type": "code",
      "source": [
        "#Import necessary spark components\n",
        "!pip install pyspark\n",
        "\n"
      ],
      "metadata": {
        "id": "3UdCaWepbetc",
        "outputId": "3466c133-766b-4206-f991-7e226b187e5e",
        "colab": {
          "base_uri": "https://localhost:8080/"
        }
      },
      "execution_count": 10,
      "outputs": [
        {
          "output_type": "stream",
          "name": "stdout",
          "text": [
            "Collecting pyspark\n",
            "  Downloading pyspark-3.5.1.tar.gz (317.0 MB)\n",
            "\u001b[2K     \u001b[90m━━━━━━━━━━━━━━━━━━━━━━━━━━━━━━━━━━━━━━━━\u001b[0m \u001b[32m317.0/317.0 MB\u001b[0m \u001b[31m3.8 MB/s\u001b[0m eta \u001b[36m0:00:00\u001b[0m\n",
            "\u001b[?25h  Preparing metadata (setup.py) ... \u001b[?25l\u001b[?25hdone\n",
            "Requirement already satisfied: py4j==0.10.9.7 in /usr/local/lib/python3.10/dist-packages (from pyspark) (0.10.9.7)\n",
            "Building wheels for collected packages: pyspark\n",
            "  Building wheel for pyspark (setup.py) ... \u001b[?25l\u001b[?25hdone\n",
            "  Created wheel for pyspark: filename=pyspark-3.5.1-py2.py3-none-any.whl size=317488491 sha256=0f746797270e78849f396716bad38a43beae0c4a5cf854ff654e63b5e0c3ff01\n",
            "  Stored in directory: /root/.cache/pip/wheels/80/1d/60/2c256ed38dddce2fdd93be545214a63e02fbd8d74fb0b7f3a6\n",
            "Successfully built pyspark\n",
            "Installing collected packages: pyspark\n",
            "Successfully installed pyspark-3.5.1\n"
          ]
        }
      ]
    },
    {
      "cell_type": "code",
      "source": [
        "from pyspark.sql import SparkSession"
      ],
      "metadata": {
        "id": "hzLOpw41-V6t"
      },
      "execution_count": 11,
      "outputs": []
    },
    {
      "cell_type": "code",
      "source": [
        "#Create a SparkSession\n",
        "spark=SparkSession.builder.appName('vandana').getOrCreate()"
      ],
      "metadata": {
        "id": "6FP1wdXTbewW"
      },
      "execution_count": 18,
      "outputs": []
    },
    {
      "cell_type": "code",
      "source": [
        "#Import Data into Spark Native Dataframe\n",
        "df=spark.read.option(\"Header\",\"True\").csv(\"departuredelays.csv\")\n"
      ],
      "metadata": {
        "id": "gXObRS7gbezU"
      },
      "execution_count": 34,
      "outputs": []
    },
    {
      "cell_type": "code",
      "source": [
        "#Convert into an SQL complaint format\n",
        "sdf=df\n",
        "sdf.createOrReplaceTempView(\"delays\")\n"
      ],
      "metadata": {
        "id": "DqYqJHizbe3y"
      },
      "execution_count": 36,
      "outputs": []
    },
    {
      "cell_type": "code",
      "source": [],
      "metadata": {
        "id": "ahqEvOS7Fr3O"
      },
      "execution_count": null,
      "outputs": []
    },
    {
      "cell_type": "code",
      "source": [
        "#Display 100 rows of data with SQL query\n",
        "spark.sql(\"select * from delays\").limit(100).show()"
      ],
      "metadata": {
        "id": "MWu1GiPwbe6n",
        "outputId": "7a8743fb-04db-4cac-8063-046259947ac5",
        "colab": {
          "base_uri": "https://localhost:8080/"
        }
      },
      "execution_count": 37,
      "outputs": [
        {
          "output_type": "stream",
          "name": "stdout",
          "text": [
            "+--------+-----+--------+------+-----------+\n",
            "|    date|delay|distance|origin|destination|\n",
            "+--------+-----+--------+------+-----------+\n",
            "|01011245|    6|     602|   ABE|        ATL|\n",
            "|01020600|   -8|     369|   ABE|        DTW|\n",
            "|01021245|   -2|     602|   ABE|        ATL|\n",
            "|01020605|   -4|     602|   ABE|        ATL|\n",
            "|01031245|   -4|     602|   ABE|        ATL|\n",
            "|01030605|    0|     602|   ABE|        ATL|\n",
            "|01041243|   10|     602|   ABE|        ATL|\n",
            "|01040605|   28|     602|   ABE|        ATL|\n",
            "|01051245|   88|     602|   ABE|        ATL|\n",
            "|01050605|    9|     602|   ABE|        ATL|\n",
            "|01061215|   -6|     602|   ABE|        ATL|\n",
            "|01061725|   69|     602|   ABE|        ATL|\n",
            "|01061230|    0|     369|   ABE|        DTW|\n",
            "|01060625|   -3|     602|   ABE|        ATL|\n",
            "|01070600|    0|     369|   ABE|        DTW|\n",
            "|01071725|    0|     602|   ABE|        ATL|\n",
            "|01071230|    0|     369|   ABE|        DTW|\n",
            "|01070625|    0|     602|   ABE|        ATL|\n",
            "|01071219|    0|     569|   ABE|        ORD|\n",
            "|01080600|    0|     369|   ABE|        DTW|\n",
            "+--------+-----+--------+------+-----------+\n",
            "only showing top 20 rows\n",
            "\n"
          ]
        }
      ]
    },
    {
      "cell_type": "code",
      "source": [
        "#Get a list of all Origin and Destination airports\n",
        "spark.sql(\"select origin,destination  from delays\").show()"
      ],
      "metadata": {
        "id": "eWGh0GpWcRsX",
        "outputId": "ea21a225-4564-4aa4-ff2f-29e4d3b7f305",
        "colab": {
          "base_uri": "https://localhost:8080/"
        }
      },
      "execution_count": 43,
      "outputs": [
        {
          "output_type": "stream",
          "name": "stdout",
          "text": [
            "+------+-----------+\n",
            "|origin|destination|\n",
            "+------+-----------+\n",
            "|   ABE|        ATL|\n",
            "|   ABE|        DTW|\n",
            "|   ABE|        ATL|\n",
            "|   ABE|        ATL|\n",
            "|   ABE|        ATL|\n",
            "|   ABE|        ATL|\n",
            "|   ABE|        ATL|\n",
            "|   ABE|        ATL|\n",
            "|   ABE|        ATL|\n",
            "|   ABE|        ATL|\n",
            "|   ABE|        ATL|\n",
            "|   ABE|        ATL|\n",
            "|   ABE|        DTW|\n",
            "|   ABE|        ATL|\n",
            "|   ABE|        DTW|\n",
            "|   ABE|        ATL|\n",
            "|   ABE|        DTW|\n",
            "|   ABE|        ATL|\n",
            "|   ABE|        ORD|\n",
            "|   ABE|        DTW|\n",
            "+------+-----------+\n",
            "only showing top 20 rows\n",
            "\n"
          ]
        }
      ]
    },
    {
      "cell_type": "code",
      "source": [
        "#Find the top 5 longest distance travel routes\n",
        "#df.select('distance').limit(5).show()\n",
        "spark.sql(\"select * from delays order by distance desc limit 5\").show()\n"
      ],
      "metadata": {
        "id": "QKnQPgqicRvS",
        "outputId": "98f53423-2ee4-419b-db79-eb1df08d0b20",
        "colab": {
          "base_uri": "https://localhost:8080/"
        }
      },
      "execution_count": 50,
      "outputs": [
        {
          "output_type": "stream",
          "name": "stdout",
          "text": [
            "+--------+-----+--------+------+-----------+\n",
            "|    date|delay|distance|origin|destination|\n",
            "+--------+-----+--------+------+-----------+\n",
            "|02020959|   -9|     999|   PHX|        DSM|\n",
            "|01071459|   11|     999|   DSM|        PHX|\n",
            "|02040959|   -7|     999|   PHX|        DSM|\n",
            "|01090751|    5|     999|   DSM|        PHX|\n",
            "|02031950|   -5|     999|   PHX|        DSM|\n",
            "+--------+-----+--------+------+-----------+\n",
            "\n"
          ]
        }
      ]
    },
    {
      "cell_type": "code",
      "source": [
        "#Find top 3 origin airport with maximum flight delay occurances\n",
        "spark.sql(\"\"\"select origin\n",
        "from delays\n",
        "group by origin\n",
        "order by sum(delay) desc limit 3\n",
        "\"\"\").show()"
      ],
      "metadata": {
        "id": "-UNJNctPcRx2",
        "outputId": "1aad3918-71cb-4601-a081-8ca261e20624",
        "colab": {
          "base_uri": "https://localhost:8080/"
        }
      },
      "execution_count": 55,
      "outputs": [
        {
          "output_type": "stream",
          "name": "stdout",
          "text": [
            "+------+\n",
            "|origin|\n",
            "+------+\n",
            "|   ORD|\n",
            "|   ATL|\n",
            "|   DEN|\n",
            "+------+\n",
            "\n"
          ]
        }
      ]
    },
    {
      "cell_type": "code",
      "source": [
        "#Find top 3 destination airport with maximum flight delay occurances\n",
        "spark.sql(\"\"\" select destination\n",
        "from delays\n",
        "group by destination\n",
        "order by sum(delay) desc limit(3)\n",
        "\"\"\").show()\n"
      ],
      "metadata": {
        "id": "0YeWikvEcR0h",
        "outputId": "d6ee5e2e-4983-4239-b9cf-fcb2e39907ff",
        "colab": {
          "base_uri": "https://localhost:8080/"
        }
      },
      "execution_count": 56,
      "outputs": [
        {
          "output_type": "stream",
          "name": "stdout",
          "text": [
            "+-----------+\n",
            "|destination|\n",
            "+-----------+\n",
            "|        ATL|\n",
            "|        ORD|\n",
            "|        DEN|\n",
            "+-----------+\n",
            "\n"
          ]
        }
      ]
    },
    {
      "cell_type": "code",
      "source": [
        "#Find the route with maximum delay occurances\n",
        "spark.sql(\"\"\"select origin, destination, max(delay)\n",
        "from delays\n",
        "group by origin,destination\n",
        "order by max(delay) desc limit 1\n",
        "\"\"\").show()"
      ],
      "metadata": {
        "id": "dUJBKTwLcR34",
        "outputId": "0c6fe567-ff54-401f-dcc7-203c2ab504db",
        "colab": {
          "base_uri": "https://localhost:8080/"
        }
      },
      "execution_count": 60,
      "outputs": [
        {
          "output_type": "stream",
          "name": "stdout",
          "text": [
            "+------+-----------+----------+\n",
            "|origin|destination|max(delay)|\n",
            "+------+-----------+----------+\n",
            "|   SMF|        SLC|       995|\n",
            "+------+-----------+----------+\n",
            "\n"
          ]
        }
      ]
    },
    {
      "cell_type": "code",
      "source": [
        "#Find the top three routes with maximum time-delay\n",
        "spark.sql(\"\"\"select *\n",
        "from delays\n",
        "order by delay desc limit 3\n",
        "\"\"\").show()"
      ],
      "metadata": {
        "id": "0OX5pSTqcR5s",
        "outputId": "08a0c9e2-e5fa-47de-808a-fc4f5dbf3d34",
        "colab": {
          "base_uri": "https://localhost:8080/"
        }
      },
      "execution_count": 62,
      "outputs": [
        {
          "output_type": "stream",
          "name": "stdout",
          "text": [
            "+--------+-----+--------+------+-----------+\n",
            "|    date|delay|distance|origin|destination|\n",
            "+--------+-----+--------+------+-----------+\n",
            "|01090600|  995|     462|   SMF|        SLC|\n",
            "|03191420|  994|    1590|   SJC|        ORD|\n",
            "|01200645|  993|     525|   MOT|        DEN|\n",
            "+--------+-----+--------+------+-----------+\n",
            "\n"
          ]
        }
      ]
    },
    {
      "cell_type": "code",
      "source": [
        "#Find the distance for top three max time-delay routes\n",
        "spark.sql(\"\"\" select * from delays\n",
        "order by distance desc limit 3\n",
        "\"\"\").show()"
      ],
      "metadata": {
        "id": "oHf6MWCxcSAy",
        "outputId": "1288b036-c9bd-4c2b-8bac-87efda5813f0",
        "colab": {
          "base_uri": "https://localhost:8080/"
        }
      },
      "execution_count": 63,
      "outputs": [
        {
          "output_type": "stream",
          "name": "stdout",
          "text": [
            "+--------+-----+--------+------+-----------+\n",
            "|    date|delay|distance|origin|destination|\n",
            "+--------+-----+--------+------+-----------+\n",
            "|02010959|   -6|     999|   PHX|        DSM|\n",
            "|01071459|   11|     999|   DSM|        PHX|\n",
            "|02020959|   -9|     999|   PHX|        DSM|\n",
            "+--------+-----+--------+------+-----------+\n",
            "\n"
          ]
        }
      ]
    },
    {
      "cell_type": "code",
      "source": [],
      "metadata": {
        "id": "t1xiJRtFa_hQ"
      },
      "execution_count": null,
      "outputs": []
    }
  ]
}